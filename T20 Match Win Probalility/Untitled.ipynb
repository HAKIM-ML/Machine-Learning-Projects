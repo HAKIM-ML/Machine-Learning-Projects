{
 "cells": [
  {
   "cell_type": "code",
   "execution_count": 1,
   "id": "a2860507",
   "metadata": {},
   "outputs": [],
   "source": [
    "import pandas as pd\n",
    "import numpy as np\n",
    "import seaborn as sns\n",
    "import matplotlib.pyplot as plt"
   ]
  },
  {
   "cell_type": "code",
   "execution_count": 5,
   "id": "b8135fa1",
   "metadata": {},
   "outputs": [],
   "source": [
    "ipl_df = pd.read_csv('Ipl_match_data.csv')\n",
    "t20_df  = pd.read_csv('ball_by_ball_it20.csv')"
   ]
  },
  {
   "cell_type": "code",
   "execution_count": 6,
   "id": "53862943",
   "metadata": {},
   "outputs": [
    {
     "data": {
      "text/html": [
       "<div>\n",
       "<style scoped>\n",
       "    .dataframe tbody tr th:only-of-type {\n",
       "        vertical-align: middle;\n",
       "    }\n",
       "\n",
       "    .dataframe tbody tr th {\n",
       "        vertical-align: top;\n",
       "    }\n",
       "\n",
       "    .dataframe thead th {\n",
       "        text-align: right;\n",
       "    }\n",
       "</style>\n",
       "<table border=\"1\" class=\"dataframe\">\n",
       "  <thead>\n",
       "    <tr style=\"text-align: right;\">\n",
       "      <th></th>\n",
       "      <th>Unnamed: 0</th>\n",
       "      <th>batting_team</th>\n",
       "      <th>bowling_team</th>\n",
       "      <th>city</th>\n",
       "      <th>runs_lef</th>\n",
       "      <th>ball_left</th>\n",
       "      <th>wickets</th>\n",
       "      <th>total_runs_x</th>\n",
       "      <th>crr</th>\n",
       "      <th>rrr</th>\n",
       "      <th>result</th>\n",
       "    </tr>\n",
       "  </thead>\n",
       "  <tbody>\n",
       "    <tr>\n",
       "      <th>0</th>\n",
       "      <td>125</td>\n",
       "      <td>Royal Challengers Bangalore</td>\n",
       "      <td>Sunrisers Hyderabad</td>\n",
       "      <td>Hyderabad</td>\n",
       "      <td>206</td>\n",
       "      <td>119</td>\n",
       "      <td>10</td>\n",
       "      <td>207</td>\n",
       "      <td>6.0</td>\n",
       "      <td>10.386555</td>\n",
       "      <td>0</td>\n",
       "    </tr>\n",
       "    <tr>\n",
       "      <th>1</th>\n",
       "      <td>126</td>\n",
       "      <td>Royal Challengers Bangalore</td>\n",
       "      <td>Sunrisers Hyderabad</td>\n",
       "      <td>Hyderabad</td>\n",
       "      <td>206</td>\n",
       "      <td>118</td>\n",
       "      <td>10</td>\n",
       "      <td>207</td>\n",
       "      <td>3.0</td>\n",
       "      <td>10.474576</td>\n",
       "      <td>0</td>\n",
       "    </tr>\n",
       "    <tr>\n",
       "      <th>2</th>\n",
       "      <td>127</td>\n",
       "      <td>Royal Challengers Bangalore</td>\n",
       "      <td>Sunrisers Hyderabad</td>\n",
       "      <td>Hyderabad</td>\n",
       "      <td>206</td>\n",
       "      <td>117</td>\n",
       "      <td>10</td>\n",
       "      <td>207</td>\n",
       "      <td>2.0</td>\n",
       "      <td>10.564103</td>\n",
       "      <td>0</td>\n",
       "    </tr>\n",
       "    <tr>\n",
       "      <th>3</th>\n",
       "      <td>128</td>\n",
       "      <td>Royal Challengers Bangalore</td>\n",
       "      <td>Sunrisers Hyderabad</td>\n",
       "      <td>Hyderabad</td>\n",
       "      <td>204</td>\n",
       "      <td>116</td>\n",
       "      <td>10</td>\n",
       "      <td>207</td>\n",
       "      <td>4.5</td>\n",
       "      <td>10.551724</td>\n",
       "      <td>0</td>\n",
       "    </tr>\n",
       "    <tr>\n",
       "      <th>4</th>\n",
       "      <td>129</td>\n",
       "      <td>Royal Challengers Bangalore</td>\n",
       "      <td>Sunrisers Hyderabad</td>\n",
       "      <td>Hyderabad</td>\n",
       "      <td>200</td>\n",
       "      <td>115</td>\n",
       "      <td>10</td>\n",
       "      <td>207</td>\n",
       "      <td>8.4</td>\n",
       "      <td>10.434783</td>\n",
       "      <td>0</td>\n",
       "    </tr>\n",
       "  </tbody>\n",
       "</table>\n",
       "</div>"
      ],
      "text/plain": [
       "   Unnamed: 0                 batting_team         bowling_team       city  \\\n",
       "0         125  Royal Challengers Bangalore  Sunrisers Hyderabad  Hyderabad   \n",
       "1         126  Royal Challengers Bangalore  Sunrisers Hyderabad  Hyderabad   \n",
       "2         127  Royal Challengers Bangalore  Sunrisers Hyderabad  Hyderabad   \n",
       "3         128  Royal Challengers Bangalore  Sunrisers Hyderabad  Hyderabad   \n",
       "4         129  Royal Challengers Bangalore  Sunrisers Hyderabad  Hyderabad   \n",
       "\n",
       "   runs_lef  ball_left  wickets  total_runs_x  crr        rrr  result  \n",
       "0       206        119       10           207  6.0  10.386555       0  \n",
       "1       206        118       10           207  3.0  10.474576       0  \n",
       "2       206        117       10           207  2.0  10.564103       0  \n",
       "3       204        116       10           207  4.5  10.551724       0  \n",
       "4       200        115       10           207  8.4  10.434783       0  "
      ]
     },
     "execution_count": 6,
     "metadata": {},
     "output_type": "execute_result"
    }
   ],
   "source": [
    "ipl_df.head()"
   ]
  },
  {
   "cell_type": "code",
   "execution_count": 12,
   "id": "38bf3b81",
   "metadata": {},
   "outputs": [],
   "source": [
    "pd.set_option('display.max_columns',None)"
   ]
  },
  {
   "cell_type": "code",
   "execution_count": 13,
   "id": "b86b6a51",
   "metadata": {},
   "outputs": [
    {
     "data": {
      "text/html": [
       "<div>\n",
       "<style scoped>\n",
       "    .dataframe tbody tr th:only-of-type {\n",
       "        vertical-align: middle;\n",
       "    }\n",
       "\n",
       "    .dataframe tbody tr th {\n",
       "        vertical-align: top;\n",
       "    }\n",
       "\n",
       "    .dataframe thead th {\n",
       "        text-align: right;\n",
       "    }\n",
       "</style>\n",
       "<table border=\"1\" class=\"dataframe\">\n",
       "  <thead>\n",
       "    <tr style=\"text-align: right;\">\n",
       "      <th></th>\n",
       "      <th>Unnamed: 0</th>\n",
       "      <th>Match ID</th>\n",
       "      <th>Date</th>\n",
       "      <th>Venue</th>\n",
       "      <th>Bat First</th>\n",
       "      <th>Bat Second</th>\n",
       "      <th>Innings</th>\n",
       "      <th>Over</th>\n",
       "      <th>Ball</th>\n",
       "      <th>Batter</th>\n",
       "      <th>Non Striker</th>\n",
       "      <th>Bowler</th>\n",
       "      <th>Batter Runs</th>\n",
       "      <th>Extra Runs</th>\n",
       "      <th>Runs From Ball</th>\n",
       "      <th>Ball Rebowled</th>\n",
       "      <th>Extra Type</th>\n",
       "      <th>Wicket</th>\n",
       "      <th>Method</th>\n",
       "      <th>Player Out</th>\n",
       "      <th>Innings Runs</th>\n",
       "      <th>Innings Wickets</th>\n",
       "      <th>Target Score</th>\n",
       "      <th>Runs to Get</th>\n",
       "      <th>Balls Remaining</th>\n",
       "      <th>Winner</th>\n",
       "      <th>Chased Successfully</th>\n",
       "      <th>Total Batter Runs</th>\n",
       "      <th>Total Non Striker Runs</th>\n",
       "      <th>Batter Balls Faced</th>\n",
       "      <th>Non Striker Balls Faced</th>\n",
       "      <th>Player Out Runs</th>\n",
       "      <th>Player Out Balls Faced</th>\n",
       "      <th>Bowler Runs Conceded</th>\n",
       "      <th>Valid Ball</th>\n",
       "    </tr>\n",
       "  </thead>\n",
       "  <tbody>\n",
       "    <tr>\n",
       "      <th>0</th>\n",
       "      <td>0</td>\n",
       "      <td>1339605</td>\n",
       "      <td>2023-03-26</td>\n",
       "      <td>SuperSport Park</td>\n",
       "      <td>West Indies</td>\n",
       "      <td>South Africa</td>\n",
       "      <td>1</td>\n",
       "      <td>1</td>\n",
       "      <td>1</td>\n",
       "      <td>BA King</td>\n",
       "      <td>KR Mayers</td>\n",
       "      <td>WD Parnell</td>\n",
       "      <td>1</td>\n",
       "      <td>0</td>\n",
       "      <td>1</td>\n",
       "      <td>0</td>\n",
       "      <td>[]</td>\n",
       "      <td>0</td>\n",
       "      <td>NaN</td>\n",
       "      <td>NaN</td>\n",
       "      <td>1</td>\n",
       "      <td>0</td>\n",
       "      <td>259</td>\n",
       "      <td>NaN</td>\n",
       "      <td>119</td>\n",
       "      <td>South Africa</td>\n",
       "      <td>1</td>\n",
       "      <td>1</td>\n",
       "      <td>0</td>\n",
       "      <td>1</td>\n",
       "      <td>0</td>\n",
       "      <td>NaN</td>\n",
       "      <td>NaN</td>\n",
       "      <td>1</td>\n",
       "      <td>1</td>\n",
       "    </tr>\n",
       "    <tr>\n",
       "      <th>1</th>\n",
       "      <td>1</td>\n",
       "      <td>1339605</td>\n",
       "      <td>2023-03-26</td>\n",
       "      <td>SuperSport Park</td>\n",
       "      <td>West Indies</td>\n",
       "      <td>South Africa</td>\n",
       "      <td>1</td>\n",
       "      <td>1</td>\n",
       "      <td>2</td>\n",
       "      <td>KR Mayers</td>\n",
       "      <td>BA King</td>\n",
       "      <td>WD Parnell</td>\n",
       "      <td>1</td>\n",
       "      <td>0</td>\n",
       "      <td>1</td>\n",
       "      <td>0</td>\n",
       "      <td>[]</td>\n",
       "      <td>0</td>\n",
       "      <td>NaN</td>\n",
       "      <td>NaN</td>\n",
       "      <td>2</td>\n",
       "      <td>0</td>\n",
       "      <td>259</td>\n",
       "      <td>NaN</td>\n",
       "      <td>118</td>\n",
       "      <td>South Africa</td>\n",
       "      <td>1</td>\n",
       "      <td>1</td>\n",
       "      <td>1</td>\n",
       "      <td>1</td>\n",
       "      <td>1</td>\n",
       "      <td>NaN</td>\n",
       "      <td>NaN</td>\n",
       "      <td>1</td>\n",
       "      <td>1</td>\n",
       "    </tr>\n",
       "    <tr>\n",
       "      <th>2</th>\n",
       "      <td>2</td>\n",
       "      <td>1339605</td>\n",
       "      <td>2023-03-26</td>\n",
       "      <td>SuperSport Park</td>\n",
       "      <td>West Indies</td>\n",
       "      <td>South Africa</td>\n",
       "      <td>1</td>\n",
       "      <td>1</td>\n",
       "      <td>3</td>\n",
       "      <td>BA King</td>\n",
       "      <td>KR Mayers</td>\n",
       "      <td>WD Parnell</td>\n",
       "      <td>0</td>\n",
       "      <td>0</td>\n",
       "      <td>0</td>\n",
       "      <td>0</td>\n",
       "      <td>[]</td>\n",
       "      <td>1</td>\n",
       "      <td>caught</td>\n",
       "      <td>BA King</td>\n",
       "      <td>2</td>\n",
       "      <td>1</td>\n",
       "      <td>259</td>\n",
       "      <td>NaN</td>\n",
       "      <td>117</td>\n",
       "      <td>South Africa</td>\n",
       "      <td>1</td>\n",
       "      <td>0</td>\n",
       "      <td>1</td>\n",
       "      <td>0</td>\n",
       "      <td>1</td>\n",
       "      <td>1.0</td>\n",
       "      <td>2.0</td>\n",
       "      <td>0</td>\n",
       "      <td>1</td>\n",
       "    </tr>\n",
       "    <tr>\n",
       "      <th>3</th>\n",
       "      <td>3</td>\n",
       "      <td>1339605</td>\n",
       "      <td>2023-03-26</td>\n",
       "      <td>SuperSport Park</td>\n",
       "      <td>West Indies</td>\n",
       "      <td>South Africa</td>\n",
       "      <td>1</td>\n",
       "      <td>1</td>\n",
       "      <td>4</td>\n",
       "      <td>J Charles</td>\n",
       "      <td>KR Mayers</td>\n",
       "      <td>WD Parnell</td>\n",
       "      <td>0</td>\n",
       "      <td>0</td>\n",
       "      <td>0</td>\n",
       "      <td>0</td>\n",
       "      <td>[]</td>\n",
       "      <td>0</td>\n",
       "      <td>NaN</td>\n",
       "      <td>NaN</td>\n",
       "      <td>2</td>\n",
       "      <td>1</td>\n",
       "      <td>259</td>\n",
       "      <td>NaN</td>\n",
       "      <td>116</td>\n",
       "      <td>South Africa</td>\n",
       "      <td>1</td>\n",
       "      <td>0</td>\n",
       "      <td>1</td>\n",
       "      <td>1</td>\n",
       "      <td>1</td>\n",
       "      <td>NaN</td>\n",
       "      <td>NaN</td>\n",
       "      <td>0</td>\n",
       "      <td>1</td>\n",
       "    </tr>\n",
       "    <tr>\n",
       "      <th>4</th>\n",
       "      <td>4</td>\n",
       "      <td>1339605</td>\n",
       "      <td>2023-03-26</td>\n",
       "      <td>SuperSport Park</td>\n",
       "      <td>West Indies</td>\n",
       "      <td>South Africa</td>\n",
       "      <td>1</td>\n",
       "      <td>1</td>\n",
       "      <td>5</td>\n",
       "      <td>J Charles</td>\n",
       "      <td>KR Mayers</td>\n",
       "      <td>WD Parnell</td>\n",
       "      <td>4</td>\n",
       "      <td>0</td>\n",
       "      <td>4</td>\n",
       "      <td>0</td>\n",
       "      <td>[]</td>\n",
       "      <td>0</td>\n",
       "      <td>NaN</td>\n",
       "      <td>NaN</td>\n",
       "      <td>6</td>\n",
       "      <td>1</td>\n",
       "      <td>259</td>\n",
       "      <td>NaN</td>\n",
       "      <td>115</td>\n",
       "      <td>South Africa</td>\n",
       "      <td>1</td>\n",
       "      <td>4</td>\n",
       "      <td>1</td>\n",
       "      <td>2</td>\n",
       "      <td>1</td>\n",
       "      <td>NaN</td>\n",
       "      <td>NaN</td>\n",
       "      <td>4</td>\n",
       "      <td>1</td>\n",
       "    </tr>\n",
       "  </tbody>\n",
       "</table>\n",
       "</div>"
      ],
      "text/plain": [
       "   Unnamed: 0  Match ID        Date            Venue    Bat First  \\\n",
       "0           0   1339605  2023-03-26  SuperSport Park  West Indies   \n",
       "1           1   1339605  2023-03-26  SuperSport Park  West Indies   \n",
       "2           2   1339605  2023-03-26  SuperSport Park  West Indies   \n",
       "3           3   1339605  2023-03-26  SuperSport Park  West Indies   \n",
       "4           4   1339605  2023-03-26  SuperSport Park  West Indies   \n",
       "\n",
       "     Bat Second  Innings  Over  Ball     Batter Non Striker      Bowler  \\\n",
       "0  South Africa        1     1     1    BA King   KR Mayers  WD Parnell   \n",
       "1  South Africa        1     1     2  KR Mayers     BA King  WD Parnell   \n",
       "2  South Africa        1     1     3    BA King   KR Mayers  WD Parnell   \n",
       "3  South Africa        1     1     4  J Charles   KR Mayers  WD Parnell   \n",
       "4  South Africa        1     1     5  J Charles   KR Mayers  WD Parnell   \n",
       "\n",
       "   Batter Runs  Extra Runs  Runs From Ball  Ball Rebowled Extra Type  Wicket  \\\n",
       "0            1           0               1              0         []       0   \n",
       "1            1           0               1              0         []       0   \n",
       "2            0           0               0              0         []       1   \n",
       "3            0           0               0              0         []       0   \n",
       "4            4           0               4              0         []       0   \n",
       "\n",
       "   Method Player Out  Innings Runs  Innings Wickets  Target Score  \\\n",
       "0     NaN        NaN             1                0           259   \n",
       "1     NaN        NaN             2                0           259   \n",
       "2  caught    BA King             2                1           259   \n",
       "3     NaN        NaN             2                1           259   \n",
       "4     NaN        NaN             6                1           259   \n",
       "\n",
       "   Runs to Get  Balls Remaining        Winner  Chased Successfully  \\\n",
       "0          NaN              119  South Africa                    1   \n",
       "1          NaN              118  South Africa                    1   \n",
       "2          NaN              117  South Africa                    1   \n",
       "3          NaN              116  South Africa                    1   \n",
       "4          NaN              115  South Africa                    1   \n",
       "\n",
       "   Total Batter Runs  Total Non Striker Runs  Batter Balls Faced  \\\n",
       "0                  1                       0                   1   \n",
       "1                  1                       1                   1   \n",
       "2                  0                       1                   0   \n",
       "3                  0                       1                   1   \n",
       "4                  4                       1                   2   \n",
       "\n",
       "   Non Striker Balls Faced  Player Out Runs  Player Out Balls Faced  \\\n",
       "0                        0              NaN                     NaN   \n",
       "1                        1              NaN                     NaN   \n",
       "2                        1              1.0                     2.0   \n",
       "3                        1              NaN                     NaN   \n",
       "4                        1              NaN                     NaN   \n",
       "\n",
       "   Bowler Runs Conceded  Valid Ball  \n",
       "0                     1           1  \n",
       "1                     1           1  \n",
       "2                     0           1  \n",
       "3                     0           1  \n",
       "4                     4           1  "
      ]
     },
     "execution_count": 13,
     "metadata": {},
     "output_type": "execute_result"
    }
   ],
   "source": [
    "t20_df.head()"
   ]
  },
  {
   "cell_type": "code",
   "execution_count": 14,
   "id": "6e3fbfc2",
   "metadata": {},
   "outputs": [
    {
     "data": {
      "text/plain": [
       "array(['Royal Challengers Bangalore', 'Mumbai Indians', 'Kings XI Punjab',\n",
       "       'Kolkata Knight Riders', 'Sunrisers Hyderabad', 'Rajasthan Royals',\n",
       "       'Chennai Super Kings', 'Deccan Chargers', 'Delhi Capitals'],\n",
       "      dtype=object)"
      ]
     },
     "execution_count": 14,
     "metadata": {},
     "output_type": "execute_result"
    }
   ],
   "source": [
    "ipl_df['batting_team'].unique()"
   ]
  },
  {
   "cell_type": "code",
   "execution_count": 15,
   "id": "dbde1fdf",
   "metadata": {},
   "outputs": [
    {
     "data": {
      "text/plain": [
       "array(['West Indies', 'Scotland', 'Estonia', 'Portugal', 'Kuwait',\n",
       "       'Sri Lanka', 'Swaziland', 'Belize', 'England',\n",
       "       'United Arab Emirates', 'Denmark', 'Bangladesh', 'Finland',\n",
       "       'India', 'Papua New Guinea', 'Afghanistan', 'Japan', 'Croatia',\n",
       "       'Netherlands', 'Ireland', 'New Zealand', 'Romania', 'Pakistan',\n",
       "       'Gibraltar', 'Rwanda', 'Malaysia', 'Malta', 'Cyprus', 'Nepal',\n",
       "       'Austria', 'Samoa', 'Nigeria', 'South Africa', 'Australia',\n",
       "       'Belgium', 'Oman', 'Bahamas', 'Seychelles', 'Panama', 'Jersey',\n",
       "       'Zimbabwe', 'Hong Kong', 'Kenya', 'China', 'Uganda', 'Botswana',\n",
       "       'Ghana', 'Vanuatu', 'Cayman Islands', 'Bahrain', 'Malawi',\n",
       "       'Isle of Man', 'Cameroon', 'Norway', 'Singapore', 'Maldives',\n",
       "       'Hungary', 'Canada', 'St Helena', 'Tanzania', 'Serbia', 'Namibia',\n",
       "       'Philippines', 'Germany', 'Bulgaria', 'Thailand', 'Lesotho',\n",
       "       'Czech Republic', 'Luxembourg', 'Spain', 'Mali', 'Bhutan',\n",
       "       'Slovenia', 'Indonesia', 'Argentina', 'Bermuda', 'Sweden', 'Fiji',\n",
       "       'France', 'Turkey', 'Mozambique', 'Qatar', 'Italy', 'Gambia',\n",
       "       'Cook Islands', 'Guernsey', 'Sierra Leone',\n",
       "       'United States of America', 'Israel', 'Switzerland', 'Myanmar',\n",
       "       'Saudi Arabia', 'South Korea', 'Iran', 'Eswatini', 'Greece'],\n",
       "      dtype=object)"
      ]
     },
     "execution_count": 15,
     "metadata": {},
     "output_type": "execute_result"
    }
   ],
   "source": [
    "t20_df['Bat First'].unique()"
   ]
  },
  {
   "cell_type": "code",
   "execution_count": 19,
   "id": "c8a32134",
   "metadata": {},
   "outputs": [
    {
     "name": "stderr",
     "output_type": "stream",
     "text": [
      "C:\\Users\\Ghost Codm\\AppData\\Local\\Packages\\PythonSoftwareFoundation.Python.3.11_qbz5n2kfra8p0\\LocalCache\\local-packages\\Python311\\site-packages\\seaborn\\_oldcore.py:1498: FutureWarning: is_categorical_dtype is deprecated and will be removed in a future version. Use isinstance(dtype, CategoricalDtype) instead\n",
      "  if pd.api.types.is_categorical_dtype(vector):\n",
      "C:\\Users\\Ghost Codm\\AppData\\Local\\Packages\\PythonSoftwareFoundation.Python.3.11_qbz5n2kfra8p0\\LocalCache\\local-packages\\Python311\\site-packages\\seaborn\\_oldcore.py:1498: FutureWarning: is_categorical_dtype is deprecated and will be removed in a future version. Use isinstance(dtype, CategoricalDtype) instead\n",
      "  if pd.api.types.is_categorical_dtype(vector):\n",
      "C:\\Users\\Ghost Codm\\AppData\\Local\\Packages\\PythonSoftwareFoundation.Python.3.11_qbz5n2kfra8p0\\LocalCache\\local-packages\\Python311\\site-packages\\seaborn\\_oldcore.py:1498: FutureWarning: is_categorical_dtype is deprecated and will be removed in a future version. Use isinstance(dtype, CategoricalDtype) instead\n",
      "  if pd.api.types.is_categorical_dtype(vector):\n",
      "C:\\Users\\Ghost Codm\\AppData\\Local\\Packages\\PythonSoftwareFoundation.Python.3.11_qbz5n2kfra8p0\\LocalCache\\local-packages\\Python311\\site-packages\\seaborn\\_oldcore.py:1498: FutureWarning: is_categorical_dtype is deprecated and will be removed in a future version. Use isinstance(dtype, CategoricalDtype) instead\n",
      "  if pd.api.types.is_categorical_dtype(vector):\n"
     ]
    },
    {
     "data": {
      "image/png": "[encoded data removed]",
      "text/plain": [
       "<Figure size 1000x500 with 1 Axes>"
      ]
     },
     "metadata": {},
     "output_type": "display_data"
    }
   ],
   "source": [
    "plt.figure(figsize=(10,5))\n",
    "sns.countplot(x=ipl_df['batting_team'],hue=ipl_df['result'],data=ipl_df)\n",
    "plt.xticks(rotation='vertical')\n",
    "plt.show()"
   ]
  },
  {
   "cell_type": "code",
   "execution_count": 21,
   "id": "9b4dbb18",
   "metadata": {},
   "outputs": [],
   "source": [
    "ipl_df['batting_team'] = ipl_df['batting_team'].replace('Chennai Super Kings','India')\n",
    "ipl_df['batting_team'] = ipl_df['batting_team'].replace('Mumbai Indians','England')\n",
    "ipl_df['batting_team'] = ipl_df['batting_team'].replace('Kolkata Knight Riders','New Zealand')\n",
    "ipl_df['batting_team'] = ipl_df['batting_team'].replace('Kings XI Punjab','Australia')\n",
    "ipl_df['batting_team'] = ipl_df['batting_team'].replace('Royal Challengers Bangalore','Pakistan')\n",
    "ipl_df['batting_team'] = ipl_df['batting_team'].replace('Rajasthan Royals','South Africa')\n",
    "ipl_df['batting_team'] = ipl_df['batting_team'].replace('Sunrisers Hyderabad','West Indies')\n",
    "ipl_df['batting_team'] = ipl_df['batting_team'].replace('Deccan Chargers','Sri Lanka')\n",
    "ipl_df['batting_team'] = ipl_df['batting_team'].replace('Delhi Capitals','Bangladesh')"
   ]
  },
  {
   "cell_type": "code",
   "execution_count": 22,
   "id": "f168e5ce",
   "metadata": {},
   "outputs": [],
   "source": [
    "ipl_df['bowling_team'] = ipl_df['bowling_team'].replace('Chennai Super Kings','India')\n",
    "ipl_df['bowling_team'] = ipl_df['bowling_team'].replace('Mumbai Indians','England')\n",
    "ipl_df['bowling_team'] = ipl_df['bowling_team'].replace('Kolkata Knight Riders','New Zealand')\n",
    "ipl_df['bowling_team'] = ipl_df['bowling_team'].replace('Kings XI Punjab','Australia')\n",
    "ipl_df['bowling_team'] = ipl_df['bowling_team'].replace('Royal Challengers Bangalore','Pakistan')\n",
    "ipl_df['bowling_team'] = ipl_df['bowling_team'].replace('Rajasthan Royals','South Africa')\n",
    "ipl_df['bowling_team'] = ipl_df['bowling_team'].replace('Sunrisers Hyderabad','West Indies')\n",
    "ipl_df['bowling_team'] = ipl_df['bowling_team'].replace('Deccan Chargers','Sri Lanka')\n",
    "ipl_df['bowling_team'] = ipl_df['bowling_team'].replace('Delhi Capitals','Bangladesh')"
   ]
  },
  {
   "cell_type": "code",
   "execution_count": 23,
   "id": "ccef03dc",
   "metadata": {},
   "outputs": [
    {
     "data": {
      "text/plain": [
       "array(['West Indies', 'New Zealand', 'Pakistan', 'Australia', 'England',\n",
       "       'India', 'South Africa', 'Bangladesh'], dtype=object)"
      ]
     },
     "execution_count": 23,
     "metadata": {},
     "output_type": "execute_result"
    }
   ],
   "source": [
    "ipl_df['bowling_team'].unique()"
   ]
  },
  {
   "cell_type": "code",
   "execution_count": 24,
   "id": "efecf11f",
   "metadata": {},
   "outputs": [
    {
     "data": {
      "text/plain": [
       "array(['Pakistan', 'England', 'Australia', 'New Zealand', 'West Indies',\n",
       "       'South Africa', 'India', 'Sri Lanka', 'Bangladesh'], dtype=object)"
      ]
     },
     "execution_count": 24,
     "metadata": {},
     "output_type": "execute_result"
    }
   ],
   "source": [
    "ipl_df['batting_team'].unique()"
   ]
  },
  {
   "cell_type": "code",
   "execution_count": 25,
   "id": "a937e928",
   "metadata": {},
   "outputs": [
    {
     "data": {
      "text/html": [
       "<div>\n",
       "<style scoped>\n",
       "    .dataframe tbody tr th:only-of-type {\n",
       "        vertical-align: middle;\n",
       "    }\n",
       "\n",
       "    .dataframe tbody tr th {\n",
       "        vertical-align: top;\n",
       "    }\n",
       "\n",
       "    .dataframe thead th {\n",
       "        text-align: right;\n",
       "    }\n",
       "</style>\n",
       "<table border=\"1\" class=\"dataframe\">\n",
       "  <thead>\n",
       "    <tr style=\"text-align: right;\">\n",
       "      <th></th>\n",
       "      <th>Unnamed: 0</th>\n",
       "      <th>batting_team</th>\n",
       "      <th>bowling_team</th>\n",
       "      <th>city</th>\n",
       "      <th>runs_lef</th>\n",
       "      <th>ball_left</th>\n",
       "      <th>wickets</th>\n",
       "      <th>total_runs_x</th>\n",
       "      <th>crr</th>\n",
       "      <th>rrr</th>\n",
       "      <th>result</th>\n",
       "    </tr>\n",
       "  </thead>\n",
       "  <tbody>\n",
       "    <tr>\n",
       "      <th>0</th>\n",
       "      <td>125</td>\n",
       "      <td>Pakistan</td>\n",
       "      <td>West Indies</td>\n",
       "      <td>Hyderabad</td>\n",
       "      <td>206</td>\n",
       "      <td>119</td>\n",
       "      <td>10</td>\n",
       "      <td>207</td>\n",
       "      <td>6.0</td>\n",
       "      <td>10.386555</td>\n",
       "      <td>0</td>\n",
       "    </tr>\n",
       "    <tr>\n",
       "      <th>1</th>\n",
       "      <td>126</td>\n",
       "      <td>Pakistan</td>\n",
       "      <td>West Indies</td>\n",
       "      <td>Hyderabad</td>\n",
       "      <td>206</td>\n",
       "      <td>118</td>\n",
       "      <td>10</td>\n",
       "      <td>207</td>\n",
       "      <td>3.0</td>\n",
       "      <td>10.474576</td>\n",
       "      <td>0</td>\n",
       "    </tr>\n",
       "    <tr>\n",
       "      <th>2</th>\n",
       "      <td>127</td>\n",
       "      <td>Pakistan</td>\n",
       "      <td>West Indies</td>\n",
       "      <td>Hyderabad</td>\n",
       "      <td>206</td>\n",
       "      <td>117</td>\n",
       "      <td>10</td>\n",
       "      <td>207</td>\n",
       "      <td>2.0</td>\n",
       "      <td>10.564103</td>\n",
       "      <td>0</td>\n",
       "    </tr>\n",
       "    <tr>\n",
       "      <th>3</th>\n",
       "      <td>128</td>\n",
       "      <td>Pakistan</td>\n",
       "      <td>West Indies</td>\n",
       "      <td>Hyderabad</td>\n",
       "      <td>204</td>\n",
       "      <td>116</td>\n",
       "      <td>10</td>\n",
       "      <td>207</td>\n",
       "      <td>4.5</td>\n",
       "      <td>10.551724</td>\n",
       "      <td>0</td>\n",
       "    </tr>\n",
       "    <tr>\n",
       "      <th>4</th>\n",
       "      <td>129</td>\n",
       "      <td>Pakistan</td>\n",
       "      <td>West Indies</td>\n",
       "      <td>Hyderabad</td>\n",
       "      <td>200</td>\n",
       "      <td>115</td>\n",
       "      <td>10</td>\n",
       "      <td>207</td>\n",
       "      <td>8.4</td>\n",
       "      <td>10.434783</td>\n",
       "      <td>0</td>\n",
       "    </tr>\n",
       "  </tbody>\n",
       "</table>\n",
       "</div>"
      ],
      "text/plain": [
       "   Unnamed: 0 batting_team bowling_team       city  runs_lef  ball_left  \\\n",
       "0         125     Pakistan  West Indies  Hyderabad       206        119   \n",
       "1         126     Pakistan  West Indies  Hyderabad       206        118   \n",
       "2         127     Pakistan  West Indies  Hyderabad       206        117   \n",
       "3         128     Pakistan  West Indies  Hyderabad       204        116   \n",
       "4         129     Pakistan  West Indies  Hyderabad       200        115   \n",
       "\n",
       "   wickets  total_runs_x  crr        rrr  result  \n",
       "0       10           207  6.0  10.386555       0  \n",
       "1       10           207  3.0  10.474576       0  \n",
       "2       10           207  2.0  10.564103       0  \n",
       "3       10           207  4.5  10.551724       0  \n",
       "4       10           207  8.4  10.434783       0  "
      ]
     },
     "execution_count": 25,
     "metadata": {},
     "output_type": "execute_result"
    }
   ],
   "source": [
    "ipl_df.head()"
   ]
  },
  {
   "cell_type": "code",
   "execution_count": 26,
   "id": "062cf724",
   "metadata": {},
   "outputs": [
    {
     "data": {
      "text/plain": [
       "array(['Hyderabad', 'Mumbai', 'Indore', 'Kolkata', 'Bangalore',\n",
       "       'Chandigarh', 'Jaipur', 'Chennai', 'Cape Town', 'Port Elizabeth',\n",
       "       'Durban', 'Centurion', 'East London', 'Johannesburg', 'Kimberley',\n",
       "       'Ahmedabad', 'Nagpur', 'Dharamsala', 'Visakhapatnam', 'Ranchi',\n",
       "       'Delhi', 'Abu Dhabi', nan, 'Sharjah', 'Cuttack', 'Pune',\n",
       "       'Bengaluru', 'Mohali'], dtype=object)"
      ]
     },
     "execution_count": 26,
     "metadata": {},
     "output_type": "execute_result"
    }
   ],
   "source": [
    "ipl_df['city'].unique()"
   ]
  },
  {
   "cell_type": "code",
   "execution_count": 27,
   "id": "7417b2f3",
   "metadata": {},
   "outputs": [
    {
     "data": {
      "text/plain": [
       "0         SuperSport Park\n",
       "1         SuperSport Park\n",
       "2         SuperSport Park\n",
       "3         SuperSport Park\n",
       "4         SuperSport Park\n",
       "               ...       \n",
       "425114        Saxton Oval\n",
       "425115        Saxton Oval\n",
       "425116        Saxton Oval\n",
       "425117        Saxton Oval\n",
       "425118        Saxton Oval\n",
       "Name: Venue, Length: 425119, dtype: object"
      ]
     },
     "execution_count": 27,
     "metadata": {},
     "output_type": "execute_result"
    }
   ],
   "source": [
    "t20_df['Venue']"
   ]
  },
  {
   "cell_type": "code",
   "execution_count": 30,
   "id": "1a0c16cc",
   "metadata": {},
   "outputs": [
    {
     "data": {
      "text/plain": [
       "Index(['Unnamed: 0', 'Match ID', 'Date', 'Venue', 'Bat First', 'Bat Second',\n",
       "       'Innings', 'Over', 'Ball', 'Batter', 'Non Striker', 'Bowler',\n",
       "       'Batter Runs', 'Extra Runs', 'Runs From Ball', 'Ball Rebowled',\n",
       "       'Extra Type', 'Wicket', 'Method', 'Player Out', 'Innings Runs',\n",
       "       'Innings Wickets', 'Target Score', 'Runs to Get', 'Balls Remaining',\n",
       "       'Winner', 'Chased Successfully', 'Total Batter Runs',\n",
       "       'Total Non Striker Runs', 'Batter Balls Faced',\n",
       "       'Non Striker Balls Faced', 'Player Out Runs', 'Player Out Balls Faced',\n",
       "       'Bowler Runs Conceded', 'Valid Ball'],\n",
       "      dtype='object')"
      ]
     },
     "execution_count": 30,
     "metadata": {},
     "output_type": "execute_result"
    }
   ],
   "source": [
    "t20_df.columns"
   ]
  },
  {
   "cell_type": "code",
   "execution_count": 46,
   "id": "788b44f2",
   "metadata": {},
   "outputs": [
    {
     "name": "stdout",
     "output_type": "stream",
     "text": [
      "Venue Cities for the specified teams:\n",
      "['SuperSport Park' \"Lord's\" 'Bellerive Oval'\n",
      " 'Pallekele International Cricket Stadium' 'R Premadasa Stadium'\n",
      " 'Shere Bangla National Stadium' 'Civil Service Cricket Club'\n",
      " 'Gaddafi Stadium' 'Sydney Cricket Ground' 'Hagley Oval' 'The Rose Bowl'\n",
      " 'Coolidge Cricket Ground' 'Saurashtra Cricket Association Stadium'\n",
      " 'Wankhede Stadium' 'Beausejour Stadium'\n",
      " 'Dubai International Cricket Stadium' 'Arun Jaitley Stadium'\n",
      " 'Kensington Oval' 'Manuka Oval' 'Sophia Gardens' 'Zayed Cricket Stadium'\n",
      " 'Adelaide Oval' 'Trent Bridge' 'Newlands'\n",
      " 'JSCA International Stadium Complex' 'Old Trafford'\n",
      " 'Greenfield International Stadium' 'Sharjah Cricket Stadium'\n",
      " 'Holkar Cricket Stadium' 'MA Chidambaram Stadium' 'Providence Stadium'\n",
      " 'Harare Sports Club' 'Sheikh Zayed Stadium' 'National Stadium'\n",
      " 'Arnos Vale Ground' 'New Wanderers Stadium' 'Eden Park' 'County Ground'\n",
      " 'M.Chinnaswamy Stadium' 'Riverside Ground' 'Sheikh Abu Naser Stadium'\n",
      " 'Western Australia Cricket Association Ground' 'Kingsmead' 'McLean Park'\n",
      " 'National Cricket Stadium' 'Kennington Oval' 'Seddon Park'\n",
      " 'Vidarbha Cricket Association Stadium' \"St George's Park\"\n",
      " 'Mahinda Rajapaksa International Cricket Stadium'\n",
      " 'Punjab Cricket Association Stadium' 'Melbourne Cricket Ground'\n",
      " 'Eden Gardens' 'The Wanderers Stadium'\n",
      " 'Maharashtra Cricket Association Stadium'\n",
      " 'Rajiv Gandhi International Stadium' \"Queen's Park Oval\"\n",
      " 'Punjab Cricket Association IS Bindra Stadium' 'The Village'\n",
      " 'Westpac Stadium' 'Central Broward Regional Park Stadium Turf Ground'\n",
      " 'M Chinnaswamy Stadium' 'Stadium Australia' 'Windsor Park'\n",
      " 'Sportpark Westvliet' 'Perth Stadium' 'GMHBA Stadium'\n",
      " 'Rajiv Gandhi International Cricket Stadium'\n",
      " 'Zahur Ahmed Chowdhury Stadium' 'Green Park' 'Subrata Roy Sahara Stadium'\n",
      " 'Bay Oval' 'Boland Park' 'Edgbaston' 'Narendra Modi Stadium'\n",
      " 'Bharat Ratna Shri Atal Bihari Vajpayee Ekana Cricket Stadium'\n",
      " 'R.Premadasa Stadium' 'Brisbane Cricket Ground' 'Buffalo Park'\n",
      " 'Carrara Oval' 'Sawai Mansingh Stadium' 'Malahide' 'Sabina Park'\n",
      " 'Barabati Stadium' 'Headingley'\n",
      " 'Himachal Pradesh Cricket Association Stadium'\n",
      " 'Sir Vivian Richards Stadium' 'Grange Cricket Club Ground'\n",
      " 'Darren Sammy National Cricket Stadium' 'Grange Cricket Club'\n",
      " 'Simonds Stadium' 'Feroz Shah Kotla' 'Senwes Park'\n",
      " 'Dr. Y.S. Rajasekhara Reddy ACA-VDCA Cricket Stadium'\n",
      " 'Rawalpindi Cricket Stadium' 'AMI Stadium' 'Queens Sports Club'\n",
      " 'Moses Mabhida Stadium' 'Warner Park' 'Mangaung Oval'\n",
      " 'Sardar Patel Stadium' 'John Davies Oval' 'University Oval'\n",
      " 'Jade Stadium' 'Brian Lara Stadium'\n",
      " 'Sylhet International Cricket Stadium'\n",
      " 'Al Amerat Cricket Ground Oman Cricket (Ministry Turf 1)'\n",
      " 'Brabourne Stadium' 'Sky Stadium' 'Maple Leaf North-West Ground'\n",
      " 'Gymkhana Club Ground' 'Barsapara Cricket Stadium' 'Saxton Oval'\n",
      " 'De Beers Diamond Oval']\n"
     ]
    }
   ],
   "source": [
    "# Assuming df is your DataFrame with the T20 match dataset\n",
    "\n",
    "# List of teams you're interested in\n",
    "teams_of_interest = ['Pakistan', 'England', 'Australia', 'New Zealand', 'West Indies', 'South Africa', 'India', 'Sri Lanka', 'Bangladesh']\n",
    "\n",
    "# Filter rows based on the teams of interest\n",
    "filtered_df = t20_df[t20_df['Bat First'].isin(teams_of_interest)]\n",
    "\n",
    "# Display venue city names\n",
    "venue_cities = filtered_df['Venue'].unique()\n",
    "print(\"Venue Cities for the specified teams:\")\n",
    "print(venue_cities)\n"
   ]
  },
  {
   "cell_type": "code",
   "execution_count": 33,
   "id": "2d9fa223",
   "metadata": {},
   "outputs": [],
   "source": [
    "ipl_df['city'] = ipl_df['city'].apply(lambda x: random.choice(venue_cities) if x in venue_cities else x)\n"
   ]
  },
  {
   "cell_type": "code",
   "execution_count": 34,
   "id": "c6974775",
   "metadata": {},
   "outputs": [
    {
     "data": {
      "text/plain": [
       "array(['Hyderabad', 'Mumbai', 'Indore', 'Kolkata', 'Bangalore',\n",
       "       'Chandigarh', 'Jaipur', 'Chennai', 'Cape Town', 'Port Elizabeth',\n",
       "       'Durban', 'Centurion', 'East London', 'Johannesburg', 'Kimberley',\n",
       "       'Ahmedabad', 'Nagpur', 'Dharamsala', 'Visakhapatnam', 'Ranchi',\n",
       "       'Delhi', 'Abu Dhabi', nan, 'Sharjah', 'Cuttack', 'Pune',\n",
       "       'Bengaluru', 'Mohali'], dtype=object)"
      ]
     },
     "execution_count": 34,
     "metadata": {},
     "output_type": "execute_result"
    }
   ],
   "source": [
    "ipl_df['city'].unique()"
   ]
  },
  {
   "cell_type": "code",
   "execution_count": 36,
   "id": "16391a66",
   "metadata": {},
   "outputs": [
    {
     "data": {
      "text/plain": [
       "city\n",
       "Mumbai            8278\n",
       "Kolkata           6861\n",
       "Chennai           5388\n",
       "Bangalore         4953\n",
       "Hyderabad         4816\n",
       "Jaipur            4169\n",
       "Chandigarh        3824\n",
       "Bengaluru         1499\n",
       "Durban            1234\n",
       "Delhi             1179\n",
       "Mohali            1088\n",
       "Ahmedabad         1068\n",
       "Pune               944\n",
       "Ranchi             711\n",
       "Centurion          688\n",
       "Abu Dhabi          680\n",
       "Visakhapatnam      679\n",
       "Indore             595\n",
       "Dharamsala         570\n",
       "Port Elizabeth     565\n",
       "Cape Town          557\n",
       "Johannesburg       479\n",
       "Sharjah            477\n",
       "Cuttack            350\n",
       "Nagpur             247\n",
       "East London        218\n",
       "Kimberley          116\n",
       "Name: count, dtype: int64"
      ]
     },
     "execution_count": 36,
     "metadata": {},
     "output_type": "execute_result"
    }
   ],
   "source": [
    "ipl_df['city'].value_counts()"
   ]
  },
  {
   "cell_type": "code",
   "execution_count": 47,
   "id": "98481792",
   "metadata": {},
   "outputs": [
    {
     "name": "stdout",
     "output_type": "stream",
     "text": [
      "Unique Venue Cities:\n",
      "['SuperSport Park' \"Lord's\" 'Bellerive Oval'\n",
      " 'Pallekele International Cricket Stadium' 'R Premadasa Stadium'\n",
      " 'Shere Bangla National Stadium' 'Civil Service Cricket Club'\n",
      " 'Gaddafi Stadium' 'Sydney Cricket Ground' 'Hagley Oval' 'The Rose Bowl'\n",
      " 'Coolidge Cricket Ground' 'Saurashtra Cricket Association Stadium'\n",
      " 'Wankhede Stadium' 'Beausejour Stadium'\n",
      " 'Dubai International Cricket Stadium' 'Arun Jaitley Stadium'\n",
      " 'Kensington Oval' 'Manuka Oval' 'Sophia Gardens' 'Zayed Cricket Stadium'\n",
      " 'Adelaide Oval' 'Trent Bridge' 'Newlands'\n",
      " 'JSCA International Stadium Complex' 'Old Trafford'\n",
      " 'Greenfield International Stadium' 'Sharjah Cricket Stadium'\n",
      " 'Holkar Cricket Stadium' 'MA Chidambaram Stadium' 'Providence Stadium'\n",
      " 'Harare Sports Club' 'Sheikh Zayed Stadium' 'National Stadium'\n",
      " 'Arnos Vale Ground' 'New Wanderers Stadium' 'Eden Park' 'County Ground'\n",
      " 'M.Chinnaswamy Stadium' 'Riverside Ground' 'Sheikh Abu Naser Stadium'\n",
      " 'Western Australia Cricket Association Ground' 'Kingsmead' 'McLean Park'\n",
      " 'National Cricket Stadium' 'Kennington Oval' 'Seddon Park'\n",
      " 'Vidarbha Cricket Association Stadium' \"St George's Park\"\n",
      " 'Mahinda Rajapaksa International Cricket Stadium'\n",
      " 'Punjab Cricket Association Stadium' 'Melbourne Cricket Ground'\n",
      " 'Eden Gardens' 'The Wanderers Stadium'\n",
      " 'Maharashtra Cricket Association Stadium'\n",
      " 'Rajiv Gandhi International Stadium' \"Queen's Park Oval\"\n",
      " 'Punjab Cricket Association IS Bindra Stadium' 'The Village'\n",
      " 'Westpac Stadium' 'Central Broward Regional Park Stadium Turf Ground'\n",
      " 'M Chinnaswamy Stadium' 'Stadium Australia' 'Windsor Park'\n",
      " 'Sportpark Westvliet' 'Perth Stadium' 'GMHBA Stadium'\n",
      " 'Rajiv Gandhi International Cricket Stadium'\n",
      " 'Zahur Ahmed Chowdhury Stadium' 'Green Park' 'Subrata Roy Sahara Stadium'\n",
      " 'Bay Oval' 'Boland Park' 'Edgbaston' 'Narendra Modi Stadium'\n",
      " 'Bharat Ratna Shri Atal Bihari Vajpayee Ekana Cricket Stadium'\n",
      " 'R.Premadasa Stadium' 'Brisbane Cricket Ground' 'Buffalo Park'\n",
      " 'Carrara Oval' 'Sawai Mansingh Stadium' 'Malahide' 'Sabina Park'\n",
      " 'Barabati Stadium' 'Headingley'\n",
      " 'Himachal Pradesh Cricket Association Stadium'\n",
      " 'Sir Vivian Richards Stadium' 'Grange Cricket Club Ground'\n",
      " 'Darren Sammy National Cricket Stadium' 'Grange Cricket Club'\n",
      " 'Simonds Stadium' 'Feroz Shah Kotla' 'Senwes Park'\n",
      " 'Dr. Y.S. Rajasekhara Reddy ACA-VDCA Cricket Stadium'\n",
      " 'Rawalpindi Cricket Stadium' 'AMI Stadium' 'Queens Sports Club'\n",
      " 'Moses Mabhida Stadium' 'Warner Park' 'Mangaung Oval'\n",
      " 'Sardar Patel Stadium' 'John Davies Oval' 'University Oval'\n",
      " 'Jade Stadium' 'Brian Lara Stadium'\n",
      " 'Sylhet International Cricket Stadium'\n",
      " 'Al Amerat Cricket Ground Oman Cricket (Ministry Turf 1)'\n",
      " 'Brabourne Stadium' 'Sky Stadium' 'Maple Leaf North-West Ground'\n",
      " 'Gymkhana Club Ground' 'Barsapara Cricket Stadium' 'Saxton Oval'\n",
      " 'De Beers Diamond Oval']\n"
     ]
    }
   ],
   "source": [
    "# Assuming venue_cities is a variable containing the unique venue cities\n",
    "\n",
    "# Display unique venue cities\n",
    "print(\"Unique Venue Cities:\")\n",
    "print(venue_cities)\n"
   ]
  },
  {
   "cell_type": "code",
   "execution_count": 48,
   "id": "b627587e",
   "metadata": {},
   "outputs": [
    {
     "data": {
      "text/plain": [
       "array(['Hyderabad', 'Mumbai', 'Indore', 'Kolkata', 'Bangalore',\n",
       "       'Chandigarh', 'Jaipur', 'Chennai', 'Cape Town', 'Port Elizabeth',\n",
       "       'Durban', 'Centurion', 'East London', 'Johannesburg', 'Kimberley',\n",
       "       'Ahmedabad', 'Nagpur', 'Dharamsala', 'Visakhapatnam', 'Ranchi',\n",
       "       'Delhi', 'Abu Dhabi', nan, 'Sharjah', 'Cuttack', 'Pune',\n",
       "       'Bengaluru', 'Mohali'], dtype=object)"
      ]
     },
     "execution_count": 48,
     "metadata": {},
     "output_type": "execute_result"
    }
   ],
   "source": [
    "ipl_df['city'].unique()"
   ]
  },
  {
   "cell_type": "code",
   "execution_count": 51,
   "id": "040c799d",
   "metadata": {},
   "outputs": [],
   "source": [
    "ipl_df['city'] = ipl_df['city'].replace('Hyderabd','Bellerive Oval')\n",
    "ipl_df['city'] = ipl_df['city'].replace('Mumbai','Premadasa Stadium')\n",
    "ipl_df['city'] = ipl_df['city'].replace('Indore','Shere Bangla')\n",
    "ipl_df['city'] = ipl_df['city'].replace('Kolkata','Sydney Cricket Ground')\n",
    "ipl_df['city'] = ipl_df['city'].replace('Bangalore','The Rose Bowl')\n",
    "ipl_df['city'] = ipl_df['city'].replace('Chandigarh','Dubai')\n",
    "ipl_df['city'] = ipl_df['city'].replace('Jaipur','Sharjah Cricket Stadium')\n",
    "ipl_df['city'] = ipl_df['city'].replace('Chennai','Harare Sports Club')\n",
    "ipl_df['city'] = ipl_df['city'].replace('Cape Town','New Wanderers Stadium')\n",
    "ipl_df['city'] = ipl_df['city'].replace('Port Elizabeth','Kennington Oval')\n",
    "ipl_df['city'] = ipl_df['city'].replace('Durban','Senwes Park')\n",
    "ipl_df['city'] = ipl_df['city'].replace('Centurion','Queen Park Oval')\n",
    "ipl_df['city'] = ipl_df['city'].replace('East London','Bay Oval')\n",
    "ipl_df['city'] = ipl_df['city'].replace('Johannesburg','Boland Park')\n",
    "ipl_df['city'] = ipl_df['city'].replace('Ahmedabad','Ahmedabad')\n",
    "ipl_df['city'] = ipl_df['city'].replace('Abu Dhabi','Abu Dhabi')\n",
    "ipl_df['city'] = ipl_df['city'].replace('Sharjah','Saxton Oval')\n",
    "ipl_df['city'] = ipl_df['city'].replace('Cuttack','Malahide')\n",
    "ipl_df['city'] = ipl_df['city'].replace('Pune','Senwes Park')\n",
    "ipl_df['city'] = ipl_df['city'].replace('Bengaluru','Headingley')\n",
    "ipl_df['city'] = ipl_df['city'].replace('Mohali','University Oval')"
   ]
  },
  {
   "cell_type": "code",
   "execution_count": 52,
   "id": "1b6191cb",
   "metadata": {},
   "outputs": [
    {
     "data": {
      "text/plain": [
       "array(['Hyderabad', 'Premadasa Stadium', 'Shere Bangla',\n",
       "       'Sydney Cricket Ground', 'The Rose Bowl', 'Dubai',\n",
       "       'Sharjah Cricket Stadium', 'Harare Sports Club',\n",
       "       'New Wanderers Stadium', 'Kennington Oval', 'Senwes Park',\n",
       "       'Queen Park Oval', 'Bay Oval', 'Boland Park', 'Kimberley',\n",
       "       'Ahmedabad', 'Nagpur', 'Dharamsala', 'Visakhapatnam', 'Ranchi',\n",
       "       'Delhi', 'Abu Dhabi', nan, 'Saxton Oval', 'Malahide', 'Headingley',\n",
       "       'University Oval'], dtype=object)"
      ]
     },
     "execution_count": 52,
     "metadata": {},
     "output_type": "execute_result"
    }
   ],
   "source": [
    "ipl_df['city'].unique()"
   ]
  },
  {
   "cell_type": "code",
   "execution_count": 53,
   "id": "f27c4e1c",
   "metadata": {},
   "outputs": [
    {
     "data": {
      "text/html": [
       "<div>\n",
       "<style scoped>\n",
       "    .dataframe tbody tr th:only-of-type {\n",
       "        vertical-align: middle;\n",
       "    }\n",
       "\n",
       "    .dataframe tbody tr th {\n",
       "        vertical-align: top;\n",
       "    }\n",
       "\n",
       "    .dataframe thead th {\n",
       "        text-align: right;\n",
       "    }\n",
       "</style>\n",
       "<table border=\"1\" class=\"dataframe\">\n",
       "  <thead>\n",
       "    <tr style=\"text-align: right;\">\n",
       "      <th></th>\n",
       "      <th>Unnamed: 0</th>\n",
       "      <th>batting_team</th>\n",
       "      <th>bowling_team</th>\n",
       "      <th>city</th>\n",
       "      <th>runs_lef</th>\n",
       "      <th>ball_left</th>\n",
       "      <th>wickets</th>\n",
       "      <th>total_runs_x</th>\n",
       "      <th>crr</th>\n",
       "      <th>rrr</th>\n",
       "      <th>result</th>\n",
       "    </tr>\n",
       "  </thead>\n",
       "  <tbody>\n",
       "    <tr>\n",
       "      <th>0</th>\n",
       "      <td>125</td>\n",
       "      <td>Pakistan</td>\n",
       "      <td>West Indies</td>\n",
       "      <td>Hyderabad</td>\n",
       "      <td>206</td>\n",
       "      <td>119</td>\n",
       "      <td>10</td>\n",
       "      <td>207</td>\n",
       "      <td>6.0</td>\n",
       "      <td>10.386555</td>\n",
       "      <td>0</td>\n",
       "    </tr>\n",
       "    <tr>\n",
       "      <th>1</th>\n",
       "      <td>126</td>\n",
       "      <td>Pakistan</td>\n",
       "      <td>West Indies</td>\n",
       "      <td>Hyderabad</td>\n",
       "      <td>206</td>\n",
       "      <td>118</td>\n",
       "      <td>10</td>\n",
       "      <td>207</td>\n",
       "      <td>3.0</td>\n",
       "      <td>10.474576</td>\n",
       "      <td>0</td>\n",
       "    </tr>\n",
       "    <tr>\n",
       "      <th>2</th>\n",
       "      <td>127</td>\n",
       "      <td>Pakistan</td>\n",
       "      <td>West Indies</td>\n",
       "      <td>Hyderabad</td>\n",
       "      <td>206</td>\n",
       "      <td>117</td>\n",
       "      <td>10</td>\n",
       "      <td>207</td>\n",
       "      <td>2.0</td>\n",
       "      <td>10.564103</td>\n",
       "      <td>0</td>\n",
       "    </tr>\n",
       "    <tr>\n",
       "      <th>3</th>\n",
       "      <td>128</td>\n",
       "      <td>Pakistan</td>\n",
       "      <td>West Indies</td>\n",
       "      <td>Hyderabad</td>\n",
       "      <td>204</td>\n",
       "      <td>116</td>\n",
       "      <td>10</td>\n",
       "      <td>207</td>\n",
       "      <td>4.5</td>\n",
       "      <td>10.551724</td>\n",
       "      <td>0</td>\n",
       "    </tr>\n",
       "    <tr>\n",
       "      <th>4</th>\n",
       "      <td>129</td>\n",
       "      <td>Pakistan</td>\n",
       "      <td>West Indies</td>\n",
       "      <td>Hyderabad</td>\n",
       "      <td>200</td>\n",
       "      <td>115</td>\n",
       "      <td>10</td>\n",
       "      <td>207</td>\n",
       "      <td>8.4</td>\n",
       "      <td>10.434783</td>\n",
       "      <td>0</td>\n",
       "    </tr>\n",
       "  </tbody>\n",
       "</table>\n",
       "</div>"
      ],
      "text/plain": [
       "   Unnamed: 0 batting_team bowling_team       city  runs_lef  ball_left  \\\n",
       "0         125     Pakistan  West Indies  Hyderabad       206        119   \n",
       "1         126     Pakistan  West Indies  Hyderabad       206        118   \n",
       "2         127     Pakistan  West Indies  Hyderabad       206        117   \n",
       "3         128     Pakistan  West Indies  Hyderabad       204        116   \n",
       "4         129     Pakistan  West Indies  Hyderabad       200        115   \n",
       "\n",
       "   wickets  total_runs_x  crr        rrr  result  \n",
       "0       10           207  6.0  10.386555       0  \n",
       "1       10           207  3.0  10.474576       0  \n",
       "2       10           207  2.0  10.564103       0  \n",
       "3       10           207  4.5  10.551724       0  \n",
       "4       10           207  8.4  10.434783       0  "
      ]
     },
     "execution_count": 53,
     "metadata": {},
     "output_type": "execute_result"
    }
   ],
   "source": [
    "ipl_df.head()"
   ]
  },
  {
   "cell_type": "code",
   "execution_count": 54,
   "id": "71582d68",
   "metadata": {},
   "outputs": [],
   "source": [
    "t20_clean_data = ipl_df.drop(['Unnamed: 0'],axis=1)"
   ]
  },
  {
   "cell_type": "code",
   "execution_count": 55,
   "id": "7e3a1150",
   "metadata": {},
   "outputs": [],
   "source": [
    "t20_clean_data.to_csv('t20 match clean data.csv')"
   ]
  },
  {
   "cell_type": "code",
   "execution_count": 56,
   "id": "b12c7ec7",
   "metadata": {},
   "outputs": [],
   "source": [
    "df = t20_clean_data"
   ]
  },
  {
   "cell_type": "code",
   "execution_count": 59,
   "id": "7dd489df",
   "metadata": {},
   "outputs": [
    {
     "data": {
      "text/html": [
       "<div>\n",
       "<style scoped>\n",
       "    .dataframe tbody tr th:only-of-type {\n",
       "        vertical-align: middle;\n",
       "    }\n",
       "\n",
       "    .dataframe tbody tr th {\n",
       "        vertical-align: top;\n",
       "    }\n",
       "\n",
       "    .dataframe thead th {\n",
       "        text-align: right;\n",
       "    }\n",
       "</style>\n",
       "<table border=\"1\" class=\"dataframe\">\n",
       "  <thead>\n",
       "    <tr style=\"text-align: right;\">\n",
       "      <th></th>\n",
       "      <th>batting_team</th>\n",
       "      <th>bowling_team</th>\n",
       "      <th>city</th>\n",
       "      <th>runs_lef</th>\n",
       "      <th>ball_left</th>\n",
       "      <th>wickets</th>\n",
       "      <th>total_runs_x</th>\n",
       "      <th>crr</th>\n",
       "      <th>rrr</th>\n",
       "      <th>result</th>\n",
       "    </tr>\n",
       "  </thead>\n",
       "  <tbody>\n",
       "    <tr>\n",
       "      <th>24171</th>\n",
       "      <td>India</td>\n",
       "      <td>South Africa</td>\n",
       "      <td>Harare Sports Club</td>\n",
       "      <td>97</td>\n",
       "      <td>63</td>\n",
       "      <td>9</td>\n",
       "      <td>185</td>\n",
       "      <td>9.263158</td>\n",
       "      <td>9.238095</td>\n",
       "      <td>1</td>\n",
       "    </tr>\n",
       "    <tr>\n",
       "      <th>45233</th>\n",
       "      <td>New Zealand</td>\n",
       "      <td>West Indies</td>\n",
       "      <td>Hyderabad</td>\n",
       "      <td>14</td>\n",
       "      <td>12</td>\n",
       "      <td>6</td>\n",
       "      <td>183</td>\n",
       "      <td>9.388889</td>\n",
       "      <td>7.000000</td>\n",
       "      <td>1</td>\n",
       "    </tr>\n",
       "    <tr>\n",
       "      <th>9979</th>\n",
       "      <td>Sri Lanka</td>\n",
       "      <td>Pakistan</td>\n",
       "      <td>Queen Park Oval</td>\n",
       "      <td>52</td>\n",
       "      <td>32</td>\n",
       "      <td>7</td>\n",
       "      <td>170</td>\n",
       "      <td>8.045455</td>\n",
       "      <td>9.750000</td>\n",
       "      <td>0</td>\n",
       "    </tr>\n",
       "    <tr>\n",
       "      <th>1234</th>\n",
       "      <td>New Zealand</td>\n",
       "      <td>West Indies</td>\n",
       "      <td>Hyderabad</td>\n",
       "      <td>172</td>\n",
       "      <td>88</td>\n",
       "      <td>8</td>\n",
       "      <td>209</td>\n",
       "      <td>6.937500</td>\n",
       "      <td>11.727273</td>\n",
       "      <td>0</td>\n",
       "    </tr>\n",
       "    <tr>\n",
       "      <th>30842</th>\n",
       "      <td>South Africa</td>\n",
       "      <td>Pakistan</td>\n",
       "      <td>The Rose Bowl</td>\n",
       "      <td>56</td>\n",
       "      <td>20</td>\n",
       "      <td>5</td>\n",
       "      <td>190</td>\n",
       "      <td>8.040000</td>\n",
       "      <td>16.800000</td>\n",
       "      <td>1</td>\n",
       "    </tr>\n",
       "  </tbody>\n",
       "</table>\n",
       "</div>"
      ],
      "text/plain": [
       "       batting_team  bowling_team                city  runs_lef  ball_left  \\\n",
       "24171         India  South Africa  Harare Sports Club        97         63   \n",
       "45233   New Zealand   West Indies           Hyderabad        14         12   \n",
       "9979      Sri Lanka      Pakistan     Queen Park Oval        52         32   \n",
       "1234    New Zealand   West Indies           Hyderabad       172         88   \n",
       "30842  South Africa      Pakistan       The Rose Bowl        56         20   \n",
       "\n",
       "       wickets  total_runs_x       crr        rrr  result  \n",
       "24171        9           185  9.263158   9.238095       1  \n",
       "45233        6           183  9.388889   7.000000       1  \n",
       "9979         7           170  8.045455   9.750000       0  \n",
       "1234         8           209  6.937500  11.727273       0  \n",
       "30842        5           190  8.040000  16.800000       1  "
      ]
     },
     "execution_count": 59,
     "metadata": {},
     "output_type": "execute_result"
    }
   ],
   "source": [
    "df.sample(5)"
   ]
  },
  {
   "cell_type": "code",
   "execution_count": 60,
   "id": "5c338107",
   "metadata": {},
   "outputs": [
    {
     "data": {
      "text/plain": [
       "batting_team      0\n",
       "bowling_team      0\n",
       "city            589\n",
       "runs_lef          0\n",
       "ball_left         0\n",
       "wickets           0\n",
       "total_runs_x      0\n",
       "crr               0\n",
       "rrr               5\n",
       "result            0\n",
       "dtype: int64"
      ]
     },
     "execution_count": 60,
     "metadata": {},
     "output_type": "execute_result"
    }
   ],
   "source": [
    "df.isnull().sum()"
   ]
  },
  {
   "cell_type": "code",
   "execution_count": 61,
   "id": "50a80cc0",
   "metadata": {},
   "outputs": [
    {
     "data": {
      "text/plain": [
       "(52822, 10)"
      ]
     },
     "execution_count": 61,
     "metadata": {},
     "output_type": "execute_result"
    }
   ],
   "source": [
    "df.shape"
   ]
  },
  {
   "cell_type": "code",
   "execution_count": 62,
   "id": "43946bca",
   "metadata": {},
   "outputs": [],
   "source": [
    "df.dropna(inplace=True)"
   ]
  },
  {
   "cell_type": "code",
   "execution_count": 63,
   "id": "9f8d2e22",
   "metadata": {},
   "outputs": [
    {
     "data": {
      "text/plain": [
       "batting_team    0\n",
       "bowling_team    0\n",
       "city            0\n",
       "runs_lef        0\n",
       "ball_left       0\n",
       "wickets         0\n",
       "total_runs_x    0\n",
       "crr             0\n",
       "rrr             0\n",
       "result          0\n",
       "dtype: int64"
      ]
     },
     "execution_count": 63,
     "metadata": {},
     "output_type": "execute_result"
    }
   ],
   "source": [
    "df.isnull().sum()"
   ]
  },
  {
   "cell_type": "code",
   "execution_count": 70,
   "id": "4e4d72c7",
   "metadata": {},
   "outputs": [],
   "source": [
    "final_df = df.sample(df.shape[0])\n"
   ]
  },
  {
   "cell_type": "code",
   "execution_count": 71,
   "id": "e2a47d03",
   "metadata": {},
   "outputs": [],
   "source": [
    "final_df = final_df[final_df['ball_left'] != 0]"
   ]
  },
  {
   "cell_type": "code",
   "execution_count": 72,
   "id": "bf412ebc",
   "metadata": {},
   "outputs": [],
   "source": [
    "x = final_df.drop(['result'],axis=1)\n",
    "y = final_df['result']"
   ]
  },
  {
   "cell_type": "code",
   "execution_count": 73,
   "id": "abcc1af8",
   "metadata": {},
   "outputs": [],
   "source": [
    "from sklearn.model_selection import train_test_split\n",
    "xtrain,xtest,ytrain,ytest = train_test_split(x,y,test_size=.2,random_state=42)"
   ]
  },
  {
   "cell_type": "code",
   "execution_count": 74,
   "id": "5fa2d230",
   "metadata": {},
   "outputs": [],
   "source": [
    "from sklearn.compose import ColumnTransformer\n",
    "from sklearn.pipeline import Pipeline\n",
    "from sklearn.preprocessing import OneHotEncoder\n",
    "from sklearn.metrics import r2_score,accuracy_score,precision_score\n",
    "from sklearn.linear_model import LogisticRegression"
   ]
  },
  {
   "cell_type": "code",
   "execution_count": 75,
   "id": "e63a6139",
   "metadata": {},
   "outputs": [
    {
     "data": {
      "text/html": [
       "<div>\n",
       "<style scoped>\n",
       "    .dataframe tbody tr th:only-of-type {\n",
       "        vertical-align: middle;\n",
       "    }\n",
       "\n",
       "    .dataframe tbody tr th {\n",
       "        vertical-align: top;\n",
       "    }\n",
       "\n",
       "    .dataframe thead th {\n",
       "        text-align: right;\n",
       "    }\n",
       "</style>\n",
       "<table border=\"1\" class=\"dataframe\">\n",
       "  <thead>\n",
       "    <tr style=\"text-align: right;\">\n",
       "      <th></th>\n",
       "      <th>batting_team</th>\n",
       "      <th>bowling_team</th>\n",
       "      <th>city</th>\n",
       "      <th>runs_lef</th>\n",
       "      <th>ball_left</th>\n",
       "      <th>wickets</th>\n",
       "      <th>total_runs_x</th>\n",
       "      <th>crr</th>\n",
       "      <th>rrr</th>\n",
       "    </tr>\n",
       "  </thead>\n",
       "  <tbody>\n",
       "    <tr>\n",
       "      <th>32139</th>\n",
       "      <td>Pakistan</td>\n",
       "      <td>New Zealand</td>\n",
       "      <td>Sydney Cricket Ground</td>\n",
       "      <td>69</td>\n",
       "      <td>25</td>\n",
       "      <td>7</td>\n",
       "      <td>195</td>\n",
       "      <td>7.957895</td>\n",
       "      <td>16.56</td>\n",
       "    </tr>\n",
       "  </tbody>\n",
       "</table>\n",
       "</div>"
      ],
      "text/plain": [
       "      batting_team bowling_team                   city  runs_lef  ball_left  \\\n",
       "32139     Pakistan  New Zealand  Sydney Cricket Ground        69         25   \n",
       "\n",
       "       wickets  total_runs_x       crr    rrr  \n",
       "32139        7           195  7.957895  16.56  "
      ]
     },
     "execution_count": 75,
     "metadata": {},
     "output_type": "execute_result"
    }
   ],
   "source": [
    "xtrain.head(1)"
   ]
  },
  {
   "cell_type": "code",
   "execution_count": 76,
   "id": "9ae75c3c",
   "metadata": {},
   "outputs": [
    {
     "name": "stderr",
     "output_type": "stream",
     "text": [
      "C:\\Users\\Ghost Codm\\AppData\\Local\\Packages\\PythonSoftwareFoundation.Python.3.11_qbz5n2kfra8p0\\LocalCache\\local-packages\\Python311\\site-packages\\sklearn\\preprocessing\\_encoders.py:975: FutureWarning: `sparse` was renamed to `sparse_output` in version 1.2 and will be removed in 1.4. `sparse_output` is ignored unless you leave `sparse` to its default value.\n",
      "  warnings.warn(\n"
     ]
    },
    {
     "name": "stdout",
     "output_type": "stream",
     "text": [
      "accuracy score 0.799366116019977\n",
      "precision score 0.8079279279279279\n"
     ]
    }
   ],
   "source": [
    "step1 = ColumnTransformer(transformers=[\n",
    "    ('col_tnf',OneHotEncoder(sparse=False,drop='first',handle_unknown='ignore'),[0,1,2])\n",
    "],remainder='passthrough')\n",
    "step2 = LogisticRegression(solver='liblinear')\n",
    "\n",
    "pipe = Pipeline([\n",
    "    ('step1',step1),\n",
    "    ('step2',step2)\n",
    "])\n",
    "pipe.fit(xtrain,ytrain)\n",
    "y_pred = pipe.predict(xtest)\n",
    "# print('r2 score',r2 score(ytest,y_pred))\n",
    "print('accuracy score',accuracy_score(ytest,y_pred))\n",
    "print('precision score',precision_score(ytest,y_pred))"
   ]
  },
  {
   "cell_type": "code",
   "execution_count": 78,
   "id": "a0cf9e25",
   "metadata": {},
   "outputs": [],
   "source": [
    "import pickle\n",
    "pickle.dump(pipe,open('model.pkl','wb'))"
   ]
  },
  {
   "cell_type": "code",
   "execution_count": 79,
   "id": "62bb3eef",
   "metadata": {},
   "outputs": [
    {
     "data": {
      "text/plain": [
       "array(['South Africa', 'India', 'New Zealand', 'West Indies', 'Australia',\n",
       "       'Sri Lanka', 'England', 'Bangladesh', 'Pakistan'], dtype=object)"
      ]
     },
     "execution_count": 79,
     "metadata": {},
     "output_type": "execute_result"
    }
   ],
   "source": [
    "final_df['batting_team'].unique()"
   ]
  },
  {
   "cell_type": "code",
   "execution_count": 81,
   "id": "52d5b521",
   "metadata": {},
   "outputs": [
    {
     "data": {
      "text/plain": [
       "array(['Sharjah Cricket Stadium', 'Saxton Oval', 'Hyderabad',\n",
       "       'Sydney Cricket Ground', 'Abu Dhabi', 'Harare Sports Club',\n",
       "       'Nagpur', 'The Rose Bowl', 'Visakhapatnam', 'Headingley',\n",
       "       'Premadasa Stadium', 'Dubai', 'Dharamsala',\n",
       "       'New Wanderers Stadium', 'Queen Park Oval', 'Kennington Oval',\n",
       "       'University Oval', 'Kimberley', 'Ahmedabad', 'Ranchi', 'Malahide',\n",
       "       'Senwes Park', 'Delhi', 'Shere Bangla', 'Boland Park', 'Bay Oval'],\n",
       "      dtype=object)"
      ]
     },
     "execution_count": 81,
     "metadata": {},
     "output_type": "execute_result"
    }
   ],
   "source": [
    "final_df['city'].unique()"
   ]
  },
  {
   "cell_type": "code",
   "execution_count": null,
   "id": "7e76cecd",
   "metadata": {},
   "outputs": [],
   "source": []
  }
 ],
 "metadata": {
  "kernelspec": {
   "display_name": "Python 3 (ipykernel)",
   "language": "python",
   "name": "python3"
  },
  "language_info": {
   "codemirror_mode": {
    "name": "ipython",
    "version": 3
   },
   "file_extension": ".py",
   "mimetype": "text/x-python",
   "name": "python",
   "nbconvert_exporter": "python",
   "pygments_lexer": "ipython3",
   "version": "3.11.6"
  }
 },
 "nbformat": 4,
 "nbformat_minor": 5
}
