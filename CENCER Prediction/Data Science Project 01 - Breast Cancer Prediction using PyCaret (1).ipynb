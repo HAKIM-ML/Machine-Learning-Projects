{
 "cells": [
  {
   "cell_type": "code",
   "execution_count": 1,
   "id": "a478c101",
   "metadata": {},
   "outputs": [],
   "source": [
    "import pandas as pd\n",
    "import numpy as np\n",
    "import plotly.express as px\n",
    "import matplotlib.pyplot as plt\n",
    "import seaborn as sns\n",
    "import warnings\n",
    "warnings.filterwarnings('ignore')"
   ]
  },
  {
   "cell_type": "code",
   "execution_count": 2,
   "id": "7d334d64",
   "metadata": {},
   "outputs": [
    {
     "data": {
      "text/html": [
       "<div>\n",
       "<style scoped>\n",
       "    .dataframe tbody tr th:only-of-type {\n",
       "        vertical-align: middle;\n",
       "    }\n",
       "\n",
       "    .dataframe tbody tr th {\n",
       "        vertical-align: top;\n",
       "    }\n",
       "\n",
       "    .dataframe thead th {\n",
       "        text-align: right;\n",
       "    }\n",
       "</style>\n",
       "<table border=\"1\" class=\"dataframe\">\n",
       "  <thead>\n",
       "    <tr style=\"text-align: right;\">\n",
       "      <th></th>\n",
       "      <th>Patient_ID</th>\n",
       "      <th>Age</th>\n",
       "      <th>Gender</th>\n",
       "      <th>Protein1</th>\n",
       "      <th>Protein2</th>\n",
       "      <th>Protein3</th>\n",
       "      <th>Protein4</th>\n",
       "      <th>Tumour_Stage</th>\n",
       "      <th>Histology</th>\n",
       "      <th>ER status</th>\n",
       "      <th>PR status</th>\n",
       "      <th>HER2 status</th>\n",
       "      <th>Surgery_type</th>\n",
       "      <th>Date_of_Surgery</th>\n",
       "      <th>Date_of_Last_Visit</th>\n",
       "      <th>Patient_Status</th>\n",
       "    </tr>\n",
       "  </thead>\n",
       "  <tbody>\n",
       "    <tr>\n",
       "      <th>0</th>\n",
       "      <td>TCGA-D8-A1XD</td>\n",
       "      <td>36.0</td>\n",
       "      <td>FEMALE</td>\n",
       "      <td>0.080353</td>\n",
       "      <td>0.42638</td>\n",
       "      <td>0.54715</td>\n",
       "      <td>0.273680</td>\n",
       "      <td>III</td>\n",
       "      <td>Infiltrating Ductal Carcinoma</td>\n",
       "      <td>Positive</td>\n",
       "      <td>Positive</td>\n",
       "      <td>Negative</td>\n",
       "      <td>Modified Radical Mastectomy</td>\n",
       "      <td>15-Jan-17</td>\n",
       "      <td>19-Jun-17</td>\n",
       "      <td>Alive</td>\n",
       "    </tr>\n",
       "    <tr>\n",
       "      <th>1</th>\n",
       "      <td>TCGA-EW-A1OX</td>\n",
       "      <td>43.0</td>\n",
       "      <td>FEMALE</td>\n",
       "      <td>-0.420320</td>\n",
       "      <td>0.57807</td>\n",
       "      <td>0.61447</td>\n",
       "      <td>-0.031505</td>\n",
       "      <td>II</td>\n",
       "      <td>Mucinous Carcinoma</td>\n",
       "      <td>Positive</td>\n",
       "      <td>Positive</td>\n",
       "      <td>Negative</td>\n",
       "      <td>Lumpectomy</td>\n",
       "      <td>26-Apr-17</td>\n",
       "      <td>09-Nov-18</td>\n",
       "      <td>Dead</td>\n",
       "    </tr>\n",
       "    <tr>\n",
       "      <th>2</th>\n",
       "      <td>TCGA-A8-A079</td>\n",
       "      <td>69.0</td>\n",
       "      <td>FEMALE</td>\n",
       "      <td>0.213980</td>\n",
       "      <td>1.31140</td>\n",
       "      <td>-0.32747</td>\n",
       "      <td>-0.234260</td>\n",
       "      <td>III</td>\n",
       "      <td>Infiltrating Ductal Carcinoma</td>\n",
       "      <td>Positive</td>\n",
       "      <td>Positive</td>\n",
       "      <td>Negative</td>\n",
       "      <td>Other</td>\n",
       "      <td>08-Sep-17</td>\n",
       "      <td>09-Jun-18</td>\n",
       "      <td>Alive</td>\n",
       "    </tr>\n",
       "    <tr>\n",
       "      <th>3</th>\n",
       "      <td>TCGA-D8-A1XR</td>\n",
       "      <td>56.0</td>\n",
       "      <td>FEMALE</td>\n",
       "      <td>0.345090</td>\n",
       "      <td>-0.21147</td>\n",
       "      <td>-0.19304</td>\n",
       "      <td>0.124270</td>\n",
       "      <td>II</td>\n",
       "      <td>Infiltrating Ductal Carcinoma</td>\n",
       "      <td>Positive</td>\n",
       "      <td>Positive</td>\n",
       "      <td>Negative</td>\n",
       "      <td>Modified Radical Mastectomy</td>\n",
       "      <td>25-Jan-17</td>\n",
       "      <td>12-Jul-17</td>\n",
       "      <td>Alive</td>\n",
       "    </tr>\n",
       "    <tr>\n",
       "      <th>4</th>\n",
       "      <td>TCGA-BH-A0BF</td>\n",
       "      <td>56.0</td>\n",
       "      <td>FEMALE</td>\n",
       "      <td>0.221550</td>\n",
       "      <td>1.90680</td>\n",
       "      <td>0.52045</td>\n",
       "      <td>-0.311990</td>\n",
       "      <td>II</td>\n",
       "      <td>Infiltrating Ductal Carcinoma</td>\n",
       "      <td>Positive</td>\n",
       "      <td>Positive</td>\n",
       "      <td>Negative</td>\n",
       "      <td>Other</td>\n",
       "      <td>06-May-17</td>\n",
       "      <td>27-Jun-19</td>\n",
       "      <td>Dead</td>\n",
       "    </tr>\n",
       "  </tbody>\n",
       "</table>\n",
       "</div>"
      ],
      "text/plain": [
       "     Patient_ID   Age  Gender  Protein1  Protein2  Protein3  Protein4  \\\n",
       "0  TCGA-D8-A1XD  36.0  FEMALE  0.080353   0.42638   0.54715  0.273680   \n",
       "1  TCGA-EW-A1OX  43.0  FEMALE -0.420320   0.57807   0.61447 -0.031505   \n",
       "2  TCGA-A8-A079  69.0  FEMALE  0.213980   1.31140  -0.32747 -0.234260   \n",
       "3  TCGA-D8-A1XR  56.0  FEMALE  0.345090  -0.21147  -0.19304  0.124270   \n",
       "4  TCGA-BH-A0BF  56.0  FEMALE  0.221550   1.90680   0.52045 -0.311990   \n",
       "\n",
       "  Tumour_Stage                      Histology ER status PR status HER2 status  \\\n",
       "0          III  Infiltrating Ductal Carcinoma  Positive  Positive    Negative   \n",
       "1           II             Mucinous Carcinoma  Positive  Positive    Negative   \n",
       "2          III  Infiltrating Ductal Carcinoma  Positive  Positive    Negative   \n",
       "3           II  Infiltrating Ductal Carcinoma  Positive  Positive    Negative   \n",
       "4           II  Infiltrating Ductal Carcinoma  Positive  Positive    Negative   \n",
       "\n",
       "                  Surgery_type Date_of_Surgery Date_of_Last_Visit  \\\n",
       "0  Modified Radical Mastectomy       15-Jan-17          19-Jun-17   \n",
       "1                   Lumpectomy       26-Apr-17          09-Nov-18   \n",
       "2                        Other       08-Sep-17          09-Jun-18   \n",
       "3  Modified Radical Mastectomy       25-Jan-17          12-Jul-17   \n",
       "4                        Other       06-May-17          27-Jun-19   \n",
       "\n",
       "  Patient_Status  \n",
       "0          Alive  \n",
       "1           Dead  \n",
       "2          Alive  \n",
       "3          Alive  \n",
       "4           Dead  "
      ]
     },
     "execution_count": 2,
     "metadata": {},
     "output_type": "execute_result"
    }
   ],
   "source": [
    "df = pd.read_csv(\"BRCA Data.csv\")\n",
    "df.head()"
   ]
  },
  {
   "cell_type": "code",
   "execution_count": 3,
   "id": "2efb0063",
   "metadata": {},
   "outputs": [
    {
     "data": {
      "text/plain": [
       "Patient_ID             7\n",
       "Age                    7\n",
       "Gender                 7\n",
       "Protein1               7\n",
       "Protein2               7\n",
       "Protein3               7\n",
       "Protein4               7\n",
       "Tumour_Stage           7\n",
       "Histology              7\n",
       "ER status              7\n",
       "PR status              7\n",
       "HER2 status            7\n",
       "Surgery_type           7\n",
       "Date_of_Surgery        7\n",
       "Date_of_Last_Visit    24\n",
       "Patient_Status        20\n",
       "dtype: int64"
      ]
     },
     "execution_count": 3,
     "metadata": {},
     "output_type": "execute_result"
    }
   ],
   "source": [
    "# null values\n",
    "df.isnull().sum()"
   ]
  },
  {
   "cell_type": "code",
   "execution_count": 4,
   "id": "f89d4486",
   "metadata": {},
   "outputs": [
    {
     "data": {
      "text/html": [
       "<div>\n",
       "<style scoped>\n",
       "    .dataframe tbody tr th:only-of-type {\n",
       "        vertical-align: middle;\n",
       "    }\n",
       "\n",
       "    .dataframe tbody tr th {\n",
       "        vertical-align: top;\n",
       "    }\n",
       "\n",
       "    .dataframe thead th {\n",
       "        text-align: right;\n",
       "    }\n",
       "</style>\n",
       "<table border=\"1\" class=\"dataframe\">\n",
       "  <thead>\n",
       "    <tr style=\"text-align: right;\">\n",
       "      <th></th>\n",
       "      <th>Patient_ID</th>\n",
       "      <th>Age</th>\n",
       "      <th>Gender</th>\n",
       "      <th>Protein1</th>\n",
       "      <th>Protein2</th>\n",
       "      <th>Protein3</th>\n",
       "      <th>Protein4</th>\n",
       "      <th>Tumour_Stage</th>\n",
       "      <th>Histology</th>\n",
       "      <th>ER status</th>\n",
       "      <th>PR status</th>\n",
       "      <th>HER2 status</th>\n",
       "      <th>Surgery_type</th>\n",
       "      <th>Date_of_Surgery</th>\n",
       "      <th>Date_of_Last_Visit</th>\n",
       "      <th>Patient_Status</th>\n",
       "    </tr>\n",
       "  </thead>\n",
       "  <tbody>\n",
       "    <tr>\n",
       "      <th>0</th>\n",
       "      <td>False</td>\n",
       "      <td>False</td>\n",
       "      <td>False</td>\n",
       "      <td>False</td>\n",
       "      <td>False</td>\n",
       "      <td>False</td>\n",
       "      <td>False</td>\n",
       "      <td>False</td>\n",
       "      <td>False</td>\n",
       "      <td>False</td>\n",
       "      <td>False</td>\n",
       "      <td>False</td>\n",
       "      <td>False</td>\n",
       "      <td>False</td>\n",
       "      <td>False</td>\n",
       "      <td>False</td>\n",
       "    </tr>\n",
       "    <tr>\n",
       "      <th>1</th>\n",
       "      <td>False</td>\n",
       "      <td>False</td>\n",
       "      <td>False</td>\n",
       "      <td>False</td>\n",
       "      <td>False</td>\n",
       "      <td>False</td>\n",
       "      <td>False</td>\n",
       "      <td>False</td>\n",
       "      <td>False</td>\n",
       "      <td>False</td>\n",
       "      <td>False</td>\n",
       "      <td>False</td>\n",
       "      <td>False</td>\n",
       "      <td>False</td>\n",
       "      <td>False</td>\n",
       "      <td>False</td>\n",
       "    </tr>\n",
       "    <tr>\n",
       "      <th>2</th>\n",
       "      <td>False</td>\n",
       "      <td>False</td>\n",
       "      <td>False</td>\n",
       "      <td>False</td>\n",
       "      <td>False</td>\n",
       "      <td>False</td>\n",
       "      <td>False</td>\n",
       "      <td>False</td>\n",
       "      <td>False</td>\n",
       "      <td>False</td>\n",
       "      <td>False</td>\n",
       "      <td>False</td>\n",
       "      <td>False</td>\n",
       "      <td>False</td>\n",
       "      <td>False</td>\n",
       "      <td>False</td>\n",
       "    </tr>\n",
       "    <tr>\n",
       "      <th>3</th>\n",
       "      <td>False</td>\n",
       "      <td>False</td>\n",
       "      <td>False</td>\n",
       "      <td>False</td>\n",
       "      <td>False</td>\n",
       "      <td>False</td>\n",
       "      <td>False</td>\n",
       "      <td>False</td>\n",
       "      <td>False</td>\n",
       "      <td>False</td>\n",
       "      <td>False</td>\n",
       "      <td>False</td>\n",
       "      <td>False</td>\n",
       "      <td>False</td>\n",
       "      <td>False</td>\n",
       "      <td>False</td>\n",
       "    </tr>\n",
       "    <tr>\n",
       "      <th>4</th>\n",
       "      <td>False</td>\n",
       "      <td>False</td>\n",
       "      <td>False</td>\n",
       "      <td>False</td>\n",
       "      <td>False</td>\n",
       "      <td>False</td>\n",
       "      <td>False</td>\n",
       "      <td>False</td>\n",
       "      <td>False</td>\n",
       "      <td>False</td>\n",
       "      <td>False</td>\n",
       "      <td>False</td>\n",
       "      <td>False</td>\n",
       "      <td>False</td>\n",
       "      <td>False</td>\n",
       "      <td>False</td>\n",
       "    </tr>\n",
       "    <tr>\n",
       "      <th>...</th>\n",
       "      <td>...</td>\n",
       "      <td>...</td>\n",
       "      <td>...</td>\n",
       "      <td>...</td>\n",
       "      <td>...</td>\n",
       "      <td>...</td>\n",
       "      <td>...</td>\n",
       "      <td>...</td>\n",
       "      <td>...</td>\n",
       "      <td>...</td>\n",
       "      <td>...</td>\n",
       "      <td>...</td>\n",
       "      <td>...</td>\n",
       "      <td>...</td>\n",
       "      <td>...</td>\n",
       "      <td>...</td>\n",
       "    </tr>\n",
       "    <tr>\n",
       "      <th>336</th>\n",
       "      <td>True</td>\n",
       "      <td>True</td>\n",
       "      <td>True</td>\n",
       "      <td>True</td>\n",
       "      <td>True</td>\n",
       "      <td>True</td>\n",
       "      <td>True</td>\n",
       "      <td>True</td>\n",
       "      <td>True</td>\n",
       "      <td>True</td>\n",
       "      <td>True</td>\n",
       "      <td>True</td>\n",
       "      <td>True</td>\n",
       "      <td>True</td>\n",
       "      <td>True</td>\n",
       "      <td>True</td>\n",
       "    </tr>\n",
       "    <tr>\n",
       "      <th>337</th>\n",
       "      <td>True</td>\n",
       "      <td>True</td>\n",
       "      <td>True</td>\n",
       "      <td>True</td>\n",
       "      <td>True</td>\n",
       "      <td>True</td>\n",
       "      <td>True</td>\n",
       "      <td>True</td>\n",
       "      <td>True</td>\n",
       "      <td>True</td>\n",
       "      <td>True</td>\n",
       "      <td>True</td>\n",
       "      <td>True</td>\n",
       "      <td>True</td>\n",
       "      <td>True</td>\n",
       "      <td>True</td>\n",
       "    </tr>\n",
       "    <tr>\n",
       "      <th>338</th>\n",
       "      <td>True</td>\n",
       "      <td>True</td>\n",
       "      <td>True</td>\n",
       "      <td>True</td>\n",
       "      <td>True</td>\n",
       "      <td>True</td>\n",
       "      <td>True</td>\n",
       "      <td>True</td>\n",
       "      <td>True</td>\n",
       "      <td>True</td>\n",
       "      <td>True</td>\n",
       "      <td>True</td>\n",
       "      <td>True</td>\n",
       "      <td>True</td>\n",
       "      <td>True</td>\n",
       "      <td>True</td>\n",
       "    </tr>\n",
       "    <tr>\n",
       "      <th>339</th>\n",
       "      <td>True</td>\n",
       "      <td>True</td>\n",
       "      <td>True</td>\n",
       "      <td>True</td>\n",
       "      <td>True</td>\n",
       "      <td>True</td>\n",
       "      <td>True</td>\n",
       "      <td>True</td>\n",
       "      <td>True</td>\n",
       "      <td>True</td>\n",
       "      <td>True</td>\n",
       "      <td>True</td>\n",
       "      <td>True</td>\n",
       "      <td>True</td>\n",
       "      <td>True</td>\n",
       "      <td>True</td>\n",
       "    </tr>\n",
       "    <tr>\n",
       "      <th>340</th>\n",
       "      <td>True</td>\n",
       "      <td>True</td>\n",
       "      <td>True</td>\n",
       "      <td>True</td>\n",
       "      <td>True</td>\n",
       "      <td>True</td>\n",
       "      <td>True</td>\n",
       "      <td>True</td>\n",
       "      <td>True</td>\n",
       "      <td>True</td>\n",
       "      <td>True</td>\n",
       "      <td>True</td>\n",
       "      <td>True</td>\n",
       "      <td>True</td>\n",
       "      <td>True</td>\n",
       "      <td>True</td>\n",
       "    </tr>\n",
       "  </tbody>\n",
       "</table>\n",
       "<p>341 rows × 16 columns</p>\n",
       "</div>"
      ],
      "text/plain": [
       "     Patient_ID    Age  Gender  Protein1  Protein2  Protein3  Protein4  \\\n",
       "0         False  False   False     False     False     False     False   \n",
       "1         False  False   False     False     False     False     False   \n",
       "2         False  False   False     False     False     False     False   \n",
       "3         False  False   False     False     False     False     False   \n",
       "4         False  False   False     False     False     False     False   \n",
       "..          ...    ...     ...       ...       ...       ...       ...   \n",
       "336        True   True    True      True      True      True      True   \n",
       "337        True   True    True      True      True      True      True   \n",
       "338        True   True    True      True      True      True      True   \n",
       "339        True   True    True      True      True      True      True   \n",
       "340        True   True    True      True      True      True      True   \n",
       "\n",
       "     Tumour_Stage  Histology  ER status  PR status  HER2 status  Surgery_type  \\\n",
       "0           False      False      False      False        False         False   \n",
       "1           False      False      False      False        False         False   \n",
       "2           False      False      False      False        False         False   \n",
       "3           False      False      False      False        False         False   \n",
       "4           False      False      False      False        False         False   \n",
       "..            ...        ...        ...        ...          ...           ...   \n",
       "336          True       True       True       True         True          True   \n",
       "337          True       True       True       True         True          True   \n",
       "338          True       True       True       True         True          True   \n",
       "339          True       True       True       True         True          True   \n",
       "340          True       True       True       True         True          True   \n",
       "\n",
       "     Date_of_Surgery  Date_of_Last_Visit  Patient_Status  \n",
       "0              False               False           False  \n",
       "1              False               False           False  \n",
       "2              False               False           False  \n",
       "3              False               False           False  \n",
       "4              False               False           False  \n",
       "..               ...                 ...             ...  \n",
       "336             True                True            True  \n",
       "337             True                True            True  \n",
       "338             True                True            True  \n",
       "339             True                True            True  \n",
       "340             True                True            True  \n",
       "\n",
       "[341 rows x 16 columns]"
      ]
     },
     "execution_count": 4,
     "metadata": {},
     "output_type": "execute_result"
    }
   ],
   "source": [
    "df.isnull()"
   ]
  },
  {
   "cell_type": "code",
   "execution_count": 5,
   "id": "a98f7fb5",
   "metadata": {},
   "outputs": [
    {
     "data": {
      "text/plain": [
       "(341, 16)"
      ]
     },
     "execution_count": 5,
     "metadata": {},
     "output_type": "execute_result"
    }
   ],
   "source": [
    "df.shape"
   ]
  },
  {
   "cell_type": "code",
   "execution_count": 6,
   "id": "3adba2ee",
   "metadata": {},
   "outputs": [],
   "source": [
    "# drop null values\n",
    "df.dropna(inplace=True)"
   ]
  },
  {
   "cell_type": "code",
   "execution_count": 7,
   "id": "d89c8a25",
   "metadata": {},
   "outputs": [
    {
     "data": {
      "text/html": [
       "<div>\n",
       "<style scoped>\n",
       "    .dataframe tbody tr th:only-of-type {\n",
       "        vertical-align: middle;\n",
       "    }\n",
       "\n",
       "    .dataframe tbody tr th {\n",
       "        vertical-align: top;\n",
       "    }\n",
       "\n",
       "    .dataframe thead th {\n",
       "        text-align: right;\n",
       "    }\n",
       "</style>\n",
       "<table border=\"1\" class=\"dataframe\">\n",
       "  <thead>\n",
       "    <tr style=\"text-align: right;\">\n",
       "      <th></th>\n",
       "      <th>Patient_ID</th>\n",
       "      <th>Age</th>\n",
       "      <th>Gender</th>\n",
       "      <th>Protein1</th>\n",
       "      <th>Protein2</th>\n",
       "      <th>Protein3</th>\n",
       "      <th>Protein4</th>\n",
       "      <th>Tumour_Stage</th>\n",
       "      <th>Histology</th>\n",
       "      <th>ER status</th>\n",
       "      <th>PR status</th>\n",
       "      <th>HER2 status</th>\n",
       "      <th>Surgery_type</th>\n",
       "      <th>Date_of_Surgery</th>\n",
       "      <th>Date_of_Last_Visit</th>\n",
       "      <th>Patient_Status</th>\n",
       "    </tr>\n",
       "  </thead>\n",
       "  <tbody>\n",
       "    <tr>\n",
       "      <th>0</th>\n",
       "      <td>TCGA-D8-A1XD</td>\n",
       "      <td>36.0</td>\n",
       "      <td>FEMALE</td>\n",
       "      <td>0.080353</td>\n",
       "      <td>0.42638</td>\n",
       "      <td>0.54715</td>\n",
       "      <td>0.273680</td>\n",
       "      <td>III</td>\n",
       "      <td>Infiltrating Ductal Carcinoma</td>\n",
       "      <td>Positive</td>\n",
       "      <td>Positive</td>\n",
       "      <td>Negative</td>\n",
       "      <td>Modified Radical Mastectomy</td>\n",
       "      <td>15-Jan-17</td>\n",
       "      <td>19-Jun-17</td>\n",
       "      <td>Alive</td>\n",
       "    </tr>\n",
       "    <tr>\n",
       "      <th>1</th>\n",
       "      <td>TCGA-EW-A1OX</td>\n",
       "      <td>43.0</td>\n",
       "      <td>FEMALE</td>\n",
       "      <td>-0.420320</td>\n",
       "      <td>0.57807</td>\n",
       "      <td>0.61447</td>\n",
       "      <td>-0.031505</td>\n",
       "      <td>II</td>\n",
       "      <td>Mucinous Carcinoma</td>\n",
       "      <td>Positive</td>\n",
       "      <td>Positive</td>\n",
       "      <td>Negative</td>\n",
       "      <td>Lumpectomy</td>\n",
       "      <td>26-Apr-17</td>\n",
       "      <td>09-Nov-18</td>\n",
       "      <td>Dead</td>\n",
       "    </tr>\n",
       "    <tr>\n",
       "      <th>2</th>\n",
       "      <td>TCGA-A8-A079</td>\n",
       "      <td>69.0</td>\n",
       "      <td>FEMALE</td>\n",
       "      <td>0.213980</td>\n",
       "      <td>1.31140</td>\n",
       "      <td>-0.32747</td>\n",
       "      <td>-0.234260</td>\n",
       "      <td>III</td>\n",
       "      <td>Infiltrating Ductal Carcinoma</td>\n",
       "      <td>Positive</td>\n",
       "      <td>Positive</td>\n",
       "      <td>Negative</td>\n",
       "      <td>Other</td>\n",
       "      <td>08-Sep-17</td>\n",
       "      <td>09-Jun-18</td>\n",
       "      <td>Alive</td>\n",
       "    </tr>\n",
       "    <tr>\n",
       "      <th>3</th>\n",
       "      <td>TCGA-D8-A1XR</td>\n",
       "      <td>56.0</td>\n",
       "      <td>FEMALE</td>\n",
       "      <td>0.345090</td>\n",
       "      <td>-0.21147</td>\n",
       "      <td>-0.19304</td>\n",
       "      <td>0.124270</td>\n",
       "      <td>II</td>\n",
       "      <td>Infiltrating Ductal Carcinoma</td>\n",
       "      <td>Positive</td>\n",
       "      <td>Positive</td>\n",
       "      <td>Negative</td>\n",
       "      <td>Modified Radical Mastectomy</td>\n",
       "      <td>25-Jan-17</td>\n",
       "      <td>12-Jul-17</td>\n",
       "      <td>Alive</td>\n",
       "    </tr>\n",
       "    <tr>\n",
       "      <th>4</th>\n",
       "      <td>TCGA-BH-A0BF</td>\n",
       "      <td>56.0</td>\n",
       "      <td>FEMALE</td>\n",
       "      <td>0.221550</td>\n",
       "      <td>1.90680</td>\n",
       "      <td>0.52045</td>\n",
       "      <td>-0.311990</td>\n",
       "      <td>II</td>\n",
       "      <td>Infiltrating Ductal Carcinoma</td>\n",
       "      <td>Positive</td>\n",
       "      <td>Positive</td>\n",
       "      <td>Negative</td>\n",
       "      <td>Other</td>\n",
       "      <td>06-May-17</td>\n",
       "      <td>27-Jun-19</td>\n",
       "      <td>Dead</td>\n",
       "    </tr>\n",
       "  </tbody>\n",
       "</table>\n",
       "</div>"
      ],
      "text/plain": [
       "     Patient_ID   Age  Gender  Protein1  Protein2  Protein3  Protein4  \\\n",
       "0  TCGA-D8-A1XD  36.0  FEMALE  0.080353   0.42638   0.54715  0.273680   \n",
       "1  TCGA-EW-A1OX  43.0  FEMALE -0.420320   0.57807   0.61447 -0.031505   \n",
       "2  TCGA-A8-A079  69.0  FEMALE  0.213980   1.31140  -0.32747 -0.234260   \n",
       "3  TCGA-D8-A1XR  56.0  FEMALE  0.345090  -0.21147  -0.19304  0.124270   \n",
       "4  TCGA-BH-A0BF  56.0  FEMALE  0.221550   1.90680   0.52045 -0.311990   \n",
       "\n",
       "  Tumour_Stage                      Histology ER status PR status HER2 status  \\\n",
       "0          III  Infiltrating Ductal Carcinoma  Positive  Positive    Negative   \n",
       "1           II             Mucinous Carcinoma  Positive  Positive    Negative   \n",
       "2          III  Infiltrating Ductal Carcinoma  Positive  Positive    Negative   \n",
       "3           II  Infiltrating Ductal Carcinoma  Positive  Positive    Negative   \n",
       "4           II  Infiltrating Ductal Carcinoma  Positive  Positive    Negative   \n",
       "\n",
       "                  Surgery_type Date_of_Surgery Date_of_Last_Visit  \\\n",
       "0  Modified Radical Mastectomy       15-Jan-17          19-Jun-17   \n",
       "1                   Lumpectomy       26-Apr-17          09-Nov-18   \n",
       "2                        Other       08-Sep-17          09-Jun-18   \n",
       "3  Modified Radical Mastectomy       25-Jan-17          12-Jul-17   \n",
       "4                        Other       06-May-17          27-Jun-19   \n",
       "\n",
       "  Patient_Status  \n",
       "0          Alive  \n",
       "1           Dead  \n",
       "2          Alive  \n",
       "3          Alive  \n",
       "4           Dead  "
      ]
     },
     "execution_count": 7,
     "metadata": {},
     "output_type": "execute_result"
    }
   ],
   "source": [
    "df.head()"
   ]
  },
  {
   "cell_type": "code",
   "execution_count": 8,
   "id": "37529c79",
   "metadata": {},
   "outputs": [
    {
     "data": {
      "text/plain": [
       "(317, 16)"
      ]
     },
     "execution_count": 8,
     "metadata": {},
     "output_type": "execute_result"
    }
   ],
   "source": [
    "df.shape"
   ]
  },
  {
   "cell_type": "code",
   "execution_count": 9,
   "id": "eaf26e7a",
   "metadata": {},
   "outputs": [
    {
     "name": "stdout",
     "output_type": "stream",
     "text": [
      "<class 'pandas.core.frame.DataFrame'>\n",
      "Index: 317 entries, 0 to 333\n",
      "Data columns (total 16 columns):\n",
      " #   Column              Non-Null Count  Dtype  \n",
      "---  ------              --------------  -----  \n",
      " 0   Patient_ID          317 non-null    object \n",
      " 1   Age                 317 non-null    float64\n",
      " 2   Gender              317 non-null    object \n",
      " 3   Protein1            317 non-null    float64\n",
      " 4   Protein2            317 non-null    float64\n",
      " 5   Protein3            317 non-null    float64\n",
      " 6   Protein4            317 non-null    float64\n",
      " 7   Tumour_Stage        317 non-null    object \n",
      " 8   Histology           317 non-null    object \n",
      " 9   ER status           317 non-null    object \n",
      " 10  PR status           317 non-null    object \n",
      " 11  HER2 status         317 non-null    object \n",
      " 12  Surgery_type        317 non-null    object \n",
      " 13  Date_of_Surgery     317 non-null    object \n",
      " 14  Date_of_Last_Visit  317 non-null    object \n",
      " 15  Patient_Status      317 non-null    object \n",
      "dtypes: float64(5), object(11)\n",
      "memory usage: 42.1+ KB\n"
     ]
    }
   ],
   "source": [
    "df.info()"
   ]
  },
  {
   "cell_type": "code",
   "execution_count": 10,
   "id": "c53f9992",
   "metadata": {},
   "outputs": [
    {
     "data": {
      "text/plain": [
       "Gender\n",
       "FEMALE    313\n",
       "MALE        4\n",
       "Name: count, dtype: int64"
      ]
     },
     "execution_count": 10,
     "metadata": {},
     "output_type": "execute_result"
    }
   ],
   "source": [
    "df.Gender.value_counts() #Highly imbalanced column"
   ]
  },
  {
   "cell_type": "code",
   "execution_count": 11,
   "id": "2fb64565",
   "metadata": {},
   "outputs": [
    {
     "name": "stdout",
     "output_type": "stream",
     "text": [
      "Patient Status in 100%\n"
     ]
    },
    {
     "data": {
      "text/plain": [
       "Patient_Status\n",
       "Alive    80.4\n",
       "Dead     19.6\n",
       "Name: count, dtype: float64"
      ]
     },
     "execution_count": 11,
     "metadata": {},
     "output_type": "execute_result"
    }
   ],
   "source": [
    "print('Patient Status in 100%')\n",
    "round(df.Patient_Status.value_counts()*100/len(df),1)"
   ]
  },
  {
   "cell_type": "markdown",
   "id": "681e3fdc",
   "metadata": {},
   "source": [
    "# Visulization"
   ]
  },
  {
   "cell_type": "code",
   "execution_count": 32,
   "id": "6f87bd79",
   "metadata": {},
   "outputs": [],
   "source": [
    "Patient_Status = df['Patient_Status'].value_counts()\n",
    "transactions = Patient_Status.index\n",
    "quantity = Patient_Status.values\n",
    "\n",
    "figure = px.pie(df, \n",
    "             values=quantity, \n",
    "             names=transactions, hole =.60, \n",
    "             title=\"Patient Status\")\n",
    "figure.show()"
   ]
  },
  {
   "cell_type": "code",
   "execution_count": null,
   "id": "06efb234",
   "metadata": {},
   "outputs": [],
   "source": [
    "df.columns"
   ]
  },
  {
   "cell_type": "code",
   "execution_count": null,
   "id": "54afb04a",
   "metadata": {},
   "outputs": [],
   "source": [
    "stage = df[\"Tumour_Stage\"].value_counts()\n",
    "transactions = stage.index\n",
    "quantity = stage.values\n",
    "\n",
    "figure = px.pie(df, \n",
    "             values=quantity, \n",
    "             names=transactions, hole = 0.5, \n",
    "             title=\"Tumour Stages of Patients\")\n",
    "figure.show()"
   ]
  },
  {
   "cell_type": "code",
   "execution_count": null,
   "id": "a925bb93",
   "metadata": {},
   "outputs": [],
   "source": [
    "histology = df[\"Histology\"].value_counts()\n",
    "transactions = histology.index\n",
    "quantity = histology.values\n",
    "\n",
    "figure = px.pie(df, \n",
    "             values=quantity, \n",
    "             names=transactions,hole = 0.5, \n",
    "             title=\"Histology of Patients\")\n",
    "figure.show()"
   ]
  },
  {
   "cell_type": "code",
   "execution_count": null,
   "id": "e461ce37",
   "metadata": {},
   "outputs": [],
   "source": [
    "ER_status = df['ER status'].value_counts()\n",
    "transactions = ER_status.index\n",
    "quantity = ER_status.values\n",
    "\n",
    "figure = px.pie(df, \n",
    "             values=quantity, \n",
    "             names=transactions,hole = 0.5, \n",
    "             title=\"ER Status\")\n",
    "figure.show()"
   ]
  },
  {
   "cell_type": "code",
   "execution_count": null,
   "id": "da589e84",
   "metadata": {},
   "outputs": [],
   "source": [
    "PR_status = df['PR status'].value_counts()\n",
    "transactions = PR_status.index\n",
    "quantity = PR_status.values\n",
    "\n",
    "figure = px.pie(df, \n",
    "             values=quantity, \n",
    "             names=transactions,hole = 0.5, \n",
    "             title=\"Patient Status\")\n",
    "figure.show()"
   ]
  },
  {
   "cell_type": "code",
   "execution_count": null,
   "id": "d04c8cc1",
   "metadata": {},
   "outputs": [],
   "source": [
    "HER2_status = df['HER2 status'].value_counts()\n",
    "transactions = HER2_status.index\n",
    "quantity = HER2_status.values\n",
    "\n",
    "figure = px.pie(df, \n",
    "             values=quantity, \n",
    "             names=transactions,hole = 0.5, \n",
    "             title=\"HER2 status\")\n",
    "figure.show()"
   ]
  },
  {
   "cell_type": "code",
   "execution_count": null,
   "id": "b43bac77",
   "metadata": {},
   "outputs": [],
   "source": [
    "df.drop(['Patient_ID','ER status','PR status','Date_of_Surgery','Date_of_Last_Visit'],axis=1,inplace=True)"
   ]
  },
  {
   "cell_type": "code",
   "execution_count": null,
   "id": "fc17c457",
   "metadata": {},
   "outputs": [],
   "source": [
    "df.head()"
   ]
  },
  {
   "cell_type": "code",
   "execution_count": 14,
   "id": "f98adf39",
   "metadata": {},
   "outputs": [
    {
     "data": {
      "text/plain": [
       "Gender\n",
       "FEMALE    313\n",
       "MALE        4\n",
       "Name: count, dtype: int64"
      ]
     },
     "execution_count": 14,
     "metadata": {},
     "output_type": "execute_result"
    }
   ],
   "source": [
    "df.Gender.value_counts()"
   ]
  },
  {
   "cell_type": "code",
   "execution_count": 15,
   "id": "6482cb78",
   "metadata": {},
   "outputs": [
    {
     "data": {
      "image/png": "[encoded data removed]",
      "text/plain": [
       "<Figure size 640x480 with 1 Axes>"
      ]
     },
     "metadata": {},
     "output_type": "display_data"
    },
    {
     "data": {
      "image/png": "[encoded data removed]",
      "text/plain": [
       "<Figure size 640x480 with 1 Axes>"
      ]
     },
     "metadata": {},
     "output_type": "display_data"
    },
    {
     "data": {
      "image/png": "[encoded data removed]",
      "text/plain": [
       "<Figure size 640x480 with 1 Axes>"
      ]
     },
     "metadata": {},
     "output_type": "display_data"
    },
    {
     "data": {
      "image/png": "[encoded data removed]",
      "text/plain": [
       "<Figure size 640x480 with 1 Axes>"
      ]
     },
     "metadata": {},
     "output_type": "display_data"
    },
    {
     "data": {
      "image/png": "[encoded data removed]",
      "text/plain": [
       "<Figure size 640x480 with 1 Axes>"
      ]
     },
     "metadata": {},
     "output_type": "display_data"
    }
   ],
   "source": [
    "for i in ['Age','Protein1','Protein2','Protein3','Protein4']:\n",
    "    plt.figsize=(10,5)\n",
    "    sns.boxplot(y = df[i])\n",
    "    plt.show()"
   ]
  },
  {
   "cell_type": "code",
   "execution_count": 16,
   "id": "4827f23e",
   "metadata": {},
   "outputs": [],
   "source": [
    "#!pip install pandas-profiling"
   ]
  },
  {
   "cell_type": "code",
   "execution_count": 13,
   "id": "562e9c9b",
   "metadata": {
    "scrolled": true
   },
   "outputs": [
    {
     "ename": "ImportError",
     "evalue": "cannot import name 'DataError' from 'pandas.core.base' (C:\\Users\\Ghost Codm\\AppData\\Local\\Packages\\PythonSoftwareFoundation.Python.3.11_qbz5n2kfra8p0\\LocalCache\\local-packages\\Python311\\site-packages\\pandas\\core\\base.py)",
     "output_type": "error",
     "traceback": [
      "\u001b[1;31m---------------------------------------------------------------------------\u001b[0m",
      "\u001b[1;31mImportError\u001b[0m                               Traceback (most recent call last)",
      "Cell \u001b[1;32mIn[13], line 1\u001b[0m\n\u001b[1;32m----> 1\u001b[0m \u001b[38;5;28;01mfrom\u001b[39;00m \u001b[38;5;21;01mpandas_profiling\u001b[39;00m \u001b[38;5;28;01mimport\u001b[39;00m ProfileReport\n\u001b[0;32m      2\u001b[0m \u001b[38;5;28;01mimport\u001b[39;00m \u001b[38;5;21;01mpydantic_settings\u001b[39;00m\n\u001b[0;32m      3\u001b[0m \u001b[38;5;28;01mfrom\u001b[39;00m \u001b[38;5;21;01mpydantic\u001b[39;00m \u001b[38;5;28;01mimport\u001b[39;00m BaseSettings\n",
      "File \u001b[1;32m~\\AppData\\Local\\Packages\\PythonSoftwareFoundation.Python.3.11_qbz5n2kfra8p0\\LocalCache\\local-packages\\Python311\\site-packages\\pandas_profiling\\__init__.py:6\u001b[0m\n\u001b[0;32m      1\u001b[0m \u001b[38;5;124;03m\"\"\"Main module of pandas-profiling.\u001b[39;00m\n\u001b[0;32m      2\u001b[0m \n\u001b[0;32m      3\u001b[0m \u001b[38;5;124;03m.. include:: ../../README.md\u001b[39;00m\n\u001b[0;32m      4\u001b[0m \u001b[38;5;124;03m\"\"\"\u001b[39;00m\n\u001b[1;32m----> 6\u001b[0m \u001b[38;5;28;01mfrom\u001b[39;00m \u001b[38;5;21;01mpandas_profiling\u001b[39;00m\u001b[38;5;21;01m.\u001b[39;00m\u001b[38;5;21;01mcontroller\u001b[39;00m \u001b[38;5;28;01mimport\u001b[39;00m pandas_decorator\n\u001b[0;32m      7\u001b[0m \u001b[38;5;28;01mfrom\u001b[39;00m \u001b[38;5;21;01mpandas_profiling\u001b[39;00m\u001b[38;5;21;01m.\u001b[39;00m\u001b[38;5;21;01mprofile_report\u001b[39;00m \u001b[38;5;28;01mimport\u001b[39;00m ProfileReport\n\u001b[0;32m      8\u001b[0m \u001b[38;5;28;01mfrom\u001b[39;00m \u001b[38;5;21;01mpandas_profiling\u001b[39;00m\u001b[38;5;21;01m.\u001b[39;00m\u001b[38;5;21;01mversion\u001b[39;00m \u001b[38;5;28;01mimport\u001b[39;00m __version__\n",
      "File \u001b[1;32m~\\AppData\\Local\\Packages\\PythonSoftwareFoundation.Python.3.11_qbz5n2kfra8p0\\LocalCache\\local-packages\\Python311\\site-packages\\pandas_profiling\\controller\\pandas_decorator.py:4\u001b[0m\n\u001b[0;32m      1\u001b[0m \u001b[38;5;124;03m\"\"\"This file add the decorator on the DataFrame object.\"\"\"\u001b[39;00m\n\u001b[0;32m      2\u001b[0m \u001b[38;5;28;01mfrom\u001b[39;00m \u001b[38;5;21;01mpandas\u001b[39;00m \u001b[38;5;28;01mimport\u001b[39;00m DataFrame\n\u001b[1;32m----> 4\u001b[0m \u001b[38;5;28;01mfrom\u001b[39;00m \u001b[38;5;21;01mpandas_profiling\u001b[39;00m\u001b[38;5;21;01m.\u001b[39;00m\u001b[38;5;21;01mprofile_report\u001b[39;00m \u001b[38;5;28;01mimport\u001b[39;00m ProfileReport\n\u001b[0;32m      7\u001b[0m \u001b[38;5;28;01mdef\u001b[39;00m \u001b[38;5;21mprofile_report\u001b[39m(df: DataFrame, \u001b[38;5;241m*\u001b[39m\u001b[38;5;241m*\u001b[39mkwargs) \u001b[38;5;241m-\u001b[39m\u001b[38;5;241m>\u001b[39m ProfileReport:\n\u001b[0;32m      8\u001b[0m \u001b[38;5;250m    \u001b[39m\u001b[38;5;124;03m\"\"\"Profile a DataFrame.\u001b[39;00m\n\u001b[0;32m      9\u001b[0m \n\u001b[0;32m     10\u001b[0m \u001b[38;5;124;03m    Args:\u001b[39;00m\n\u001b[1;32m   (...)\u001b[0m\n\u001b[0;32m     15\u001b[0m \u001b[38;5;124;03m        A ProfileReport of the DataFrame.\u001b[39;00m\n\u001b[0;32m     16\u001b[0m \u001b[38;5;124;03m    \"\"\"\u001b[39;00m\n",
      "File \u001b[1;32m~\\AppData\\Local\\Packages\\PythonSoftwareFoundation.Python.3.11_qbz5n2kfra8p0\\LocalCache\\local-packages\\Python311\\site-packages\\pandas_profiling\\profile_report.py:15\u001b[0m\n\u001b[0;32m     13\u001b[0m \u001b[38;5;28;01mfrom\u001b[39;00m \u001b[38;5;21;01mpandas_profiling\u001b[39;00m\u001b[38;5;21;01m.\u001b[39;00m\u001b[38;5;21;01mconfig\u001b[39;00m \u001b[38;5;28;01mimport\u001b[39;00m Config, Settings\n\u001b[0;32m     14\u001b[0m \u001b[38;5;28;01mfrom\u001b[39;00m \u001b[38;5;21;01mpandas_profiling\u001b[39;00m\u001b[38;5;21;01m.\u001b[39;00m\u001b[38;5;21;01mexpectations_report\u001b[39;00m \u001b[38;5;28;01mimport\u001b[39;00m ExpectationsReport\n\u001b[1;32m---> 15\u001b[0m \u001b[38;5;28;01mfrom\u001b[39;00m \u001b[38;5;21;01mpandas_profiling\u001b[39;00m\u001b[38;5;21;01m.\u001b[39;00m\u001b[38;5;21;01mmodel\u001b[39;00m\u001b[38;5;21;01m.\u001b[39;00m\u001b[38;5;21;01malerts\u001b[39;00m \u001b[38;5;28;01mimport\u001b[39;00m AlertType\n\u001b[0;32m     16\u001b[0m \u001b[38;5;28;01mfrom\u001b[39;00m \u001b[38;5;21;01mpandas_profiling\u001b[39;00m\u001b[38;5;21;01m.\u001b[39;00m\u001b[38;5;21;01mmodel\u001b[39;00m\u001b[38;5;21;01m.\u001b[39;00m\u001b[38;5;21;01mdescribe\u001b[39;00m \u001b[38;5;28;01mimport\u001b[39;00m describe \u001b[38;5;28;01mas\u001b[39;00m describe_df\n\u001b[0;32m     17\u001b[0m \u001b[38;5;28;01mfrom\u001b[39;00m \u001b[38;5;21;01mpandas_profiling\u001b[39;00m\u001b[38;5;21;01m.\u001b[39;00m\u001b[38;5;21;01mmodel\u001b[39;00m\u001b[38;5;21;01m.\u001b[39;00m\u001b[38;5;21;01msample\u001b[39;00m \u001b[38;5;28;01mimport\u001b[39;00m Sample\n",
      "File \u001b[1;32m~\\AppData\\Local\\Packages\\PythonSoftwareFoundation.Python.3.11_qbz5n2kfra8p0\\LocalCache\\local-packages\\Python311\\site-packages\\pandas_profiling\\model\\alerts.py:10\u001b[0m\n\u001b[0;32m      7\u001b[0m \u001b[38;5;28;01mimport\u001b[39;00m \u001b[38;5;21;01mpandas\u001b[39;00m \u001b[38;5;28;01mas\u001b[39;00m \u001b[38;5;21;01mpd\u001b[39;00m\n\u001b[0;32m      9\u001b[0m \u001b[38;5;28;01mfrom\u001b[39;00m \u001b[38;5;21;01mpandas_profiling\u001b[39;00m\u001b[38;5;21;01m.\u001b[39;00m\u001b[38;5;21;01mconfig\u001b[39;00m \u001b[38;5;28;01mimport\u001b[39;00m Settings\n\u001b[1;32m---> 10\u001b[0m \u001b[38;5;28;01mfrom\u001b[39;00m \u001b[38;5;21;01mpandas_profiling\u001b[39;00m\u001b[38;5;21;01m.\u001b[39;00m\u001b[38;5;21;01mmodel\u001b[39;00m\u001b[38;5;21;01m.\u001b[39;00m\u001b[38;5;21;01mcorrelations\u001b[39;00m \u001b[38;5;28;01mimport\u001b[39;00m perform_check_correlation\n\u001b[0;32m     13\u001b[0m \u001b[38;5;129m@unique\u001b[39m\n\u001b[0;32m     14\u001b[0m \u001b[38;5;28;01mclass\u001b[39;00m \u001b[38;5;21;01mAlertType\u001b[39;00m(Enum):\n\u001b[0;32m     15\u001b[0m \u001b[38;5;250m    \u001b[39m\u001b[38;5;124;03m\"\"\"Alert types\"\"\"\u001b[39;00m\n",
      "File \u001b[1;32m~\\AppData\\Local\\Packages\\PythonSoftwareFoundation.Python.3.11_qbz5n2kfra8p0\\LocalCache\\local-packages\\Python311\\site-packages\\pandas_profiling\\model\\correlations.py:8\u001b[0m\n\u001b[0;32m      6\u001b[0m \u001b[38;5;28;01mimport\u001b[39;00m \u001b[38;5;21;01mpandas\u001b[39;00m \u001b[38;5;28;01mas\u001b[39;00m \u001b[38;5;21;01mpd\u001b[39;00m\n\u001b[0;32m      7\u001b[0m \u001b[38;5;28;01mfrom\u001b[39;00m \u001b[38;5;21;01mmultimethod\u001b[39;00m \u001b[38;5;28;01mimport\u001b[39;00m multimethod\n\u001b[1;32m----> 8\u001b[0m \u001b[38;5;28;01mfrom\u001b[39;00m \u001b[38;5;21;01mpandas\u001b[39;00m\u001b[38;5;21;01m.\u001b[39;00m\u001b[38;5;21;01mcore\u001b[39;00m\u001b[38;5;21;01m.\u001b[39;00m\u001b[38;5;21;01mbase\u001b[39;00m \u001b[38;5;28;01mimport\u001b[39;00m DataError\n\u001b[0;32m     10\u001b[0m \u001b[38;5;28;01mfrom\u001b[39;00m \u001b[38;5;21;01mpandas_profiling\u001b[39;00m\u001b[38;5;21;01m.\u001b[39;00m\u001b[38;5;21;01mconfig\u001b[39;00m \u001b[38;5;28;01mimport\u001b[39;00m Settings\n\u001b[0;32m     13\u001b[0m \u001b[38;5;28;01mclass\u001b[39;00m \u001b[38;5;21;01mCorrelation\u001b[39;00m:\n",
      "\u001b[1;31mImportError\u001b[0m: cannot import name 'DataError' from 'pandas.core.base' (C:\\Users\\Ghost Codm\\AppData\\Local\\Packages\\PythonSoftwareFoundation.Python.3.11_qbz5n2kfra8p0\\LocalCache\\local-packages\\Python311\\site-packages\\pandas\\core\\base.py)"
     ]
    }
   ],
   "source": [
    "from pandas_profiling import ProfileReport\n",
    "import pydantic_settings\n",
    "from pydantic import BaseSettings\n",
    "\n",
    "\n",
    "report = ProfileReport(df, title=\"EDA Report of Breast Cancer Dataset\")\n"
   ]
  },
  {
   "cell_type": "code",
   "execution_count": 25,
   "id": "41dfec2f",
   "metadata": {},
   "outputs": [],
   "source": [
    "#!pip install pycaret\n",
    "#!pip install mlflow"
   ]
  },
  {
   "cell_type": "code",
   "execution_count": 14,
   "id": "41741e03",
   "metadata": {},
   "outputs": [
    {
     "name": "stderr",
     "output_type": "stream",
     "text": [
      "PandasGUI INFO — pandasgui.gui — Opening PandasGUI\n"
     ]
    }
   ],
   "source": [
    "from pandasgui import show\n",
    "\n",
    "gui = show(df)\n",
    "\n",
    "\n"
   ]
  },
  {
   "cell_type": "code",
   "execution_count": null,
   "id": "14608aa8",
   "metadata": {},
   "outputs": [],
   "source": []
  },
  {
   "cell_type": "code",
   "execution_count": 26,
   "id": "37fae7ec",
   "metadata": {},
   "outputs": [],
   "source": [
    "from pycaret.classification import "
   ]
  },
  {
   "cell_type": "code",
   "execution_count": 27,
   "id": "db18c97a",
   "metadata": {},
   "outputs": [
    {
     "data": {
      "text/html": [
       "<style type=\"text/css\">\n",
       "#T_29530_row11_col1, #T_29530_row17_col1, #T_29530_row19_col1, #T_29530_row21_col1 {\n",
       "  background-color: lightgreen;\n",
       "}\n",
       "</style>\n",
       "<table id=\"T_29530\">\n",
       "  <thead>\n",
       "    <tr>\n",
       "      <th class=\"blank level0\" >&nbsp;</th>\n",
       "      <th id=\"T_29530_level0_col0\" class=\"col_heading level0 col0\" >Description</th>\n",
       "      <th id=\"T_29530_level0_col1\" class=\"col_heading level0 col1\" >Value</th>\n",
       "    </tr>\n",
       "  </thead>\n",
       "  <tbody>\n",
       "    <tr>\n",
       "      <th id=\"T_29530_level0_row0\" class=\"row_heading level0 row0\" >0</th>\n",
       "      <td id=\"T_29530_row0_col0\" class=\"data row0 col0\" >Session id</td>\n",
       "      <td id=\"T_29530_row0_col1\" class=\"data row0 col1\" >3471</td>\n",
       "    </tr>\n",
       "    <tr>\n",
       "      <th id=\"T_29530_level0_row1\" class=\"row_heading level0 row1\" >1</th>\n",
       "      <td id=\"T_29530_row1_col0\" class=\"data row1 col0\" >Target</td>\n",
       "      <td id=\"T_29530_row1_col1\" class=\"data row1 col1\" >Patient_Status</td>\n",
       "    </tr>\n",
       "    <tr>\n",
       "      <th id=\"T_29530_level0_row2\" class=\"row_heading level0 row2\" >2</th>\n",
       "      <td id=\"T_29530_row2_col0\" class=\"data row2 col0\" >Target type</td>\n",
       "      <td id=\"T_29530_row2_col1\" class=\"data row2 col1\" >Binary</td>\n",
       "    </tr>\n",
       "    <tr>\n",
       "      <th id=\"T_29530_level0_row3\" class=\"row_heading level0 row3\" >3</th>\n",
       "      <td id=\"T_29530_row3_col0\" class=\"data row3 col0\" >Target mapping</td>\n",
       "      <td id=\"T_29530_row3_col1\" class=\"data row3 col1\" >Alive: 0, Dead: 1</td>\n",
       "    </tr>\n",
       "    <tr>\n",
       "      <th id=\"T_29530_level0_row4\" class=\"row_heading level0 row4\" >4</th>\n",
       "      <td id=\"T_29530_row4_col0\" class=\"data row4 col0\" >Original data shape</td>\n",
       "      <td id=\"T_29530_row4_col1\" class=\"data row4 col1\" >(317, 11)</td>\n",
       "    </tr>\n",
       "    <tr>\n",
       "      <th id=\"T_29530_level0_row5\" class=\"row_heading level0 row5\" >5</th>\n",
       "      <td id=\"T_29530_row5_col0\" class=\"data row5 col0\" >Transformed data shape</td>\n",
       "      <td id=\"T_29530_row5_col1\" class=\"data row5 col1\" >(317, 18)</td>\n",
       "    </tr>\n",
       "    <tr>\n",
       "      <th id=\"T_29530_level0_row6\" class=\"row_heading level0 row6\" >6</th>\n",
       "      <td id=\"T_29530_row6_col0\" class=\"data row6 col0\" >Transformed train set shape</td>\n",
       "      <td id=\"T_29530_row6_col1\" class=\"data row6 col1\" >(221, 18)</td>\n",
       "    </tr>\n",
       "    <tr>\n",
       "      <th id=\"T_29530_level0_row7\" class=\"row_heading level0 row7\" >7</th>\n",
       "      <td id=\"T_29530_row7_col0\" class=\"data row7 col0\" >Transformed test set shape</td>\n",
       "      <td id=\"T_29530_row7_col1\" class=\"data row7 col1\" >(96, 18)</td>\n",
       "    </tr>\n",
       "    <tr>\n",
       "      <th id=\"T_29530_level0_row8\" class=\"row_heading level0 row8\" >8</th>\n",
       "      <td id=\"T_29530_row8_col0\" class=\"data row8 col0\" >Ordinal features</td>\n",
       "      <td id=\"T_29530_row8_col1\" class=\"data row8 col1\" >2</td>\n",
       "    </tr>\n",
       "    <tr>\n",
       "      <th id=\"T_29530_level0_row9\" class=\"row_heading level0 row9\" >9</th>\n",
       "      <td id=\"T_29530_row9_col0\" class=\"data row9 col0\" >Numeric features</td>\n",
       "      <td id=\"T_29530_row9_col1\" class=\"data row9 col1\" >5</td>\n",
       "    </tr>\n",
       "    <tr>\n",
       "      <th id=\"T_29530_level0_row10\" class=\"row_heading level0 row10\" >10</th>\n",
       "      <td id=\"T_29530_row10_col0\" class=\"data row10 col0\" >Categorical features</td>\n",
       "      <td id=\"T_29530_row10_col1\" class=\"data row10 col1\" >5</td>\n",
       "    </tr>\n",
       "    <tr>\n",
       "      <th id=\"T_29530_level0_row11\" class=\"row_heading level0 row11\" >11</th>\n",
       "      <td id=\"T_29530_row11_col0\" class=\"data row11 col0\" >Preprocess</td>\n",
       "      <td id=\"T_29530_row11_col1\" class=\"data row11 col1\" >True</td>\n",
       "    </tr>\n",
       "    <tr>\n",
       "      <th id=\"T_29530_level0_row12\" class=\"row_heading level0 row12\" >12</th>\n",
       "      <td id=\"T_29530_row12_col0\" class=\"data row12 col0\" >Imputation type</td>\n",
       "      <td id=\"T_29530_row12_col1\" class=\"data row12 col1\" >simple</td>\n",
       "    </tr>\n",
       "    <tr>\n",
       "      <th id=\"T_29530_level0_row13\" class=\"row_heading level0 row13\" >13</th>\n",
       "      <td id=\"T_29530_row13_col0\" class=\"data row13 col0\" >Numeric imputation</td>\n",
       "      <td id=\"T_29530_row13_col1\" class=\"data row13 col1\" >median</td>\n",
       "    </tr>\n",
       "    <tr>\n",
       "      <th id=\"T_29530_level0_row14\" class=\"row_heading level0 row14\" >14</th>\n",
       "      <td id=\"T_29530_row14_col0\" class=\"data row14 col0\" >Categorical imputation</td>\n",
       "      <td id=\"T_29530_row14_col1\" class=\"data row14 col1\" >mode</td>\n",
       "    </tr>\n",
       "    <tr>\n",
       "      <th id=\"T_29530_level0_row15\" class=\"row_heading level0 row15\" >15</th>\n",
       "      <td id=\"T_29530_row15_col0\" class=\"data row15 col0\" >Maximum one-hot encoding</td>\n",
       "      <td id=\"T_29530_row15_col1\" class=\"data row15 col1\" >25</td>\n",
       "    </tr>\n",
       "    <tr>\n",
       "      <th id=\"T_29530_level0_row16\" class=\"row_heading level0 row16\" >16</th>\n",
       "      <td id=\"T_29530_row16_col0\" class=\"data row16 col0\" >Encoding method</td>\n",
       "      <td id=\"T_29530_row16_col1\" class=\"data row16 col1\" >None</td>\n",
       "    </tr>\n",
       "    <tr>\n",
       "      <th id=\"T_29530_level0_row17\" class=\"row_heading level0 row17\" >17</th>\n",
       "      <td id=\"T_29530_row17_col0\" class=\"data row17 col0\" >Remove multicollinearity</td>\n",
       "      <td id=\"T_29530_row17_col1\" class=\"data row17 col1\" >True</td>\n",
       "    </tr>\n",
       "    <tr>\n",
       "      <th id=\"T_29530_level0_row18\" class=\"row_heading level0 row18\" >18</th>\n",
       "      <td id=\"T_29530_row18_col0\" class=\"data row18 col0\" >Multicollinearity threshold</td>\n",
       "      <td id=\"T_29530_row18_col1\" class=\"data row18 col1\" >0.900000</td>\n",
       "    </tr>\n",
       "    <tr>\n",
       "      <th id=\"T_29530_level0_row19\" class=\"row_heading level0 row19\" >19</th>\n",
       "      <td id=\"T_29530_row19_col0\" class=\"data row19 col0\" >Transformation</td>\n",
       "      <td id=\"T_29530_row19_col1\" class=\"data row19 col1\" >True</td>\n",
       "    </tr>\n",
       "    <tr>\n",
       "      <th id=\"T_29530_level0_row20\" class=\"row_heading level0 row20\" >20</th>\n",
       "      <td id=\"T_29530_row20_col0\" class=\"data row20 col0\" >Transformation method</td>\n",
       "      <td id=\"T_29530_row20_col1\" class=\"data row20 col1\" >yeo-johnson</td>\n",
       "    </tr>\n",
       "    <tr>\n",
       "      <th id=\"T_29530_level0_row21\" class=\"row_heading level0 row21\" >21</th>\n",
       "      <td id=\"T_29530_row21_col0\" class=\"data row21 col0\" >Normalize</td>\n",
       "      <td id=\"T_29530_row21_col1\" class=\"data row21 col1\" >True</td>\n",
       "    </tr>\n",
       "    <tr>\n",
       "      <th id=\"T_29530_level0_row22\" class=\"row_heading level0 row22\" >22</th>\n",
       "      <td id=\"T_29530_row22_col0\" class=\"data row22 col0\" >Normalize method</td>\n",
       "      <td id=\"T_29530_row22_col1\" class=\"data row22 col1\" >zscore</td>\n",
       "    </tr>\n",
       "    <tr>\n",
       "      <th id=\"T_29530_level0_row23\" class=\"row_heading level0 row23\" >23</th>\n",
       "      <td id=\"T_29530_row23_col0\" class=\"data row23 col0\" >Fold Generator</td>\n",
       "      <td id=\"T_29530_row23_col1\" class=\"data row23 col1\" >StratifiedKFold</td>\n",
       "    </tr>\n",
       "    <tr>\n",
       "      <th id=\"T_29530_level0_row24\" class=\"row_heading level0 row24\" >24</th>\n",
       "      <td id=\"T_29530_row24_col0\" class=\"data row24 col0\" >Fold Number</td>\n",
       "      <td id=\"T_29530_row24_col1\" class=\"data row24 col1\" >5</td>\n",
       "    </tr>\n",
       "    <tr>\n",
       "      <th id=\"T_29530_level0_row25\" class=\"row_heading level0 row25\" >25</th>\n",
       "      <td id=\"T_29530_row25_col0\" class=\"data row25 col0\" >CPU Jobs</td>\n",
       "      <td id=\"T_29530_row25_col1\" class=\"data row25 col1\" >-1</td>\n",
       "    </tr>\n",
       "    <tr>\n",
       "      <th id=\"T_29530_level0_row26\" class=\"row_heading level0 row26\" >26</th>\n",
       "      <td id=\"T_29530_row26_col0\" class=\"data row26 col0\" >Use GPU</td>\n",
       "      <td id=\"T_29530_row26_col1\" class=\"data row26 col1\" >False</td>\n",
       "    </tr>\n",
       "    <tr>\n",
       "      <th id=\"T_29530_level0_row27\" class=\"row_heading level0 row27\" >27</th>\n",
       "      <td id=\"T_29530_row27_col0\" class=\"data row27 col0\" >Log Experiment</td>\n",
       "      <td id=\"T_29530_row27_col1\" class=\"data row27 col1\" >MlflowLogger</td>\n",
       "    </tr>\n",
       "    <tr>\n",
       "      <th id=\"T_29530_level0_row28\" class=\"row_heading level0 row28\" >28</th>\n",
       "      <td id=\"T_29530_row28_col0\" class=\"data row28 col0\" >Experiment Name</td>\n",
       "      <td id=\"T_29530_row28_col1\" class=\"data row28 col1\" >clf-default-name</td>\n",
       "    </tr>\n",
       "    <tr>\n",
       "      <th id=\"T_29530_level0_row29\" class=\"row_heading level0 row29\" >29</th>\n",
       "      <td id=\"T_29530_row29_col0\" class=\"data row29 col0\" >USI</td>\n",
       "      <td id=\"T_29530_row29_col1\" class=\"data row29 col1\" >1199</td>\n",
       "    </tr>\n",
       "  </tbody>\n",
       "</table>\n"
      ],
      "text/plain": [
       "<pandas.io.formats.style.Styler at 0x23ffae50d30>"
      ]
     },
     "metadata": {},
     "output_type": "display_data"
    }
   ],
   "source": [
    "cancer = setup(data = df, target = 'Patient_Status', \n",
    "                  normalize = True, \n",
    "                  transformation = True, \n",
    "                  log_experiment = True, \n",
    "                  remove_multicollinearity = True, #Drop one of the two features that are highly correlated with each other\n",
    "                  numeric_imputation='median',\n",
    "                  fold = 5,\n",
    "                  #ignore_features=['Patient_ID'],\n",
    "                  #date_features=['Date_of_Surgery','Date_of_Last_Visit'],\n",
    "                  #fix_imbalance = False,\n",
    "                  train_size = 0.70\n",
    "          )"
   ]
  },
  {
   "cell_type": "markdown",
   "id": "41e697e1",
   "metadata": {},
   "source": [
    "In machine learning, a \"MlflowLogger\" typically refers to a component or tool used for recording or logging information during the training process. It helps track various metrics, such as loss values, accuracy, and other performance indicators, over the course of training a machine learning model."
   ]
  },
  {
   "cell_type": "markdown",
   "id": "0a3ba494",
   "metadata": {},
   "source": [
    "# Buildin ML Models"
   ]
  },
  {
   "cell_type": "markdown",
   "id": "feb75936",
   "metadata": {},
   "source": [
    "* 'lr' - Logistic Regression\n",
    "    * 'knn' - K Neighbors Classifier\n",
    "    * 'nb' - Naive Bayes\n",
    "    * 'dt' - Decision Tree Classifier\n",
    "    * 'svm' - SVM - Linear Kernel\n",
    "    * 'rbfsvm' - SVM - Radial Kernel\n",
    "    * 'gpc' - Gaussian Process Classifier\n",
    "    * 'mlp' - MLP Classifier\n",
    "    * 'ridge' - Ridge Classifier\n",
    "    * 'rf' - Random Forest Classifier\n",
    "    * 'qda' - Quadratic Discriminant Analysis\n",
    "    * 'ada' - Ada Boost Classifier\n",
    "    * 'gbc' - Gradient Boosting Classifier\n",
    "    * 'lda' - Linear Discriminant Analysis\n",
    "    * 'et' - Extra Trees Classifier\n",
    "    * 'xgboost' - Extreme Gradient Boosting\n",
    "    * 'lightgbm' - Light Gradient Boosting Machine\n",
    "    * 'catboost' - CatBoost Classifier"
   ]
  },
  {
   "cell_type": "code",
   "execution_count": 28,
   "id": "dbe45c9a",
   "metadata": {},
   "outputs": [
    {
     "data": {
      "text/html": [],
      "text/plain": [
       "<IPython.core.display.HTML object>"
      ]
     },
     "metadata": {},
     "output_type": "display_data"
    },
    {
     "data": {
      "text/html": [
       "<style type=\"text/css\">\n",
       "#T_cd6d9_row5_col0, #T_cd6d9_row5_col1, #T_cd6d9_row5_col2, #T_cd6d9_row5_col3, #T_cd6d9_row5_col4, #T_cd6d9_row5_col5, #T_cd6d9_row5_col6 {\n",
       "  background: yellow;\n",
       "}\n",
       "</style>\n",
       "<table id=\"T_cd6d9\">\n",
       "  <thead>\n",
       "    <tr>\n",
       "      <th class=\"blank level0\" >&nbsp;</th>\n",
       "      <th id=\"T_cd6d9_level0_col0\" class=\"col_heading level0 col0\" >Accuracy</th>\n",
       "      <th id=\"T_cd6d9_level0_col1\" class=\"col_heading level0 col1\" >AUC</th>\n",
       "      <th id=\"T_cd6d9_level0_col2\" class=\"col_heading level0 col2\" >Recall</th>\n",
       "      <th id=\"T_cd6d9_level0_col3\" class=\"col_heading level0 col3\" >Prec.</th>\n",
       "      <th id=\"T_cd6d9_level0_col4\" class=\"col_heading level0 col4\" >F1</th>\n",
       "      <th id=\"T_cd6d9_level0_col5\" class=\"col_heading level0 col5\" >Kappa</th>\n",
       "      <th id=\"T_cd6d9_level0_col6\" class=\"col_heading level0 col6\" >MCC</th>\n",
       "    </tr>\n",
       "    <tr>\n",
       "      <th class=\"index_name level0\" >Fold</th>\n",
       "      <th class=\"blank col0\" >&nbsp;</th>\n",
       "      <th class=\"blank col1\" >&nbsp;</th>\n",
       "      <th class=\"blank col2\" >&nbsp;</th>\n",
       "      <th class=\"blank col3\" >&nbsp;</th>\n",
       "      <th class=\"blank col4\" >&nbsp;</th>\n",
       "      <th class=\"blank col5\" >&nbsp;</th>\n",
       "      <th class=\"blank col6\" >&nbsp;</th>\n",
       "    </tr>\n",
       "  </thead>\n",
       "  <tbody>\n",
       "    <tr>\n",
       "      <th id=\"T_cd6d9_level0_row0\" class=\"row_heading level0 row0\" >0</th>\n",
       "      <td id=\"T_cd6d9_row0_col0\" class=\"data row0 col0\" >0.8000</td>\n",
       "      <td id=\"T_cd6d9_row0_col1\" class=\"data row0 col1\" >0.3935</td>\n",
       "      <td id=\"T_cd6d9_row0_col2\" class=\"data row0 col2\" >0.0000</td>\n",
       "      <td id=\"T_cd6d9_row0_col3\" class=\"data row0 col3\" >0.0000</td>\n",
       "      <td id=\"T_cd6d9_row0_col4\" class=\"data row0 col4\" >0.0000</td>\n",
       "      <td id=\"T_cd6d9_row0_col5\" class=\"data row0 col5\" >0.0000</td>\n",
       "      <td id=\"T_cd6d9_row0_col6\" class=\"data row0 col6\" >0.0000</td>\n",
       "    </tr>\n",
       "    <tr>\n",
       "      <th id=\"T_cd6d9_level0_row1\" class=\"row_heading level0 row1\" >1</th>\n",
       "      <td id=\"T_cd6d9_row1_col0\" class=\"data row1 col0\" >0.7955</td>\n",
       "      <td id=\"T_cd6d9_row1_col1\" class=\"data row1 col1\" >0.5730</td>\n",
       "      <td id=\"T_cd6d9_row1_col2\" class=\"data row1 col2\" >0.0000</td>\n",
       "      <td id=\"T_cd6d9_row1_col3\" class=\"data row1 col3\" >0.0000</td>\n",
       "      <td id=\"T_cd6d9_row1_col4\" class=\"data row1 col4\" >0.0000</td>\n",
       "      <td id=\"T_cd6d9_row1_col5\" class=\"data row1 col5\" >0.0000</td>\n",
       "      <td id=\"T_cd6d9_row1_col6\" class=\"data row1 col6\" >0.0000</td>\n",
       "    </tr>\n",
       "    <tr>\n",
       "      <th id=\"T_cd6d9_level0_row2\" class=\"row_heading level0 row2\" >2</th>\n",
       "      <td id=\"T_cd6d9_row2_col0\" class=\"data row2 col0\" >0.7955</td>\n",
       "      <td id=\"T_cd6d9_row2_col1\" class=\"data row2 col1\" >0.4714</td>\n",
       "      <td id=\"T_cd6d9_row2_col2\" class=\"data row2 col2\" >0.0000</td>\n",
       "      <td id=\"T_cd6d9_row2_col3\" class=\"data row2 col3\" >0.0000</td>\n",
       "      <td id=\"T_cd6d9_row2_col4\" class=\"data row2 col4\" >0.0000</td>\n",
       "      <td id=\"T_cd6d9_row2_col5\" class=\"data row2 col5\" >0.0000</td>\n",
       "      <td id=\"T_cd6d9_row2_col6\" class=\"data row2 col6\" >0.0000</td>\n",
       "    </tr>\n",
       "    <tr>\n",
       "      <th id=\"T_cd6d9_level0_row3\" class=\"row_heading level0 row3\" >3</th>\n",
       "      <td id=\"T_cd6d9_row3_col0\" class=\"data row3 col0\" >0.7727</td>\n",
       "      <td id=\"T_cd6d9_row3_col1\" class=\"data row3 col1\" >0.4774</td>\n",
       "      <td id=\"T_cd6d9_row3_col2\" class=\"data row3 col2\" >0.0000</td>\n",
       "      <td id=\"T_cd6d9_row3_col3\" class=\"data row3 col3\" >0.0000</td>\n",
       "      <td id=\"T_cd6d9_row3_col4\" class=\"data row3 col4\" >0.0000</td>\n",
       "      <td id=\"T_cd6d9_row3_col5\" class=\"data row3 col5\" >-0.0784</td>\n",
       "      <td id=\"T_cd6d9_row3_col6\" class=\"data row3 col6\" >-0.1029</td>\n",
       "    </tr>\n",
       "    <tr>\n",
       "      <th id=\"T_cd6d9_level0_row4\" class=\"row_heading level0 row4\" >4</th>\n",
       "      <td id=\"T_cd6d9_row4_col0\" class=\"data row4 col0\" >0.8182</td>\n",
       "      <td id=\"T_cd6d9_row4_col1\" class=\"data row4 col1\" >0.5174</td>\n",
       "      <td id=\"T_cd6d9_row4_col2\" class=\"data row4 col2\" >0.0000</td>\n",
       "      <td id=\"T_cd6d9_row4_col3\" class=\"data row4 col3\" >0.0000</td>\n",
       "      <td id=\"T_cd6d9_row4_col4\" class=\"data row4 col4\" >0.0000</td>\n",
       "      <td id=\"T_cd6d9_row4_col5\" class=\"data row4 col5\" >0.0000</td>\n",
       "      <td id=\"T_cd6d9_row4_col6\" class=\"data row4 col6\" >0.0000</td>\n",
       "    </tr>\n",
       "    <tr>\n",
       "      <th id=\"T_cd6d9_level0_row5\" class=\"row_heading level0 row5\" >Mean</th>\n",
       "      <td id=\"T_cd6d9_row5_col0\" class=\"data row5 col0\" >0.7964</td>\n",
       "      <td id=\"T_cd6d9_row5_col1\" class=\"data row5 col1\" >0.4866</td>\n",
       "      <td id=\"T_cd6d9_row5_col2\" class=\"data row5 col2\" >0.0000</td>\n",
       "      <td id=\"T_cd6d9_row5_col3\" class=\"data row5 col3\" >0.0000</td>\n",
       "      <td id=\"T_cd6d9_row5_col4\" class=\"data row5 col4\" >0.0000</td>\n",
       "      <td id=\"T_cd6d9_row5_col5\" class=\"data row5 col5\" >-0.0157</td>\n",
       "      <td id=\"T_cd6d9_row5_col6\" class=\"data row5 col6\" >-0.0206</td>\n",
       "    </tr>\n",
       "    <tr>\n",
       "      <th id=\"T_cd6d9_level0_row6\" class=\"row_heading level0 row6\" >Std</th>\n",
       "      <td id=\"T_cd6d9_row6_col0\" class=\"data row6 col0\" >0.0145</td>\n",
       "      <td id=\"T_cd6d9_row6_col1\" class=\"data row6 col1\" >0.0590</td>\n",
       "      <td id=\"T_cd6d9_row6_col2\" class=\"data row6 col2\" >0.0000</td>\n",
       "      <td id=\"T_cd6d9_row6_col3\" class=\"data row6 col3\" >0.0000</td>\n",
       "      <td id=\"T_cd6d9_row6_col4\" class=\"data row6 col4\" >0.0000</td>\n",
       "      <td id=\"T_cd6d9_row6_col5\" class=\"data row6 col5\" >0.0314</td>\n",
       "      <td id=\"T_cd6d9_row6_col6\" class=\"data row6 col6\" >0.0411</td>\n",
       "    </tr>\n",
       "  </tbody>\n",
       "</table>\n"
      ],
      "text/plain": [
       "<pandas.io.formats.style.Styler at 0x23ffbf1a340>"
      ]
     },
     "metadata": {},
     "output_type": "display_data"
    },
    {
     "data": {
      "application/vnd.jupyter.widget-view+json": {
       "model_id": "",
       "version_major": 2,
       "version_minor": 0
      },
      "text/plain": [
       "Processing:   0%|          | 0/4 [00:00<?, ?it/s]"
      ]
     },
     "metadata": {},
     "output_type": "display_data"
    }
   ],
   "source": [
    "rf = create_model('rf')"
   ]
  },
  {
   "cell_type": "code",
   "execution_count": 29,
   "id": "5bf48bb7",
   "metadata": {},
   "outputs": [
    {
     "data": {
      "text/plain": [
       "{'USI',\n",
       " 'X',\n",
       " 'X_test',\n",
       " 'X_test_transformed',\n",
       " 'X_train',\n",
       " 'X_train_transformed',\n",
       " 'X_transformed',\n",
       " '_available_plots',\n",
       " '_ml_usecase',\n",
       " 'data',\n",
       " 'dataset',\n",
       " 'dataset_transformed',\n",
       " 'exp_id',\n",
       " 'exp_name_log',\n",
       " 'fix_imbalance',\n",
       " 'fold_generator',\n",
       " 'fold_groups_param',\n",
       " 'fold_shuffle_param',\n",
       " 'gpu_n_jobs_param',\n",
       " 'gpu_param',\n",
       " 'html_param',\n",
       " 'idx',\n",
       " 'is_multiclass',\n",
       " 'log_plots_param',\n",
       " 'logging_param',\n",
       " 'memory',\n",
       " 'n_jobs_param',\n",
       " 'pipeline',\n",
       " 'seed',\n",
       " 'target_param',\n",
       " 'test',\n",
       " 'test_transformed',\n",
       " 'train',\n",
       " 'train_transformed',\n",
       " 'variable_and_property_keys',\n",
       " 'variables',\n",
       " 'y',\n",
       " 'y_test',\n",
       " 'y_test_transformed',\n",
       " 'y_train',\n",
       " 'y_train_transformed',\n",
       " 'y_transformed'}"
      ]
     },
     "execution_count": 29,
     "metadata": {},
     "output_type": "execute_result"
    }
   ],
   "source": [
    "# check all available config\n",
    "get_config()"
   ]
  },
  {
   "cell_type": "code",
   "execution_count": 30,
   "id": "e96f6b2c",
   "metadata": {},
   "outputs": [
    {
     "data": {
      "text/html": [
       "<div>\n",
       "<style scoped>\n",
       "    .dataframe tbody tr th:only-of-type {\n",
       "        vertical-align: middle;\n",
       "    }\n",
       "\n",
       "    .dataframe tbody tr th {\n",
       "        vertical-align: top;\n",
       "    }\n",
       "\n",
       "    .dataframe thead th {\n",
       "        text-align: right;\n",
       "    }\n",
       "</style>\n",
       "<table border=\"1\" class=\"dataframe\">\n",
       "  <thead>\n",
       "    <tr style=\"text-align: right;\">\n",
       "      <th></th>\n",
       "      <th>Age</th>\n",
       "      <th>Gender</th>\n",
       "      <th>Protein1</th>\n",
       "      <th>Protein2</th>\n",
       "      <th>Protein3</th>\n",
       "      <th>Protein4</th>\n",
       "      <th>Tumour_Stage</th>\n",
       "      <th>Histology</th>\n",
       "      <th>HER2 status</th>\n",
       "      <th>Surgery_type</th>\n",
       "    </tr>\n",
       "  </thead>\n",
       "  <tbody>\n",
       "    <tr>\n",
       "      <th>72</th>\n",
       "      <td>63.0</td>\n",
       "      <td>FEMALE</td>\n",
       "      <td>0.378570</td>\n",
       "      <td>1.494200</td>\n",
       "      <td>0.11355</td>\n",
       "      <td>0.761280</td>\n",
       "      <td>II</td>\n",
       "      <td>Infiltrating Ductal Carcinoma</td>\n",
       "      <td>Negative</td>\n",
       "      <td>Other</td>\n",
       "    </tr>\n",
       "    <tr>\n",
       "      <th>223</th>\n",
       "      <td>78.0</td>\n",
       "      <td>FEMALE</td>\n",
       "      <td>-0.876180</td>\n",
       "      <td>0.129430</td>\n",
       "      <td>-0.37038</td>\n",
       "      <td>0.132190</td>\n",
       "      <td>I</td>\n",
       "      <td>Infiltrating Ductal Carcinoma</td>\n",
       "      <td>Negative</td>\n",
       "      <td>Other</td>\n",
       "    </tr>\n",
       "    <tr>\n",
       "      <th>140</th>\n",
       "      <td>40.0</td>\n",
       "      <td>FEMALE</td>\n",
       "      <td>0.087549</td>\n",
       "      <td>2.195700</td>\n",
       "      <td>-0.99356</td>\n",
       "      <td>-0.378070</td>\n",
       "      <td>III</td>\n",
       "      <td>Infiltrating Ductal Carcinoma</td>\n",
       "      <td>Positive</td>\n",
       "      <td>Modified Radical Mastectomy</td>\n",
       "    </tr>\n",
       "    <tr>\n",
       "      <th>308</th>\n",
       "      <td>59.0</td>\n",
       "      <td>FEMALE</td>\n",
       "      <td>-0.409510</td>\n",
       "      <td>0.037563</td>\n",
       "      <td>0.21780</td>\n",
       "      <td>-0.044665</td>\n",
       "      <td>III</td>\n",
       "      <td>Infiltrating Lobular Carcinoma</td>\n",
       "      <td>Negative</td>\n",
       "      <td>Modified Radical Mastectomy</td>\n",
       "    </tr>\n",
       "    <tr>\n",
       "      <th>256</th>\n",
       "      <td>63.0</td>\n",
       "      <td>FEMALE</td>\n",
       "      <td>-0.603240</td>\n",
       "      <td>1.119000</td>\n",
       "      <td>-0.60583</td>\n",
       "      <td>-0.583940</td>\n",
       "      <td>III</td>\n",
       "      <td>Infiltrating Ductal Carcinoma</td>\n",
       "      <td>Negative</td>\n",
       "      <td>Modified Radical Mastectomy</td>\n",
       "    </tr>\n",
       "    <tr>\n",
       "      <th>...</th>\n",
       "      <td>...</td>\n",
       "      <td>...</td>\n",
       "      <td>...</td>\n",
       "      <td>...</td>\n",
       "      <td>...</td>\n",
       "      <td>...</td>\n",
       "      <td>...</td>\n",
       "      <td>...</td>\n",
       "      <td>...</td>\n",
       "      <td>...</td>\n",
       "    </tr>\n",
       "    <tr>\n",
       "      <th>279</th>\n",
       "      <td>60.0</td>\n",
       "      <td>FEMALE</td>\n",
       "      <td>-0.730620</td>\n",
       "      <td>0.466480</td>\n",
       "      <td>-0.49494</td>\n",
       "      <td>-0.217060</td>\n",
       "      <td>III</td>\n",
       "      <td>Infiltrating Lobular Carcinoma</td>\n",
       "      <td>Negative</td>\n",
       "      <td>Other</td>\n",
       "    </tr>\n",
       "    <tr>\n",
       "      <th>42</th>\n",
       "      <td>50.0</td>\n",
       "      <td>FEMALE</td>\n",
       "      <td>0.217280</td>\n",
       "      <td>-0.216280</td>\n",
       "      <td>1.08810</td>\n",
       "      <td>0.154290</td>\n",
       "      <td>II</td>\n",
       "      <td>Infiltrating Lobular Carcinoma</td>\n",
       "      <td>Negative</td>\n",
       "      <td>Other</td>\n",
       "    </tr>\n",
       "    <tr>\n",
       "      <th>19</th>\n",
       "      <td>74.0</td>\n",
       "      <td>FEMALE</td>\n",
       "      <td>-0.246130</td>\n",
       "      <td>1.495300</td>\n",
       "      <td>-0.29854</td>\n",
       "      <td>0.659250</td>\n",
       "      <td>III</td>\n",
       "      <td>Infiltrating Ductal Carcinoma</td>\n",
       "      <td>Negative</td>\n",
       "      <td>Lumpectomy</td>\n",
       "    </tr>\n",
       "    <tr>\n",
       "      <th>136</th>\n",
       "      <td>54.0</td>\n",
       "      <td>FEMALE</td>\n",
       "      <td>0.326710</td>\n",
       "      <td>-0.294990</td>\n",
       "      <td>1.76910</td>\n",
       "      <td>0.770870</td>\n",
       "      <td>II</td>\n",
       "      <td>Infiltrating Ductal Carcinoma</td>\n",
       "      <td>Negative</td>\n",
       "      <td>Modified Radical Mastectomy</td>\n",
       "    </tr>\n",
       "    <tr>\n",
       "      <th>50</th>\n",
       "      <td>61.0</td>\n",
       "      <td>FEMALE</td>\n",
       "      <td>-1.487200</td>\n",
       "      <td>0.349030</td>\n",
       "      <td>-0.66242</td>\n",
       "      <td>0.185280</td>\n",
       "      <td>II</td>\n",
       "      <td>Infiltrating Ductal Carcinoma</td>\n",
       "      <td>Negative</td>\n",
       "      <td>Other</td>\n",
       "    </tr>\n",
       "  </tbody>\n",
       "</table>\n",
       "<p>96 rows × 10 columns</p>\n",
       "</div>"
      ],
      "text/plain": [
       "      Age  Gender  Protein1  Protein2  Protein3  Protein4 Tumour_Stage  \\\n",
       "72   63.0  FEMALE  0.378570  1.494200   0.11355  0.761280           II   \n",
       "223  78.0  FEMALE -0.876180  0.129430  -0.37038  0.132190            I   \n",
       "140  40.0  FEMALE  0.087549  2.195700  -0.99356 -0.378070          III   \n",
       "308  59.0  FEMALE -0.409510  0.037563   0.21780 -0.044665          III   \n",
       "256  63.0  FEMALE -0.603240  1.119000  -0.60583 -0.583940          III   \n",
       "..    ...     ...       ...       ...       ...       ...          ...   \n",
       "279  60.0  FEMALE -0.730620  0.466480  -0.49494 -0.217060          III   \n",
       "42   50.0  FEMALE  0.217280 -0.216280   1.08810  0.154290           II   \n",
       "19   74.0  FEMALE -0.246130  1.495300  -0.29854  0.659250          III   \n",
       "136  54.0  FEMALE  0.326710 -0.294990   1.76910  0.770870           II   \n",
       "50   61.0  FEMALE -1.487200  0.349030  -0.66242  0.185280           II   \n",
       "\n",
       "                          Histology HER2 status                 Surgery_type  \n",
       "72    Infiltrating Ductal Carcinoma    Negative                        Other  \n",
       "223   Infiltrating Ductal Carcinoma    Negative                        Other  \n",
       "140   Infiltrating Ductal Carcinoma    Positive  Modified Radical Mastectomy  \n",
       "308  Infiltrating Lobular Carcinoma    Negative  Modified Radical Mastectomy  \n",
       "256   Infiltrating Ductal Carcinoma    Negative  Modified Radical Mastectomy  \n",
       "..                              ...         ...                          ...  \n",
       "279  Infiltrating Lobular Carcinoma    Negative                        Other  \n",
       "42   Infiltrating Lobular Carcinoma    Negative                        Other  \n",
       "19    Infiltrating Ductal Carcinoma    Negative                   Lumpectomy  \n",
       "136   Infiltrating Ductal Carcinoma    Negative  Modified Radical Mastectomy  \n",
       "50    Infiltrating Ductal Carcinoma    Negative                        Other  \n",
       "\n",
       "[96 rows x 10 columns]"
      ]
     },
     "execution_count": 30,
     "metadata": {},
     "output_type": "execute_result"
    }
   ],
   "source": [
    "get_config('X_test')"
   ]
  },
  {
   "cell_type": "code",
   "execution_count": 31,
   "id": "1ee0106e",
   "metadata": {},
   "outputs": [
    {
     "data": {
      "text/html": [
       "<div>\n",
       "<style scoped>\n",
       "    .dataframe tbody tr th:only-of-type {\n",
       "        vertical-align: middle;\n",
       "    }\n",
       "\n",
       "    .dataframe tbody tr th {\n",
       "        vertical-align: top;\n",
       "    }\n",
       "\n",
       "    .dataframe thead th {\n",
       "        text-align: right;\n",
       "    }\n",
       "</style>\n",
       "<table border=\"1\" class=\"dataframe\">\n",
       "  <thead>\n",
       "    <tr style=\"text-align: right;\">\n",
       "      <th></th>\n",
       "      <th>Age</th>\n",
       "      <th>Gender</th>\n",
       "      <th>Protein1</th>\n",
       "      <th>Protein2</th>\n",
       "      <th>Protein3</th>\n",
       "      <th>Protein4</th>\n",
       "      <th>Tumour_Stage_II</th>\n",
       "      <th>Tumour_Stage_I</th>\n",
       "      <th>Tumour_Stage_III</th>\n",
       "      <th>Histology_Infiltrating Lobular Carcinoma</th>\n",
       "      <th>Histology_Infiltrating Ductal Carcinoma</th>\n",
       "      <th>Histology_Mucinous Carcinoma</th>\n",
       "      <th>HER2 status</th>\n",
       "      <th>Surgery_type_Lumpectomy</th>\n",
       "      <th>Surgery_type_Other</th>\n",
       "      <th>Surgery_type_Simple Mastectomy</th>\n",
       "      <th>Surgery_type_Modified Radical Mastectomy</th>\n",
       "    </tr>\n",
       "  </thead>\n",
       "  <tbody>\n",
       "    <tr>\n",
       "      <th>72</th>\n",
       "      <td>0.452062</td>\n",
       "      <td>-0.135769</td>\n",
       "      <td>0.831622</td>\n",
       "      <td>0.624268</td>\n",
       "      <td>0.400524</td>\n",
       "      <td>1.312641</td>\n",
       "      <td>0.900819</td>\n",
       "      <td>-0.526742</td>\n",
       "      <td>-0.547723</td>\n",
       "      <td>-0.589543</td>\n",
       "      <td>0.631454</td>\n",
       "      <td>-0.167054</td>\n",
       "      <td>-0.340825</td>\n",
       "      <td>-0.526742</td>\n",
       "      <td>1.583647</td>\n",
       "      <td>-0.533745</td>\n",
       "      <td>-0.617454</td>\n",
       "    </tr>\n",
       "    <tr>\n",
       "      <th>223</th>\n",
       "      <td>1.460748</td>\n",
       "      <td>-0.135769</td>\n",
       "      <td>-1.559814</td>\n",
       "      <td>-0.854925</td>\n",
       "      <td>-0.473226</td>\n",
       "      <td>0.111631</td>\n",
       "      <td>-1.110101</td>\n",
       "      <td>1.898464</td>\n",
       "      <td>-0.547723</td>\n",
       "      <td>-0.589543</td>\n",
       "      <td>0.631454</td>\n",
       "      <td>-0.167054</td>\n",
       "      <td>-0.340825</td>\n",
       "      <td>-0.526742</td>\n",
       "      <td>1.583647</td>\n",
       "      <td>-0.533745</td>\n",
       "      <td>-0.617454</td>\n",
       "    </tr>\n",
       "    <tr>\n",
       "      <th>140</th>\n",
       "      <td>-1.542433</td>\n",
       "      <td>-0.135769</td>\n",
       "      <td>0.240586</td>\n",
       "      <td>1.401568</td>\n",
       "      <td>-1.829615</td>\n",
       "      <td>-0.678497</td>\n",
       "      <td>-1.110101</td>\n",
       "      <td>-0.526742</td>\n",
       "      <td>1.825742</td>\n",
       "      <td>-0.589543</td>\n",
       "      <td>0.631454</td>\n",
       "      <td>-0.167054</td>\n",
       "      <td>2.934058</td>\n",
       "      <td>-0.526742</td>\n",
       "      <td>-0.631454</td>\n",
       "      <td>-0.533745</td>\n",
       "      <td>1.619553</td>\n",
       "    </tr>\n",
       "    <tr>\n",
       "      <th>308</th>\n",
       "      <td>0.151551</td>\n",
       "      <td>-0.135769</td>\n",
       "      <td>-0.713569</td>\n",
       "      <td>-0.952234</td>\n",
       "      <td>0.566371</td>\n",
       "      <td>-0.180800</td>\n",
       "      <td>-1.110101</td>\n",
       "      <td>-0.526742</td>\n",
       "      <td>1.825742</td>\n",
       "      <td>1.696229</td>\n",
       "      <td>-1.583647</td>\n",
       "      <td>-0.167054</td>\n",
       "      <td>-0.340825</td>\n",
       "      <td>-0.526742</td>\n",
       "      <td>-0.631454</td>\n",
       "      <td>-0.533745</td>\n",
       "      <td>1.619553</td>\n",
       "    </tr>\n",
       "    <tr>\n",
       "      <th>256</th>\n",
       "      <td>0.452062</td>\n",
       "      <td>-0.135769</td>\n",
       "      <td>-1.069658</td>\n",
       "      <td>0.212560</td>\n",
       "      <td>-0.957717</td>\n",
       "      <td>-0.959057</td>\n",
       "      <td>-1.110101</td>\n",
       "      <td>-0.526742</td>\n",
       "      <td>1.825742</td>\n",
       "      <td>-0.589543</td>\n",
       "      <td>0.631454</td>\n",
       "      <td>-0.167054</td>\n",
       "      <td>-0.340825</td>\n",
       "      <td>-0.526742</td>\n",
       "      <td>-0.631454</td>\n",
       "      <td>-0.533745</td>\n",
       "      <td>1.619553</td>\n",
       "    </tr>\n",
       "    <tr>\n",
       "      <th>...</th>\n",
       "      <td>...</td>\n",
       "      <td>...</td>\n",
       "      <td>...</td>\n",
       "      <td>...</td>\n",
       "      <td>...</td>\n",
       "      <td>...</td>\n",
       "      <td>...</td>\n",
       "      <td>...</td>\n",
       "      <td>...</td>\n",
       "      <td>...</td>\n",
       "      <td>...</td>\n",
       "      <td>...</td>\n",
       "      <td>...</td>\n",
       "      <td>...</td>\n",
       "      <td>...</td>\n",
       "      <td>...</td>\n",
       "      <td>...</td>\n",
       "    </tr>\n",
       "    <tr>\n",
       "      <th>279</th>\n",
       "      <td>0.228136</td>\n",
       "      <td>-0.135769</td>\n",
       "      <td>-1.299965</td>\n",
       "      <td>-0.494921</td>\n",
       "      <td>-0.725067</td>\n",
       "      <td>-0.445777</td>\n",
       "      <td>-1.110101</td>\n",
       "      <td>-0.526742</td>\n",
       "      <td>1.825742</td>\n",
       "      <td>1.696229</td>\n",
       "      <td>-1.583647</td>\n",
       "      <td>-0.167054</td>\n",
       "      <td>-0.340825</td>\n",
       "      <td>-0.526742</td>\n",
       "      <td>1.583647</td>\n",
       "      <td>-0.533745</td>\n",
       "      <td>-0.617454</td>\n",
       "    </tr>\n",
       "    <tr>\n",
       "      <th>42</th>\n",
       "      <td>-0.587736</td>\n",
       "      <td>-0.135769</td>\n",
       "      <td>0.501253</td>\n",
       "      <td>-1.219070</td>\n",
       "      <td>1.751439</td>\n",
       "      <td>0.149695</td>\n",
       "      <td>0.900819</td>\n",
       "      <td>-0.526742</td>\n",
       "      <td>-0.547723</td>\n",
       "      <td>1.696229</td>\n",
       "      <td>-1.583647</td>\n",
       "      <td>-0.167054</td>\n",
       "      <td>-0.340825</td>\n",
       "      <td>-0.526742</td>\n",
       "      <td>1.583647</td>\n",
       "      <td>-0.533745</td>\n",
       "      <td>-0.617454</td>\n",
       "    </tr>\n",
       "    <tr>\n",
       "      <th>19</th>\n",
       "      <td>1.207762</td>\n",
       "      <td>-0.135769</td>\n",
       "      <td>-0.407074</td>\n",
       "      <td>0.625480</td>\n",
       "      <td>-0.332719</td>\n",
       "      <td>1.102367</td>\n",
       "      <td>-1.110101</td>\n",
       "      <td>-0.526742</td>\n",
       "      <td>1.825742</td>\n",
       "      <td>-0.589543</td>\n",
       "      <td>0.631454</td>\n",
       "      <td>-0.167054</td>\n",
       "      <td>-0.340825</td>\n",
       "      <td>1.898464</td>\n",
       "      <td>-0.631454</td>\n",
       "      <td>-0.533745</td>\n",
       "      <td>-0.617454</td>\n",
       "    </tr>\n",
       "    <tr>\n",
       "      <th>136</th>\n",
       "      <td>-0.247333</td>\n",
       "      <td>-0.135769</td>\n",
       "      <td>0.724677</td>\n",
       "      <td>-1.301252</td>\n",
       "      <td>2.521375</td>\n",
       "      <td>1.332691</td>\n",
       "      <td>0.900819</td>\n",
       "      <td>-0.526742</td>\n",
       "      <td>-0.547723</td>\n",
       "      <td>-0.589543</td>\n",
       "      <td>0.631454</td>\n",
       "      <td>-0.167054</td>\n",
       "      <td>-0.340825</td>\n",
       "      <td>-0.526742</td>\n",
       "      <td>-0.631454</td>\n",
       "      <td>-0.533745</td>\n",
       "      <td>1.619553</td>\n",
       "    </tr>\n",
       "    <tr>\n",
       "      <th>50</th>\n",
       "      <td>0.303731</td>\n",
       "      <td>-0.135769</td>\n",
       "      <td>-2.618081</td>\n",
       "      <td>-0.620861</td>\n",
       "      <td>-1.079409</td>\n",
       "      <td>0.203619</td>\n",
       "      <td>0.900819</td>\n",
       "      <td>-0.526742</td>\n",
       "      <td>-0.547723</td>\n",
       "      <td>-0.589543</td>\n",
       "      <td>0.631454</td>\n",
       "      <td>-0.167054</td>\n",
       "      <td>-0.340825</td>\n",
       "      <td>-0.526742</td>\n",
       "      <td>1.583647</td>\n",
       "      <td>-0.533745</td>\n",
       "      <td>-0.617454</td>\n",
       "    </tr>\n",
       "  </tbody>\n",
       "</table>\n",
       "<p>96 rows × 17 columns</p>\n",
       "</div>"
      ],
      "text/plain": [
       "          Age    Gender  Protein1  Protein2  Protein3  Protein4  \\\n",
       "72   0.452062 -0.135769  0.831622  0.624268  0.400524  1.312641   \n",
       "223  1.460748 -0.135769 -1.559814 -0.854925 -0.473226  0.111631   \n",
       "140 -1.542433 -0.135769  0.240586  1.401568 -1.829615 -0.678497   \n",
       "308  0.151551 -0.135769 -0.713569 -0.952234  0.566371 -0.180800   \n",
       "256  0.452062 -0.135769 -1.069658  0.212560 -0.957717 -0.959057   \n",
       "..        ...       ...       ...       ...       ...       ...   \n",
       "279  0.228136 -0.135769 -1.299965 -0.494921 -0.725067 -0.445777   \n",
       "42  -0.587736 -0.135769  0.501253 -1.219070  1.751439  0.149695   \n",
       "19   1.207762 -0.135769 -0.407074  0.625480 -0.332719  1.102367   \n",
       "136 -0.247333 -0.135769  0.724677 -1.301252  2.521375  1.332691   \n",
       "50   0.303731 -0.135769 -2.618081 -0.620861 -1.079409  0.203619   \n",
       "\n",
       "     Tumour_Stage_II  Tumour_Stage_I  Tumour_Stage_III  \\\n",
       "72          0.900819       -0.526742         -0.547723   \n",
       "223        -1.110101        1.898464         -0.547723   \n",
       "140        -1.110101       -0.526742          1.825742   \n",
       "308        -1.110101       -0.526742          1.825742   \n",
       "256        -1.110101       -0.526742          1.825742   \n",
       "..               ...             ...               ...   \n",
       "279        -1.110101       -0.526742          1.825742   \n",
       "42          0.900819       -0.526742         -0.547723   \n",
       "19         -1.110101       -0.526742          1.825742   \n",
       "136         0.900819       -0.526742         -0.547723   \n",
       "50          0.900819       -0.526742         -0.547723   \n",
       "\n",
       "     Histology_Infiltrating Lobular Carcinoma  \\\n",
       "72                                  -0.589543   \n",
       "223                                 -0.589543   \n",
       "140                                 -0.589543   \n",
       "308                                  1.696229   \n",
       "256                                 -0.589543   \n",
       "..                                        ...   \n",
       "279                                  1.696229   \n",
       "42                                   1.696229   \n",
       "19                                  -0.589543   \n",
       "136                                 -0.589543   \n",
       "50                                  -0.589543   \n",
       "\n",
       "     Histology_Infiltrating Ductal Carcinoma  Histology_Mucinous Carcinoma  \\\n",
       "72                                  0.631454                     -0.167054   \n",
       "223                                 0.631454                     -0.167054   \n",
       "140                                 0.631454                     -0.167054   \n",
       "308                                -1.583647                     -0.167054   \n",
       "256                                 0.631454                     -0.167054   \n",
       "..                                       ...                           ...   \n",
       "279                                -1.583647                     -0.167054   \n",
       "42                                 -1.583647                     -0.167054   \n",
       "19                                  0.631454                     -0.167054   \n",
       "136                                 0.631454                     -0.167054   \n",
       "50                                  0.631454                     -0.167054   \n",
       "\n",
       "     HER2 status  Surgery_type_Lumpectomy  Surgery_type_Other  \\\n",
       "72     -0.340825                -0.526742            1.583647   \n",
       "223    -0.340825                -0.526742            1.583647   \n",
       "140     2.934058                -0.526742           -0.631454   \n",
       "308    -0.340825                -0.526742           -0.631454   \n",
       "256    -0.340825                -0.526742           -0.631454   \n",
       "..           ...                      ...                 ...   \n",
       "279    -0.340825                -0.526742            1.583647   \n",
       "42     -0.340825                -0.526742            1.583647   \n",
       "19     -0.340825                 1.898464           -0.631454   \n",
       "136    -0.340825                -0.526742           -0.631454   \n",
       "50     -0.340825                -0.526742            1.583647   \n",
       "\n",
       "     Surgery_type_Simple Mastectomy  Surgery_type_Modified Radical Mastectomy  \n",
       "72                        -0.533745                                 -0.617454  \n",
       "223                       -0.533745                                 -0.617454  \n",
       "140                       -0.533745                                  1.619553  \n",
       "308                       -0.533745                                  1.619553  \n",
       "256                       -0.533745                                  1.619553  \n",
       "..                              ...                                       ...  \n",
       "279                       -0.533745                                 -0.617454  \n",
       "42                        -0.533745                                 -0.617454  \n",
       "19                        -0.533745                                 -0.617454  \n",
       "136                       -0.533745                                  1.619553  \n",
       "50                        -0.533745                                 -0.617454  \n",
       "\n",
       "[96 rows x 17 columns]"
      ]
     },
     "execution_count": 31,
     "metadata": {},
     "output_type": "execute_result"
    }
   ],
   "source": [
    "get_config('X_test_transformed')"
   ]
  },
  {
   "cell_type": "code",
   "execution_count": 32,
   "id": "ce86162a",
   "metadata": {},
   "outputs": [
    {
     "data": {
      "text/plain": [
       "'Patient_Status'"
      ]
     },
     "execution_count": 32,
     "metadata": {},
     "output_type": "execute_result"
    }
   ],
   "source": [
    "get_config('target_param')"
   ]
  },
  {
   "cell_type": "code",
   "execution_count": 33,
   "id": "1654641a",
   "metadata": {},
   "outputs": [
    {
     "data": {
      "text/html": [],
      "text/plain": [
       "<IPython.core.display.HTML object>"
      ]
     },
     "metadata": {},
     "output_type": "display_data"
    },
    {
     "data": {
      "text/html": [
       "<style type=\"text/css\">\n",
       "#T_ef0d2 th {\n",
       "  text-align: left;\n",
       "}\n",
       "#T_ef0d2_row0_col0, #T_ef0d2_row0_col2, #T_ef0d2_row0_col3, #T_ef0d2_row0_col4, #T_ef0d2_row0_col5, #T_ef0d2_row0_col6, #T_ef0d2_row0_col7, #T_ef0d2_row1_col0, #T_ef0d2_row1_col1, #T_ef0d2_row1_col2, #T_ef0d2_row1_col3, #T_ef0d2_row1_col4, #T_ef0d2_row1_col5, #T_ef0d2_row1_col6, #T_ef0d2_row1_col7, #T_ef0d2_row2_col0, #T_ef0d2_row2_col1, #T_ef0d2_row2_col2, #T_ef0d2_row2_col3, #T_ef0d2_row2_col4, #T_ef0d2_row2_col5, #T_ef0d2_row2_col6, #T_ef0d2_row2_col7, #T_ef0d2_row3_col0, #T_ef0d2_row3_col1, #T_ef0d2_row3_col2, #T_ef0d2_row3_col3, #T_ef0d2_row3_col4, #T_ef0d2_row3_col5, #T_ef0d2_row3_col6, #T_ef0d2_row3_col7, #T_ef0d2_row4_col0, #T_ef0d2_row4_col1, #T_ef0d2_row4_col3, #T_ef0d2_row4_col5, #T_ef0d2_row5_col0, #T_ef0d2_row5_col1, #T_ef0d2_row5_col2, #T_ef0d2_row5_col3, #T_ef0d2_row5_col4, #T_ef0d2_row5_col5, #T_ef0d2_row5_col6, #T_ef0d2_row5_col7, #T_ef0d2_row6_col0, #T_ef0d2_row6_col1, #T_ef0d2_row6_col2, #T_ef0d2_row6_col3, #T_ef0d2_row6_col4, #T_ef0d2_row6_col5, #T_ef0d2_row6_col6, #T_ef0d2_row6_col7, #T_ef0d2_row7_col0, #T_ef0d2_row7_col1, #T_ef0d2_row7_col2, #T_ef0d2_row7_col3, #T_ef0d2_row7_col4, #T_ef0d2_row7_col5, #T_ef0d2_row7_col6, #T_ef0d2_row7_col7, #T_ef0d2_row8_col0, #T_ef0d2_row8_col1, #T_ef0d2_row8_col2, #T_ef0d2_row8_col3, #T_ef0d2_row8_col4, #T_ef0d2_row8_col5, #T_ef0d2_row8_col6, #T_ef0d2_row8_col7, #T_ef0d2_row9_col0, #T_ef0d2_row9_col1, #T_ef0d2_row9_col2, #T_ef0d2_row9_col3, #T_ef0d2_row9_col4, #T_ef0d2_row9_col5, #T_ef0d2_row9_col6, #T_ef0d2_row9_col7, #T_ef0d2_row10_col0, #T_ef0d2_row10_col1, #T_ef0d2_row10_col2, #T_ef0d2_row10_col3, #T_ef0d2_row10_col4, #T_ef0d2_row10_col5, #T_ef0d2_row10_col6, #T_ef0d2_row10_col7, #T_ef0d2_row11_col0, #T_ef0d2_row11_col1, #T_ef0d2_row11_col2, #T_ef0d2_row11_col3, #T_ef0d2_row11_col4, #T_ef0d2_row11_col5, #T_ef0d2_row11_col6, #T_ef0d2_row11_col7, #T_ef0d2_row12_col0, #T_ef0d2_row12_col1, #T_ef0d2_row12_col2, #T_ef0d2_row12_col3, #T_ef0d2_row12_col4, #T_ef0d2_row12_col5, #T_ef0d2_row12_col6, #T_ef0d2_row12_col7, #T_ef0d2_row13_col0, #T_ef0d2_row13_col1, #T_ef0d2_row13_col2, #T_ef0d2_row13_col3, #T_ef0d2_row13_col4, #T_ef0d2_row13_col5, #T_ef0d2_row13_col6, #T_ef0d2_row13_col7, #T_ef0d2_row14_col0, #T_ef0d2_row14_col1, #T_ef0d2_row14_col2, #T_ef0d2_row14_col3, #T_ef0d2_row14_col4, #T_ef0d2_row14_col5, #T_ef0d2_row14_col6, #T_ef0d2_row14_col7, #T_ef0d2_row15_col0, #T_ef0d2_row15_col1, #T_ef0d2_row15_col2, #T_ef0d2_row15_col4, #T_ef0d2_row15_col6, #T_ef0d2_row15_col7 {\n",
       "  text-align: left;\n",
       "}\n",
       "#T_ef0d2_row0_col1, #T_ef0d2_row4_col2, #T_ef0d2_row4_col4, #T_ef0d2_row4_col6, #T_ef0d2_row4_col7, #T_ef0d2_row15_col3, #T_ef0d2_row15_col5 {\n",
       "  text-align: left;\n",
       "  background-color: yellow;\n",
       "}\n",
       "#T_ef0d2_row0_col8, #T_ef0d2_row1_col8, #T_ef0d2_row2_col8, #T_ef0d2_row3_col8, #T_ef0d2_row4_col8, #T_ef0d2_row5_col8, #T_ef0d2_row6_col8, #T_ef0d2_row7_col8, #T_ef0d2_row8_col8, #T_ef0d2_row9_col8, #T_ef0d2_row10_col8, #T_ef0d2_row11_col8, #T_ef0d2_row15_col8 {\n",
       "  text-align: left;\n",
       "  background-color: lightgrey;\n",
       "}\n",
       "#T_ef0d2_row12_col8, #T_ef0d2_row13_col8, #T_ef0d2_row14_col8 {\n",
       "  text-align: left;\n",
       "  background-color: yellow;\n",
       "  background-color: lightgrey;\n",
       "}\n",
       "</style>\n",
       "<table id=\"T_ef0d2\">\n",
       "  <thead>\n",
       "    <tr>\n",
       "      <th class=\"blank level0\" >&nbsp;</th>\n",
       "      <th id=\"T_ef0d2_level0_col0\" class=\"col_heading level0 col0\" >Model</th>\n",
       "      <th id=\"T_ef0d2_level0_col1\" class=\"col_heading level0 col1\" >Accuracy</th>\n",
       "      <th id=\"T_ef0d2_level0_col2\" class=\"col_heading level0 col2\" >AUC</th>\n",
       "      <th id=\"T_ef0d2_level0_col3\" class=\"col_heading level0 col3\" >Recall</th>\n",
       "      <th id=\"T_ef0d2_level0_col4\" class=\"col_heading level0 col4\" >Prec.</th>\n",
       "      <th id=\"T_ef0d2_level0_col5\" class=\"col_heading level0 col5\" >F1</th>\n",
       "      <th id=\"T_ef0d2_level0_col6\" class=\"col_heading level0 col6\" >Kappa</th>\n",
       "      <th id=\"T_ef0d2_level0_col7\" class=\"col_heading level0 col7\" >MCC</th>\n",
       "      <th id=\"T_ef0d2_level0_col8\" class=\"col_heading level0 col8\" >TT (Sec)</th>\n",
       "    </tr>\n",
       "  </thead>\n",
       "  <tbody>\n",
       "    <tr>\n",
       "      <th id=\"T_ef0d2_level0_row0\" class=\"row_heading level0 row0\" >dummy</th>\n",
       "      <td id=\"T_ef0d2_row0_col0\" class=\"data row0 col0\" >Dummy Classifier</td>\n",
       "      <td id=\"T_ef0d2_row0_col1\" class=\"data row0 col1\" >0.8055</td>\n",
       "      <td id=\"T_ef0d2_row0_col2\" class=\"data row0 col2\" >0.5000</td>\n",
       "      <td id=\"T_ef0d2_row0_col3\" class=\"data row0 col3\" >0.0000</td>\n",
       "      <td id=\"T_ef0d2_row0_col4\" class=\"data row0 col4\" >0.0000</td>\n",
       "      <td id=\"T_ef0d2_row0_col5\" class=\"data row0 col5\" >0.0000</td>\n",
       "      <td id=\"T_ef0d2_row0_col6\" class=\"data row0 col6\" >0.0000</td>\n",
       "      <td id=\"T_ef0d2_row0_col7\" class=\"data row0 col7\" >0.0000</td>\n",
       "      <td id=\"T_ef0d2_row0_col8\" class=\"data row0 col8\" >0.0360</td>\n",
       "    </tr>\n",
       "    <tr>\n",
       "      <th id=\"T_ef0d2_level0_row1\" class=\"row_heading level0 row1\" >catboost</th>\n",
       "      <td id=\"T_ef0d2_row1_col0\" class=\"data row1 col0\" >CatBoost Classifier</td>\n",
       "      <td id=\"T_ef0d2_row1_col1\" class=\"data row1 col1\" >0.8010</td>\n",
       "      <td id=\"T_ef0d2_row1_col2\" class=\"data row1 col2\" >0.4945</td>\n",
       "      <td id=\"T_ef0d2_row1_col3\" class=\"data row1 col3\" >0.0000</td>\n",
       "      <td id=\"T_ef0d2_row1_col4\" class=\"data row1 col4\" >0.0000</td>\n",
       "      <td id=\"T_ef0d2_row1_col5\" class=\"data row1 col5\" >0.0000</td>\n",
       "      <td id=\"T_ef0d2_row1_col6\" class=\"data row1 col6\" >-0.0083</td>\n",
       "      <td id=\"T_ef0d2_row1_col7\" class=\"data row1 col7\" >-0.0151</td>\n",
       "      <td id=\"T_ef0d2_row1_col8\" class=\"data row1 col8\" >0.7440</td>\n",
       "    </tr>\n",
       "    <tr>\n",
       "      <th id=\"T_ef0d2_level0_row2\" class=\"row_heading level0 row2\" >ridge</th>\n",
       "      <td id=\"T_ef0d2_row2_col0\" class=\"data row2 col0\" >Ridge Classifier</td>\n",
       "      <td id=\"T_ef0d2_row2_col1\" class=\"data row2 col1\" >0.7964</td>\n",
       "      <td id=\"T_ef0d2_row2_col2\" class=\"data row2 col2\" >0.0000</td>\n",
       "      <td id=\"T_ef0d2_row2_col3\" class=\"data row2 col3\" >0.0000</td>\n",
       "      <td id=\"T_ef0d2_row2_col4\" class=\"data row2 col4\" >0.0000</td>\n",
       "      <td id=\"T_ef0d2_row2_col5\" class=\"data row2 col5\" >0.0000</td>\n",
       "      <td id=\"T_ef0d2_row2_col6\" class=\"data row2 col6\" >-0.0157</td>\n",
       "      <td id=\"T_ef0d2_row2_col7\" class=\"data row2 col7\" >-0.0206</td>\n",
       "      <td id=\"T_ef0d2_row2_col8\" class=\"data row2 col8\" >0.0380</td>\n",
       "    </tr>\n",
       "    <tr>\n",
       "      <th id=\"T_ef0d2_level0_row3\" class=\"row_heading level0 row3\" >rf</th>\n",
       "      <td id=\"T_ef0d2_row3_col0\" class=\"data row3 col0\" >Random Forest Classifier</td>\n",
       "      <td id=\"T_ef0d2_row3_col1\" class=\"data row3 col1\" >0.7964</td>\n",
       "      <td id=\"T_ef0d2_row3_col2\" class=\"data row3 col2\" >0.4866</td>\n",
       "      <td id=\"T_ef0d2_row3_col3\" class=\"data row3 col3\" >0.0000</td>\n",
       "      <td id=\"T_ef0d2_row3_col4\" class=\"data row3 col4\" >0.0000</td>\n",
       "      <td id=\"T_ef0d2_row3_col5\" class=\"data row3 col5\" >0.0000</td>\n",
       "      <td id=\"T_ef0d2_row3_col6\" class=\"data row3 col6\" >-0.0157</td>\n",
       "      <td id=\"T_ef0d2_row3_col7\" class=\"data row3 col7\" >-0.0206</td>\n",
       "      <td id=\"T_ef0d2_row3_col8\" class=\"data row3 col8\" >0.0640</td>\n",
       "    </tr>\n",
       "    <tr>\n",
       "      <th id=\"T_ef0d2_level0_row4\" class=\"row_heading level0 row4\" >knn</th>\n",
       "      <td id=\"T_ef0d2_row4_col0\" class=\"data row4 col0\" >K Neighbors Classifier</td>\n",
       "      <td id=\"T_ef0d2_row4_col1\" class=\"data row4 col1\" >0.7829</td>\n",
       "      <td id=\"T_ef0d2_row4_col2\" class=\"data row4 col2\" >0.5755</td>\n",
       "      <td id=\"T_ef0d2_row4_col3\" class=\"data row4 col3\" >0.1389</td>\n",
       "      <td id=\"T_ef0d2_row4_col4\" class=\"data row4 col4\" >0.4067</td>\n",
       "      <td id=\"T_ef0d2_row4_col5\" class=\"data row4 col5\" >0.1968</td>\n",
       "      <td id=\"T_ef0d2_row4_col6\" class=\"data row4 col6\" >0.1025</td>\n",
       "      <td id=\"T_ef0d2_row4_col7\" class=\"data row4 col7\" >0.1295</td>\n",
       "      <td id=\"T_ef0d2_row4_col8\" class=\"data row4 col8\" >0.9060</td>\n",
       "    </tr>\n",
       "    <tr>\n",
       "      <th id=\"T_ef0d2_level0_row5\" class=\"row_heading level0 row5\" >lr</th>\n",
       "      <td id=\"T_ef0d2_row5_col0\" class=\"data row5 col0\" >Logistic Regression</td>\n",
       "      <td id=\"T_ef0d2_row5_col1\" class=\"data row5 col1\" >0.7783</td>\n",
       "      <td id=\"T_ef0d2_row5_col2\" class=\"data row5 col2\" >0.5451</td>\n",
       "      <td id=\"T_ef0d2_row5_col3\" class=\"data row5 col3\" >0.0000</td>\n",
       "      <td id=\"T_ef0d2_row5_col4\" class=\"data row5 col4\" >0.0000</td>\n",
       "      <td id=\"T_ef0d2_row5_col5\" class=\"data row5 col5\" >0.0000</td>\n",
       "      <td id=\"T_ef0d2_row5_col6\" class=\"data row5 col6\" >-0.0443</td>\n",
       "      <td id=\"T_ef0d2_row5_col7\" class=\"data row5 col7\" >-0.0593</td>\n",
       "      <td id=\"T_ef0d2_row5_col8\" class=\"data row5 col8\" >0.9100</td>\n",
       "    </tr>\n",
       "    <tr>\n",
       "      <th id=\"T_ef0d2_level0_row6\" class=\"row_heading level0 row6\" >lda</th>\n",
       "      <td id=\"T_ef0d2_row6_col0\" class=\"data row6 col0\" >Linear Discriminant Analysis</td>\n",
       "      <td id=\"T_ef0d2_row6_col1\" class=\"data row6 col1\" >0.7783</td>\n",
       "      <td id=\"T_ef0d2_row6_col2\" class=\"data row6 col2\" >0.5394</td>\n",
       "      <td id=\"T_ef0d2_row6_col3\" class=\"data row6 col3\" >0.0000</td>\n",
       "      <td id=\"T_ef0d2_row6_col4\" class=\"data row6 col4\" >0.0000</td>\n",
       "      <td id=\"T_ef0d2_row6_col5\" class=\"data row6 col5\" >0.0000</td>\n",
       "      <td id=\"T_ef0d2_row6_col6\" class=\"data row6 col6\" >-0.0443</td>\n",
       "      <td id=\"T_ef0d2_row6_col7\" class=\"data row6 col7\" >-0.0593</td>\n",
       "      <td id=\"T_ef0d2_row6_col8\" class=\"data row6 col8\" >0.0380</td>\n",
       "    </tr>\n",
       "    <tr>\n",
       "      <th id=\"T_ef0d2_level0_row7\" class=\"row_heading level0 row7\" >et</th>\n",
       "      <td id=\"T_ef0d2_row7_col0\" class=\"data row7 col0\" >Extra Trees Classifier</td>\n",
       "      <td id=\"T_ef0d2_row7_col1\" class=\"data row7 col1\" >0.7738</td>\n",
       "      <td id=\"T_ef0d2_row7_col2\" class=\"data row7 col2\" >0.5520</td>\n",
       "      <td id=\"T_ef0d2_row7_col3\" class=\"data row7 col3\" >0.1139</td>\n",
       "      <td id=\"T_ef0d2_row7_col4\" class=\"data row7 col4\" >0.2333</td>\n",
       "      <td id=\"T_ef0d2_row7_col5\" class=\"data row7 col5\" >0.1486</td>\n",
       "      <td id=\"T_ef0d2_row7_col6\" class=\"data row7 col6\" >0.0568</td>\n",
       "      <td id=\"T_ef0d2_row7_col7\" class=\"data row7 col7\" >0.0552</td>\n",
       "      <td id=\"T_ef0d2_row7_col8\" class=\"data row7 col8\" >0.0620</td>\n",
       "    </tr>\n",
       "    <tr>\n",
       "      <th id=\"T_ef0d2_level0_row8\" class=\"row_heading level0 row8\" >gbc</th>\n",
       "      <td id=\"T_ef0d2_row8_col0\" class=\"data row8 col0\" >Gradient Boosting Classifier</td>\n",
       "      <td id=\"T_ef0d2_row8_col1\" class=\"data row8 col1\" >0.7645</td>\n",
       "      <td id=\"T_ef0d2_row8_col2\" class=\"data row8 col2\" >0.4905</td>\n",
       "      <td id=\"T_ef0d2_row8_col3\" class=\"data row8 col3\" >0.0500</td>\n",
       "      <td id=\"T_ef0d2_row8_col4\" class=\"data row8 col4\" >0.1333</td>\n",
       "      <td id=\"T_ef0d2_row8_col5\" class=\"data row8 col5\" >0.0727</td>\n",
       "      <td id=\"T_ef0d2_row8_col6\" class=\"data row8 col6\" >-0.0136</td>\n",
       "      <td id=\"T_ef0d2_row8_col7\" class=\"data row8 col7\" >-0.0159</td>\n",
       "      <td id=\"T_ef0d2_row8_col8\" class=\"data row8 col8\" >0.0460</td>\n",
       "    </tr>\n",
       "    <tr>\n",
       "      <th id=\"T_ef0d2_level0_row9\" class=\"row_heading level0 row9\" >lightgbm</th>\n",
       "      <td id=\"T_ef0d2_row9_col0\" class=\"data row9 col0\" >Light Gradient Boosting Machine</td>\n",
       "      <td id=\"T_ef0d2_row9_col1\" class=\"data row9 col1\" >0.7604</td>\n",
       "      <td id=\"T_ef0d2_row9_col2\" class=\"data row9 col2\" >0.4849</td>\n",
       "      <td id=\"T_ef0d2_row9_col3\" class=\"data row9 col3\" >0.0722</td>\n",
       "      <td id=\"T_ef0d2_row9_col4\" class=\"data row9 col4\" >0.2667</td>\n",
       "      <td id=\"T_ef0d2_row9_col5\" class=\"data row9 col5\" >0.1133</td>\n",
       "      <td id=\"T_ef0d2_row9_col6\" class=\"data row9 col6\" >0.0070</td>\n",
       "      <td id=\"T_ef0d2_row9_col7\" class=\"data row9 col7\" >0.0217</td>\n",
       "      <td id=\"T_ef0d2_row9_col8\" class=\"data row9 col8\" >0.1060</td>\n",
       "    </tr>\n",
       "    <tr>\n",
       "      <th id=\"T_ef0d2_level0_row10\" class=\"row_heading level0 row10\" >ada</th>\n",
       "      <td id=\"T_ef0d2_row10_col0\" class=\"data row10 col0\" >Ada Boost Classifier</td>\n",
       "      <td id=\"T_ef0d2_row10_col1\" class=\"data row10 col1\" >0.7467</td>\n",
       "      <td id=\"T_ef0d2_row10_col2\" class=\"data row10 col2\" >0.5194</td>\n",
       "      <td id=\"T_ef0d2_row10_col3\" class=\"data row10 col3\" >0.1222</td>\n",
       "      <td id=\"T_ef0d2_row10_col4\" class=\"data row10 col4\" >0.2238</td>\n",
       "      <td id=\"T_ef0d2_row10_col5\" class=\"data row10 col5\" >0.1527</td>\n",
       "      <td id=\"T_ef0d2_row10_col6\" class=\"data row10 col6\" >0.0238</td>\n",
       "      <td id=\"T_ef0d2_row10_col7\" class=\"data row10 col7\" >0.0252</td>\n",
       "      <td id=\"T_ef0d2_row10_col8\" class=\"data row10 col8\" >0.0500</td>\n",
       "    </tr>\n",
       "    <tr>\n",
       "      <th id=\"T_ef0d2_level0_row11\" class=\"row_heading level0 row11\" >xgboost</th>\n",
       "      <td id=\"T_ef0d2_row11_col0\" class=\"data row11 col0\" >Extreme Gradient Boosting</td>\n",
       "      <td id=\"T_ef0d2_row11_col1\" class=\"data row11 col1\" >0.7376</td>\n",
       "      <td id=\"T_ef0d2_row11_col2\" class=\"data row11 col2\" >0.4834</td>\n",
       "      <td id=\"T_ef0d2_row11_col3\" class=\"data row11 col3\" >0.0472</td>\n",
       "      <td id=\"T_ef0d2_row11_col4\" class=\"data row11 col4\" >0.1500</td>\n",
       "      <td id=\"T_ef0d2_row11_col5\" class=\"data row11 col5\" >0.0708</td>\n",
       "      <td id=\"T_ef0d2_row11_col6\" class=\"data row11 col6\" >-0.0540</td>\n",
       "      <td id=\"T_ef0d2_row11_col7\" class=\"data row11 col7\" >-0.0532</td>\n",
       "      <td id=\"T_ef0d2_row11_col8\" class=\"data row11 col8\" >0.3740</td>\n",
       "    </tr>\n",
       "    <tr>\n",
       "      <th id=\"T_ef0d2_level0_row12\" class=\"row_heading level0 row12\" >svm</th>\n",
       "      <td id=\"T_ef0d2_row12_col0\" class=\"data row12 col0\" >SVM - Linear Kernel</td>\n",
       "      <td id=\"T_ef0d2_row12_col1\" class=\"data row12 col1\" >0.6921</td>\n",
       "      <td id=\"T_ef0d2_row12_col2\" class=\"data row12 col2\" >0.0000</td>\n",
       "      <td id=\"T_ef0d2_row12_col3\" class=\"data row12 col3\" >0.1472</td>\n",
       "      <td id=\"T_ef0d2_row12_col4\" class=\"data row12 col4\" >0.1128</td>\n",
       "      <td id=\"T_ef0d2_row12_col5\" class=\"data row12 col5\" >0.1205</td>\n",
       "      <td id=\"T_ef0d2_row12_col6\" class=\"data row12 col6\" >-0.0325</td>\n",
       "      <td id=\"T_ef0d2_row12_col7\" class=\"data row12 col7\" >-0.0446</td>\n",
       "      <td id=\"T_ef0d2_row12_col8\" class=\"data row12 col8\" >0.0340</td>\n",
       "    </tr>\n",
       "    <tr>\n",
       "      <th id=\"T_ef0d2_level0_row13\" class=\"row_heading level0 row13\" >dt</th>\n",
       "      <td id=\"T_ef0d2_row13_col0\" class=\"data row13 col0\" >Decision Tree Classifier</td>\n",
       "      <td id=\"T_ef0d2_row13_col1\" class=\"data row13 col1\" >0.6834</td>\n",
       "      <td id=\"T_ef0d2_row13_col2\" class=\"data row13 col2\" >0.4751</td>\n",
       "      <td id=\"T_ef0d2_row13_col3\" class=\"data row13 col3\" >0.1361</td>\n",
       "      <td id=\"T_ef0d2_row13_col4\" class=\"data row13 col4\" >0.1316</td>\n",
       "      <td id=\"T_ef0d2_row13_col5\" class=\"data row13 col5\" >0.1333</td>\n",
       "      <td id=\"T_ef0d2_row13_col6\" class=\"data row13 col6\" >-0.0550</td>\n",
       "      <td id=\"T_ef0d2_row13_col7\" class=\"data row13 col7\" >-0.0586</td>\n",
       "      <td id=\"T_ef0d2_row13_col8\" class=\"data row13 col8\" >0.0340</td>\n",
       "    </tr>\n",
       "    <tr>\n",
       "      <th id=\"T_ef0d2_level0_row14\" class=\"row_heading level0 row14\" >qda</th>\n",
       "      <td id=\"T_ef0d2_row14_col0\" class=\"data row14 col0\" >Quadratic Discriminant Analysis</td>\n",
       "      <td id=\"T_ef0d2_row14_col1\" class=\"data row14 col1\" >0.3989</td>\n",
       "      <td id=\"T_ef0d2_row14_col2\" class=\"data row14 col2\" >0.4802</td>\n",
       "      <td id=\"T_ef0d2_row14_col3\" class=\"data row14 col3\" >0.6306</td>\n",
       "      <td id=\"T_ef0d2_row14_col4\" class=\"data row14 col4\" >0.1967</td>\n",
       "      <td id=\"T_ef0d2_row14_col5\" class=\"data row14 col5\" >0.2951</td>\n",
       "      <td id=\"T_ef0d2_row14_col6\" class=\"data row14 col6\" >-0.0030</td>\n",
       "      <td id=\"T_ef0d2_row14_col7\" class=\"data row14 col7\" >-0.0388</td>\n",
       "      <td id=\"T_ef0d2_row14_col8\" class=\"data row14 col8\" >0.0340</td>\n",
       "    </tr>\n",
       "    <tr>\n",
       "      <th id=\"T_ef0d2_level0_row15\" class=\"row_heading level0 row15\" >nb</th>\n",
       "      <td id=\"T_ef0d2_row15_col0\" class=\"data row15 col0\" >Naive Bayes</td>\n",
       "      <td id=\"T_ef0d2_row15_col1\" class=\"data row15 col1\" >0.2263</td>\n",
       "      <td id=\"T_ef0d2_row15_col2\" class=\"data row15 col2\" >0.5389</td>\n",
       "      <td id=\"T_ef0d2_row15_col3\" class=\"data row15 col3\" >0.9111</td>\n",
       "      <td id=\"T_ef0d2_row15_col4\" class=\"data row15 col4\" >0.1887</td>\n",
       "      <td id=\"T_ef0d2_row15_col5\" class=\"data row15 col5\" >0.3120</td>\n",
       "      <td id=\"T_ef0d2_row15_col6\" class=\"data row15 col6\" >-0.0138</td>\n",
       "      <td id=\"T_ef0d2_row15_col7\" class=\"data row15 col7\" >-0.0140</td>\n",
       "      <td id=\"T_ef0d2_row15_col8\" class=\"data row15 col8\" >0.7220</td>\n",
       "    </tr>\n",
       "  </tbody>\n",
       "</table>\n"
      ],
      "text/plain": [
       "<pandas.io.formats.style.Styler at 0x23f80459670>"
      ]
     },
     "metadata": {},
     "output_type": "display_data"
    },
    {
     "data": {
      "application/vnd.jupyter.widget-view+json": {
       "model_id": "",
       "version_major": 2,
       "version_minor": 0
      },
      "text/plain": [
       "Processing:   0%|          | 0/69 [00:00<?, ?it/s]"
      ]
     },
     "metadata": {},
     "output_type": "display_data"
    },
    {
     "data": {
      "text/plain": [
       "DummyClassifier(constant=None, random_state=3471, strategy='prior')"
      ]
     },
     "execution_count": 33,
     "metadata": {},
     "output_type": "execute_result"
    }
   ],
   "source": [
    "compare_models()"
   ]
  },
  {
   "cell_type": "code",
   "execution_count": 34,
   "id": "2da95518",
   "metadata": {},
   "outputs": [
    {
     "data": {
      "text/html": [],
      "text/plain": [
       "<IPython.core.display.HTML object>"
      ]
     },
     "metadata": {},
     "output_type": "display_data"
    },
    {
     "data": {
      "text/html": [
       "<style type=\"text/css\">\n",
       "#T_c3386_row5_col0, #T_c3386_row5_col1, #T_c3386_row5_col2, #T_c3386_row5_col3, #T_c3386_row5_col4, #T_c3386_row5_col5, #T_c3386_row5_col6 {\n",
       "  background: yellow;\n",
       "}\n",
       "</style>\n",
       "<table id=\"T_c3386\">\n",
       "  <thead>\n",
       "    <tr>\n",
       "      <th class=\"blank level0\" >&nbsp;</th>\n",
       "      <th id=\"T_c3386_level0_col0\" class=\"col_heading level0 col0\" >Accuracy</th>\n",
       "      <th id=\"T_c3386_level0_col1\" class=\"col_heading level0 col1\" >AUC</th>\n",
       "      <th id=\"T_c3386_level0_col2\" class=\"col_heading level0 col2\" >Recall</th>\n",
       "      <th id=\"T_c3386_level0_col3\" class=\"col_heading level0 col3\" >Prec.</th>\n",
       "      <th id=\"T_c3386_level0_col4\" class=\"col_heading level0 col4\" >F1</th>\n",
       "      <th id=\"T_c3386_level0_col5\" class=\"col_heading level0 col5\" >Kappa</th>\n",
       "      <th id=\"T_c3386_level0_col6\" class=\"col_heading level0 col6\" >MCC</th>\n",
       "    </tr>\n",
       "    <tr>\n",
       "      <th class=\"index_name level0\" >Fold</th>\n",
       "      <th class=\"blank col0\" >&nbsp;</th>\n",
       "      <th class=\"blank col1\" >&nbsp;</th>\n",
       "      <th class=\"blank col2\" >&nbsp;</th>\n",
       "      <th class=\"blank col3\" >&nbsp;</th>\n",
       "      <th class=\"blank col4\" >&nbsp;</th>\n",
       "      <th class=\"blank col5\" >&nbsp;</th>\n",
       "      <th class=\"blank col6\" >&nbsp;</th>\n",
       "    </tr>\n",
       "  </thead>\n",
       "  <tbody>\n",
       "    <tr>\n",
       "      <th id=\"T_c3386_level0_row0\" class=\"row_heading level0 row0\" >0</th>\n",
       "      <td id=\"T_c3386_row0_col0\" class=\"data row0 col0\" >0.8000</td>\n",
       "      <td id=\"T_c3386_row0_col1\" class=\"data row0 col1\" >0.0000</td>\n",
       "      <td id=\"T_c3386_row0_col2\" class=\"data row0 col2\" >0.0000</td>\n",
       "      <td id=\"T_c3386_row0_col3\" class=\"data row0 col3\" >0.0000</td>\n",
       "      <td id=\"T_c3386_row0_col4\" class=\"data row0 col4\" >0.0000</td>\n",
       "      <td id=\"T_c3386_row0_col5\" class=\"data row0 col5\" >0.0000</td>\n",
       "      <td id=\"T_c3386_row0_col6\" class=\"data row0 col6\" >0.0000</td>\n",
       "    </tr>\n",
       "    <tr>\n",
       "      <th id=\"T_c3386_level0_row1\" class=\"row_heading level0 row1\" >1</th>\n",
       "      <td id=\"T_c3386_row1_col0\" class=\"data row1 col0\" >0.7955</td>\n",
       "      <td id=\"T_c3386_row1_col1\" class=\"data row1 col1\" >0.0000</td>\n",
       "      <td id=\"T_c3386_row1_col2\" class=\"data row1 col2\" >0.0000</td>\n",
       "      <td id=\"T_c3386_row1_col3\" class=\"data row1 col3\" >0.0000</td>\n",
       "      <td id=\"T_c3386_row1_col4\" class=\"data row1 col4\" >0.0000</td>\n",
       "      <td id=\"T_c3386_row1_col5\" class=\"data row1 col5\" >0.0000</td>\n",
       "      <td id=\"T_c3386_row1_col6\" class=\"data row1 col6\" >0.0000</td>\n",
       "    </tr>\n",
       "    <tr>\n",
       "      <th id=\"T_c3386_level0_row2\" class=\"row_heading level0 row2\" >2</th>\n",
       "      <td id=\"T_c3386_row2_col0\" class=\"data row2 col0\" >0.7955</td>\n",
       "      <td id=\"T_c3386_row2_col1\" class=\"data row2 col1\" >0.0000</td>\n",
       "      <td id=\"T_c3386_row2_col2\" class=\"data row2 col2\" >0.0000</td>\n",
       "      <td id=\"T_c3386_row2_col3\" class=\"data row2 col3\" >0.0000</td>\n",
       "      <td id=\"T_c3386_row2_col4\" class=\"data row2 col4\" >0.0000</td>\n",
       "      <td id=\"T_c3386_row2_col5\" class=\"data row2 col5\" >0.0000</td>\n",
       "      <td id=\"T_c3386_row2_col6\" class=\"data row2 col6\" >0.0000</td>\n",
       "    </tr>\n",
       "    <tr>\n",
       "      <th id=\"T_c3386_level0_row3\" class=\"row_heading level0 row3\" >3</th>\n",
       "      <td id=\"T_c3386_row3_col0\" class=\"data row3 col0\" >0.7727</td>\n",
       "      <td id=\"T_c3386_row3_col1\" class=\"data row3 col1\" >0.0000</td>\n",
       "      <td id=\"T_c3386_row3_col2\" class=\"data row3 col2\" >0.0000</td>\n",
       "      <td id=\"T_c3386_row3_col3\" class=\"data row3 col3\" >0.0000</td>\n",
       "      <td id=\"T_c3386_row3_col4\" class=\"data row3 col4\" >0.0000</td>\n",
       "      <td id=\"T_c3386_row3_col5\" class=\"data row3 col5\" >-0.0784</td>\n",
       "      <td id=\"T_c3386_row3_col6\" class=\"data row3 col6\" >-0.1029</td>\n",
       "    </tr>\n",
       "    <tr>\n",
       "      <th id=\"T_c3386_level0_row4\" class=\"row_heading level0 row4\" >4</th>\n",
       "      <td id=\"T_c3386_row4_col0\" class=\"data row4 col0\" >0.8182</td>\n",
       "      <td id=\"T_c3386_row4_col1\" class=\"data row4 col1\" >0.0000</td>\n",
       "      <td id=\"T_c3386_row4_col2\" class=\"data row4 col2\" >0.0000</td>\n",
       "      <td id=\"T_c3386_row4_col3\" class=\"data row4 col3\" >0.0000</td>\n",
       "      <td id=\"T_c3386_row4_col4\" class=\"data row4 col4\" >0.0000</td>\n",
       "      <td id=\"T_c3386_row4_col5\" class=\"data row4 col5\" >0.0000</td>\n",
       "      <td id=\"T_c3386_row4_col6\" class=\"data row4 col6\" >0.0000</td>\n",
       "    </tr>\n",
       "    <tr>\n",
       "      <th id=\"T_c3386_level0_row5\" class=\"row_heading level0 row5\" >Mean</th>\n",
       "      <td id=\"T_c3386_row5_col0\" class=\"data row5 col0\" >0.7964</td>\n",
       "      <td id=\"T_c3386_row5_col1\" class=\"data row5 col1\" >0.0000</td>\n",
       "      <td id=\"T_c3386_row5_col2\" class=\"data row5 col2\" >0.0000</td>\n",
       "      <td id=\"T_c3386_row5_col3\" class=\"data row5 col3\" >0.0000</td>\n",
       "      <td id=\"T_c3386_row5_col4\" class=\"data row5 col4\" >0.0000</td>\n",
       "      <td id=\"T_c3386_row5_col5\" class=\"data row5 col5\" >-0.0157</td>\n",
       "      <td id=\"T_c3386_row5_col6\" class=\"data row5 col6\" >-0.0206</td>\n",
       "    </tr>\n",
       "    <tr>\n",
       "      <th id=\"T_c3386_level0_row6\" class=\"row_heading level0 row6\" >Std</th>\n",
       "      <td id=\"T_c3386_row6_col0\" class=\"data row6 col0\" >0.0145</td>\n",
       "      <td id=\"T_c3386_row6_col1\" class=\"data row6 col1\" >0.0000</td>\n",
       "      <td id=\"T_c3386_row6_col2\" class=\"data row6 col2\" >0.0000</td>\n",
       "      <td id=\"T_c3386_row6_col3\" class=\"data row6 col3\" >0.0000</td>\n",
       "      <td id=\"T_c3386_row6_col4\" class=\"data row6 col4\" >0.0000</td>\n",
       "      <td id=\"T_c3386_row6_col5\" class=\"data row6 col5\" >0.0314</td>\n",
       "      <td id=\"T_c3386_row6_col6\" class=\"data row6 col6\" >0.0411</td>\n",
       "    </tr>\n",
       "  </tbody>\n",
       "</table>\n"
      ],
      "text/plain": [
       "<pandas.io.formats.style.Styler at 0x23fffeba430>"
      ]
     },
     "metadata": {},
     "output_type": "display_data"
    },
    {
     "data": {
      "application/vnd.jupyter.widget-view+json": {
       "model_id": "",
       "version_major": 2,
       "version_minor": 0
      },
      "text/plain": [
       "Processing:   0%|          | 0/4 [00:00<?, ?it/s]"
      ]
     },
     "metadata": {},
     "output_type": "display_data"
    }
   ],
   "source": [
    "ridge = create_model('ridge')"
   ]
  },
  {
   "cell_type": "code",
   "execution_count": 35,
   "id": "e0820d2c",
   "metadata": {},
   "outputs": [
    {
     "data": {
      "application/vnd.jupyter.widget-view+json": {
       "model_id": "cb30c36ba30c470287c716d1ae88fc11",
       "version_major": 2,
       "version_minor": 0
      },
      "text/plain": [
       "interactive(children=(ToggleButtons(description='Plot Type:', icons=('',), options=(('Pipeline Plot', 'pipelin…"
      ]
     },
     "metadata": {},
     "output_type": "display_data"
    }
   ],
   "source": [
    "evaluate_model(ridge)"
   ]
  },
  {
   "cell_type": "code",
   "execution_count": 36,
   "id": "6ae8c5ba",
   "metadata": {},
   "outputs": [
    {
     "data": {
      "application/vnd.jupyter.widget-view+json": {
       "model_id": "0fc3ba642bdc4aa9b45413aef640577f",
       "version_major": 2,
       "version_minor": 0
      },
      "text/plain": [
       "interactive(children=(ToggleButtons(description='Plot Type:', icons=('',), options=(('Pipeline Plot', 'pipelin…"
      ]
     },
     "metadata": {},
     "output_type": "display_data"
    }
   ],
   "source": [
    "evaluate_model(rf)"
   ]
  },
  {
   "cell_type": "code",
   "execution_count": 37,
   "id": "a92a6ee5",
   "metadata": {},
   "outputs": [
    {
     "data": {
      "text/html": [
       "<style type=\"text/css\">\n",
       "</style>\n",
       "<table id=\"T_5f16a\">\n",
       "  <thead>\n",
       "    <tr>\n",
       "      <th class=\"blank level0\" >&nbsp;</th>\n",
       "      <th id=\"T_5f16a_level0_col0\" class=\"col_heading level0 col0\" >Model</th>\n",
       "      <th id=\"T_5f16a_level0_col1\" class=\"col_heading level0 col1\" >Accuracy</th>\n",
       "      <th id=\"T_5f16a_level0_col2\" class=\"col_heading level0 col2\" >AUC</th>\n",
       "      <th id=\"T_5f16a_level0_col3\" class=\"col_heading level0 col3\" >Recall</th>\n",
       "      <th id=\"T_5f16a_level0_col4\" class=\"col_heading level0 col4\" >Prec.</th>\n",
       "      <th id=\"T_5f16a_level0_col5\" class=\"col_heading level0 col5\" >F1</th>\n",
       "      <th id=\"T_5f16a_level0_col6\" class=\"col_heading level0 col6\" >Kappa</th>\n",
       "      <th id=\"T_5f16a_level0_col7\" class=\"col_heading level0 col7\" >MCC</th>\n",
       "    </tr>\n",
       "  </thead>\n",
       "  <tbody>\n",
       "    <tr>\n",
       "      <th id=\"T_5f16a_level0_row0\" class=\"row_heading level0 row0\" >0</th>\n",
       "      <td id=\"T_5f16a_row0_col0\" class=\"data row0 col0\" >Random Forest Classifier</td>\n",
       "      <td id=\"T_5f16a_row0_col1\" class=\"data row0 col1\" >0.9338</td>\n",
       "      <td id=\"T_5f16a_row0_col2\" class=\"data row0 col2\" >0.9133</td>\n",
       "      <td id=\"T_5f16a_row0_col3\" class=\"data row0 col3\" >0.9338</td>\n",
       "      <td id=\"T_5f16a_row0_col4\" class=\"data row0 col4\" >0.9351</td>\n",
       "      <td id=\"T_5f16a_row0_col5\" class=\"data row0 col5\" >0.9296</td>\n",
       "      <td id=\"T_5f16a_row0_col6\" class=\"data row0 col6\" >0.7651</td>\n",
       "      <td id=\"T_5f16a_row0_col7\" class=\"data row0 col7\" >0.7793</td>\n",
       "    </tr>\n",
       "  </tbody>\n",
       "</table>\n"
      ],
      "text/plain": [
       "<pandas.io.formats.style.Styler at 0x23f8032cc70>"
      ]
     },
     "metadata": {},
     "output_type": "display_data"
    },
    {
     "data": {
      "text/html": [
       "<div>\n",
       "<style scoped>\n",
       "    .dataframe tbody tr th:only-of-type {\n",
       "        vertical-align: middle;\n",
       "    }\n",
       "\n",
       "    .dataframe tbody tr th {\n",
       "        vertical-align: top;\n",
       "    }\n",
       "\n",
       "    .dataframe thead th {\n",
       "        text-align: right;\n",
       "    }\n",
       "</style>\n",
       "<table border=\"1\" class=\"dataframe\">\n",
       "  <thead>\n",
       "    <tr style=\"text-align: right;\">\n",
       "      <th></th>\n",
       "      <th>Age</th>\n",
       "      <th>Gender</th>\n",
       "      <th>Protein1</th>\n",
       "      <th>Protein2</th>\n",
       "      <th>Protein3</th>\n",
       "      <th>Protein4</th>\n",
       "      <th>Tumour_Stage</th>\n",
       "      <th>Histology</th>\n",
       "      <th>HER2 status</th>\n",
       "      <th>Surgery_type</th>\n",
       "      <th>Patient_Status</th>\n",
       "      <th>prediction_label</th>\n",
       "      <th>prediction_score</th>\n",
       "    </tr>\n",
       "  </thead>\n",
       "  <tbody>\n",
       "    <tr>\n",
       "      <th>0</th>\n",
       "      <td>36.0</td>\n",
       "      <td>FEMALE</td>\n",
       "      <td>0.080353</td>\n",
       "      <td>0.42638</td>\n",
       "      <td>0.54715</td>\n",
       "      <td>0.273680</td>\n",
       "      <td>III</td>\n",
       "      <td>Infiltrating Ductal Carcinoma</td>\n",
       "      <td>Negative</td>\n",
       "      <td>Modified Radical Mastectomy</td>\n",
       "      <td>0</td>\n",
       "      <td>Alive</td>\n",
       "      <td>0.70</td>\n",
       "    </tr>\n",
       "    <tr>\n",
       "      <th>1</th>\n",
       "      <td>43.0</td>\n",
       "      <td>FEMALE</td>\n",
       "      <td>-0.420320</td>\n",
       "      <td>0.57807</td>\n",
       "      <td>0.61447</td>\n",
       "      <td>-0.031505</td>\n",
       "      <td>II</td>\n",
       "      <td>Mucinous Carcinoma</td>\n",
       "      <td>Negative</td>\n",
       "      <td>Lumpectomy</td>\n",
       "      <td>1</td>\n",
       "      <td>Alive</td>\n",
       "      <td>0.71</td>\n",
       "    </tr>\n",
       "    <tr>\n",
       "      <th>2</th>\n",
       "      <td>69.0</td>\n",
       "      <td>FEMALE</td>\n",
       "      <td>0.213980</td>\n",
       "      <td>1.31140</td>\n",
       "      <td>-0.32747</td>\n",
       "      <td>-0.234260</td>\n",
       "      <td>III</td>\n",
       "      <td>Infiltrating Ductal Carcinoma</td>\n",
       "      <td>Negative</td>\n",
       "      <td>Other</td>\n",
       "      <td>0</td>\n",
       "      <td>Alive</td>\n",
       "      <td>0.88</td>\n",
       "    </tr>\n",
       "    <tr>\n",
       "      <th>3</th>\n",
       "      <td>56.0</td>\n",
       "      <td>FEMALE</td>\n",
       "      <td>0.345090</td>\n",
       "      <td>-0.21147</td>\n",
       "      <td>-0.19304</td>\n",
       "      <td>0.124270</td>\n",
       "      <td>II</td>\n",
       "      <td>Infiltrating Ductal Carcinoma</td>\n",
       "      <td>Negative</td>\n",
       "      <td>Modified Radical Mastectomy</td>\n",
       "      <td>0</td>\n",
       "      <td>Alive</td>\n",
       "      <td>0.87</td>\n",
       "    </tr>\n",
       "    <tr>\n",
       "      <th>4</th>\n",
       "      <td>56.0</td>\n",
       "      <td>FEMALE</td>\n",
       "      <td>0.221550</td>\n",
       "      <td>1.90680</td>\n",
       "      <td>0.52045</td>\n",
       "      <td>-0.311990</td>\n",
       "      <td>II</td>\n",
       "      <td>Infiltrating Ductal Carcinoma</td>\n",
       "      <td>Negative</td>\n",
       "      <td>Other</td>\n",
       "      <td>1</td>\n",
       "      <td>Dead</td>\n",
       "      <td>0.77</td>\n",
       "    </tr>\n",
       "  </tbody>\n",
       "</table>\n",
       "</div>"
      ],
      "text/plain": [
       "    Age  Gender  Protein1  Protein2  Protein3  Protein4 Tumour_Stage  \\\n",
       "0  36.0  FEMALE  0.080353   0.42638   0.54715  0.273680          III   \n",
       "1  43.0  FEMALE -0.420320   0.57807   0.61447 -0.031505           II   \n",
       "2  69.0  FEMALE  0.213980   1.31140  -0.32747 -0.234260          III   \n",
       "3  56.0  FEMALE  0.345090  -0.21147  -0.19304  0.124270           II   \n",
       "4  56.0  FEMALE  0.221550   1.90680   0.52045 -0.311990           II   \n",
       "\n",
       "                       Histology HER2 status                 Surgery_type  \\\n",
       "0  Infiltrating Ductal Carcinoma    Negative  Modified Radical Mastectomy   \n",
       "1             Mucinous Carcinoma    Negative                   Lumpectomy   \n",
       "2  Infiltrating Ductal Carcinoma    Negative                        Other   \n",
       "3  Infiltrating Ductal Carcinoma    Negative  Modified Radical Mastectomy   \n",
       "4  Infiltrating Ductal Carcinoma    Negative                        Other   \n",
       "\n",
       "   Patient_Status prediction_label  prediction_score  \n",
       "0               0            Alive              0.70  \n",
       "1               1            Alive              0.71  \n",
       "2               0            Alive              0.88  \n",
       "3               0            Alive              0.87  \n",
       "4               1             Dead              0.77  "
      ]
     },
     "execution_count": 37,
     "metadata": {},
     "output_type": "execute_result"
    }
   ],
   "source": [
    "unseen_predictions = predict_model(rf, data = df)\n",
    "unseen_predictions.head()"
   ]
  },
  {
   "cell_type": "markdown",
   "id": "92c8afa0",
   "metadata": {},
   "source": [
    "# Save RF as pickle"
   ]
  },
  {
   "cell_type": "code",
   "execution_count": 38,
   "id": "b4f3fea9",
   "metadata": {},
   "outputs": [
    {
     "name": "stdout",
     "output_type": "stream",
     "text": [
      "Transformation Pipeline and Model Successfully Saved\n"
     ]
    },
    {
     "data": {
      "text/plain": [
       "(Pipeline(memory=Memory(location=None),\n",
       "          steps=[('label_encoding',\n",
       "                  TransformerWrapperWithInverse(exclude=None, include=None,\n",
       "                                                transformer=LabelEncoder())),\n",
       "                 ('numerical_imputer',\n",
       "                  TransformerWrapper(exclude=None,\n",
       "                                     include=['Age', 'Protein1', 'Protein2',\n",
       "                                              'Protein3', 'Protein4'],\n",
       "                                     transformer=SimpleImputer(add_indicator=False,\n",
       "                                                               copy=True,\n",
       "                                                               fill_value=None,\n",
       "                                                               missing_values=na...\n",
       "                  RandomForestClassifier(bootstrap=True, ccp_alpha=0.0,\n",
       "                                         class_weight=None, criterion='gini',\n",
       "                                         max_depth=None, max_features='auto',\n",
       "                                         max_leaf_nodes=None, max_samples=None,\n",
       "                                         min_impurity_decrease=0.0,\n",
       "                                         min_samples_leaf=1, min_samples_split=2,\n",
       "                                         min_weight_fraction_leaf=0.0,\n",
       "                                         n_estimators=100, n_jobs=-1,\n",
       "                                         oob_score=False, random_state=3471,\n",
       "                                         verbose=0, warm_start=False))],\n",
       "          verbose=False),\n",
       " 'model_rf.pkl')"
      ]
     },
     "execution_count": 38,
     "metadata": {},
     "output_type": "execute_result"
    }
   ],
   "source": [
    "save_model(rf, 'model_rf')"
   ]
  },
  {
   "cell_type": "code",
   "execution_count": 39,
   "id": "7ddab752",
   "metadata": {},
   "outputs": [
    {
     "name": "stdout",
     "output_type": "stream",
     "text": [
      "Transformation Pipeline and Model Successfully Loaded\n"
     ]
    }
   ],
   "source": [
    "from pycaret.classification import load_model\n",
    "loaded_model = load_model('model_rf')"
   ]
  },
  {
   "cell_type": "markdown",
   "id": "e9018fdb",
   "metadata": {},
   "source": [
    "# What is Pipeline in ML?"
   ]
  },
  {
   "cell_type": "markdown",
   "id": "85361f66",
   "metadata": {},
   "source": [
    "ML Pipeline is defined as a collection of preprocessing steps and a model. This means when raw data is passed to the ML Pipeline, it preprocesses the data to the right format, scores the data using the model and pops out a prediction score."
   ]
  },
  {
   "cell_type": "code",
   "execution_count": 40,
   "id": "b1c357d2",
   "metadata": {},
   "outputs": [
    {
     "data": {
      "image/png": "[encoded data removed]",
      "text/plain": [
       "<IPython.core.display.Image object>"
      ]
     },
     "execution_count": 40,
     "metadata": {},
     "output_type": "execute_result"
    }
   ],
   "source": [
    "from IPython.display import Image\n",
    "Image(filename='pipeline.png') "
   ]
  },
  {
   "cell_type": "markdown",
   "id": "ee388d8e",
   "metadata": {},
   "source": [
    "# Prediction"
   ]
  },
  {
   "cell_type": "code",
   "execution_count": 41,
   "id": "37880d0e",
   "metadata": {},
   "outputs": [
    {
     "data": {
      "text/html": [
       "<style type=\"text/css\">\n",
       "</style>\n",
       "<table id=\"T_92a0c\">\n",
       "  <thead>\n",
       "    <tr>\n",
       "      <th class=\"blank level0\" >&nbsp;</th>\n",
       "      <th id=\"T_92a0c_level0_col0\" class=\"col_heading level0 col0\" >Model</th>\n",
       "      <th id=\"T_92a0c_level0_col1\" class=\"col_heading level0 col1\" >Accuracy</th>\n",
       "      <th id=\"T_92a0c_level0_col2\" class=\"col_heading level0 col2\" >AUC</th>\n",
       "      <th id=\"T_92a0c_level0_col3\" class=\"col_heading level0 col3\" >Recall</th>\n",
       "      <th id=\"T_92a0c_level0_col4\" class=\"col_heading level0 col4\" >Prec.</th>\n",
       "      <th id=\"T_92a0c_level0_col5\" class=\"col_heading level0 col5\" >F1</th>\n",
       "      <th id=\"T_92a0c_level0_col6\" class=\"col_heading level0 col6\" >Kappa</th>\n",
       "      <th id=\"T_92a0c_level0_col7\" class=\"col_heading level0 col7\" >MCC</th>\n",
       "    </tr>\n",
       "  </thead>\n",
       "  <tbody>\n",
       "    <tr>\n",
       "      <th id=\"T_92a0c_level0_row0\" class=\"row_heading level0 row0\" >0</th>\n",
       "      <td id=\"T_92a0c_row0_col0\" class=\"data row0 col0\" >Random Forest Classifier</td>\n",
       "      <td id=\"T_92a0c_row0_col1\" class=\"data row0 col1\" >0.9338</td>\n",
       "      <td id=\"T_92a0c_row0_col2\" class=\"data row0 col2\" >0.9133</td>\n",
       "      <td id=\"T_92a0c_row0_col3\" class=\"data row0 col3\" >0.9338</td>\n",
       "      <td id=\"T_92a0c_row0_col4\" class=\"data row0 col4\" >0.9351</td>\n",
       "      <td id=\"T_92a0c_row0_col5\" class=\"data row0 col5\" >0.9296</td>\n",
       "      <td id=\"T_92a0c_row0_col6\" class=\"data row0 col6\" >0.7651</td>\n",
       "      <td id=\"T_92a0c_row0_col7\" class=\"data row0 col7\" >0.7793</td>\n",
       "    </tr>\n",
       "  </tbody>\n",
       "</table>\n"
      ],
      "text/plain": [
       "<pandas.io.formats.style.Styler at 0x23ffbf1a9a0>"
      ]
     },
     "metadata": {},
     "output_type": "display_data"
    },
    {
     "data": {
      "text/html": [
       "<div>\n",
       "<style scoped>\n",
       "    .dataframe tbody tr th:only-of-type {\n",
       "        vertical-align: middle;\n",
       "    }\n",
       "\n",
       "    .dataframe tbody tr th {\n",
       "        vertical-align: top;\n",
       "    }\n",
       "\n",
       "    .dataframe thead th {\n",
       "        text-align: right;\n",
       "    }\n",
       "</style>\n",
       "<table border=\"1\" class=\"dataframe\">\n",
       "  <thead>\n",
       "    <tr style=\"text-align: right;\">\n",
       "      <th></th>\n",
       "      <th>Age</th>\n",
       "      <th>Gender</th>\n",
       "      <th>Protein1</th>\n",
       "      <th>Protein2</th>\n",
       "      <th>Protein3</th>\n",
       "      <th>Protein4</th>\n",
       "      <th>Tumour_Stage</th>\n",
       "      <th>Histology</th>\n",
       "      <th>HER2 status</th>\n",
       "      <th>Surgery_type</th>\n",
       "      <th>Patient_Status</th>\n",
       "      <th>prediction_label</th>\n",
       "      <th>prediction_score</th>\n",
       "    </tr>\n",
       "  </thead>\n",
       "  <tbody>\n",
       "    <tr>\n",
       "      <th>0</th>\n",
       "      <td>36.0</td>\n",
       "      <td>FEMALE</td>\n",
       "      <td>0.080353</td>\n",
       "      <td>0.42638</td>\n",
       "      <td>0.54715</td>\n",
       "      <td>0.273680</td>\n",
       "      <td>III</td>\n",
       "      <td>Infiltrating Ductal Carcinoma</td>\n",
       "      <td>Negative</td>\n",
       "      <td>Modified Radical Mastectomy</td>\n",
       "      <td>0</td>\n",
       "      <td>Alive</td>\n",
       "      <td>0.70</td>\n",
       "    </tr>\n",
       "    <tr>\n",
       "      <th>1</th>\n",
       "      <td>43.0</td>\n",
       "      <td>FEMALE</td>\n",
       "      <td>-0.420320</td>\n",
       "      <td>0.57807</td>\n",
       "      <td>0.61447</td>\n",
       "      <td>-0.031505</td>\n",
       "      <td>II</td>\n",
       "      <td>Mucinous Carcinoma</td>\n",
       "      <td>Negative</td>\n",
       "      <td>Lumpectomy</td>\n",
       "      <td>1</td>\n",
       "      <td>Alive</td>\n",
       "      <td>0.71</td>\n",
       "    </tr>\n",
       "    <tr>\n",
       "      <th>2</th>\n",
       "      <td>69.0</td>\n",
       "      <td>FEMALE</td>\n",
       "      <td>0.213980</td>\n",
       "      <td>1.31140</td>\n",
       "      <td>-0.32747</td>\n",
       "      <td>-0.234260</td>\n",
       "      <td>III</td>\n",
       "      <td>Infiltrating Ductal Carcinoma</td>\n",
       "      <td>Negative</td>\n",
       "      <td>Other</td>\n",
       "      <td>0</td>\n",
       "      <td>Alive</td>\n",
       "      <td>0.88</td>\n",
       "    </tr>\n",
       "    <tr>\n",
       "      <th>3</th>\n",
       "      <td>56.0</td>\n",
       "      <td>FEMALE</td>\n",
       "      <td>0.345090</td>\n",
       "      <td>-0.21147</td>\n",
       "      <td>-0.19304</td>\n",
       "      <td>0.124270</td>\n",
       "      <td>II</td>\n",
       "      <td>Infiltrating Ductal Carcinoma</td>\n",
       "      <td>Negative</td>\n",
       "      <td>Modified Radical Mastectomy</td>\n",
       "      <td>0</td>\n",
       "      <td>Alive</td>\n",
       "      <td>0.87</td>\n",
       "    </tr>\n",
       "    <tr>\n",
       "      <th>4</th>\n",
       "      <td>56.0</td>\n",
       "      <td>FEMALE</td>\n",
       "      <td>0.221550</td>\n",
       "      <td>1.90680</td>\n",
       "      <td>0.52045</td>\n",
       "      <td>-0.311990</td>\n",
       "      <td>II</td>\n",
       "      <td>Infiltrating Ductal Carcinoma</td>\n",
       "      <td>Negative</td>\n",
       "      <td>Other</td>\n",
       "      <td>1</td>\n",
       "      <td>Dead</td>\n",
       "      <td>0.77</td>\n",
       "    </tr>\n",
       "  </tbody>\n",
       "</table>\n",
       "</div>"
      ],
      "text/plain": [
       "    Age  Gender  Protein1  Protein2  Protein3  Protein4 Tumour_Stage  \\\n",
       "0  36.0  FEMALE  0.080353   0.42638   0.54715  0.273680          III   \n",
       "1  43.0  FEMALE -0.420320   0.57807   0.61447 -0.031505           II   \n",
       "2  69.0  FEMALE  0.213980   1.31140  -0.32747 -0.234260          III   \n",
       "3  56.0  FEMALE  0.345090  -0.21147  -0.19304  0.124270           II   \n",
       "4  56.0  FEMALE  0.221550   1.90680   0.52045 -0.311990           II   \n",
       "\n",
       "                       Histology HER2 status                 Surgery_type  \\\n",
       "0  Infiltrating Ductal Carcinoma    Negative  Modified Radical Mastectomy   \n",
       "1             Mucinous Carcinoma    Negative                   Lumpectomy   \n",
       "2  Infiltrating Ductal Carcinoma    Negative                        Other   \n",
       "3  Infiltrating Ductal Carcinoma    Negative  Modified Radical Mastectomy   \n",
       "4  Infiltrating Ductal Carcinoma    Negative                        Other   \n",
       "\n",
       "   Patient_Status prediction_label  prediction_score  \n",
       "0               0            Alive              0.70  \n",
       "1               1            Alive              0.71  \n",
       "2               0            Alive              0.88  \n",
       "3               0            Alive              0.87  \n",
       "4               1             Dead              0.77  "
      ]
     },
     "execution_count": 41,
     "metadata": {},
     "output_type": "execute_result"
    }
   ],
   "source": [
    "unseen_predictions2 = predict_model(loaded_model, data = df)\n",
    "unseen_predictions2.head()"
   ]
  },
  {
   "cell_type": "markdown",
   "id": "0371c8ed",
   "metadata": {},
   "source": [
    "# Random Over Sampler"
   ]
  },
  {
   "cell_type": "code",
   "execution_count": 42,
   "id": "39ba36fb",
   "metadata": {},
   "outputs": [
    {
     "data": {
      "application/vnd.plotly.v1+json": {
       "config": {
        "plotlyServerURL": "https://plot.ly"
       },
       "data": [
        {
         "domain": {
          "x": [
           0,
           1
          ],
          "y": [
           0,
           1
          ]
         },
         "hole": 0.6,
         "hovertemplate": "label=%{label}<br>value=%{value}<extra></extra>",
         "labels": [
          "Alive",
          "Dead"
         ],
         "legendgroup": "",
         "name": "",
         "showlegend": true,
         "type": "pie",
         "values": [
          255,
          62
         ]
        }
       ],
       "layout": {
        "legend": {
         "tracegroupgap": 0
        },
        "template": {
         "data": {
          "bar": [
           {
            "error_x": {
             "color": "#2a3f5f"
            },
            "error_y": {
             "color": "#2a3f5f"
            },
            "marker": {
             "line": {
              "color": "#E5ECF6",
              "width": 0.5
             },
             "pattern": {
              "fillmode": "overlay",
              "size": 10,
              "solidity": 0.2
             }
            },
            "type": "bar"
           }
          ],
          "barpolar": [
           {
            "marker": {
             "line": {
              "color": "#E5ECF6",
              "width": 0.5
             },
             "pattern": {
              "fillmode": "overlay",
              "size": 10,
              "solidity": 0.2
             }
            },
            "type": "barpolar"
           }
          ],
          "carpet": [
           {
            "aaxis": {
             "endlinecolor": "#2a3f5f",
             "gridcolor": "white",
             "linecolor": "white",
             "minorgridcolor": "white",
             "startlinecolor": "#2a3f5f"
            },
            "baxis": {
             "endlinecolor": "#2a3f5f",
             "gridcolor": "white",
             "linecolor": "white",
             "minorgridcolor": "white",
             "startlinecolor": "#2a3f5f"
            },
            "type": "carpet"
           }
          ],
          "choropleth": [
           {
            "colorbar": {
             "outlinewidth": 0,
             "ticks": ""
            },
            "type": "choropleth"
           }
          ],
          "contour": [
           {
            "colorbar": {
             "outlinewidth": 0,
             "ticks": ""
            },
            "colorscale": [
             [
              0,
              "#0d0887"
             ],
             [
              0.1111111111111111,
              "#46039f"
             ],
             [
              0.2222222222222222,
              "#7201a8"
             ],
             [
              0.3333333333333333,
              "#9c179e"
             ],
             [
              0.4444444444444444,
              "#bd3786"
             ],
             [
              0.5555555555555556,
              "#d8576b"
             ],
             [
              0.6666666666666666,
              "#ed7953"
             ],
             [
              0.7777777777777778,
              "#fb9f3a"
             ],
             [
              0.8888888888888888,
              "#fdca26"
             ],
             [
              1,
              "#f0f921"
             ]
            ],
            "type": "contour"
           }
          ],
          "contourcarpet": [
           {
            "colorbar": {
             "outlinewidth": 0,
             "ticks": ""
            },
            "type": "contourcarpet"
           }
          ],
          "heatmap": [
           {
            "colorbar": {
             "outlinewidth": 0,
             "ticks": ""
            },
            "colorscale": [
             [
              0,
              "#0d0887"
             ],
             [
              0.1111111111111111,
              "#46039f"
             ],
             [
              0.2222222222222222,
              "#7201a8"
             ],
             [
              0.3333333333333333,
              "#9c179e"
             ],
             [
              0.4444444444444444,
              "#bd3786"
             ],
             [
              0.5555555555555556,
              "#d8576b"
             ],
             [
              0.6666666666666666,
              "#ed7953"
             ],
             [
              0.7777777777777778,
              "#fb9f3a"
             ],
             [
              0.8888888888888888,
              "#fdca26"
             ],
             [
              1,
              "#f0f921"
             ]
            ],
            "type": "heatmap"
           }
          ],
          "heatmapgl": [
           {
            "colorbar": {
             "outlinewidth": 0,
             "ticks": ""
            },
            "colorscale": [
             [
              0,
              "#0d0887"
             ],
             [
              0.1111111111111111,
              "#46039f"
             ],
             [
              0.2222222222222222,
              "#7201a8"
             ],
             [
              0.3333333333333333,
              "#9c179e"
             ],
             [
              0.4444444444444444,
              "#bd3786"
             ],
             [
              0.5555555555555556,
              "#d8576b"
             ],
             [
              0.6666666666666666,
              "#ed7953"
             ],
             [
              0.7777777777777778,
              "#fb9f3a"
             ],
             [
              0.8888888888888888,
              "#fdca26"
             ],
             [
              1,
              "#f0f921"
             ]
            ],
            "type": "heatmapgl"
           }
          ],
          "histogram": [
           {
            "marker": {
             "pattern": {
              "fillmode": "overlay",
              "size": 10,
              "solidity": 0.2
             }
            },
            "type": "histogram"
           }
          ],
          "histogram2d": [
           {
            "colorbar": {
             "outlinewidth": 0,
             "ticks": ""
            },
            "colorscale": [
             [
              0,
              "#0d0887"
             ],
             [
              0.1111111111111111,
              "#46039f"
             ],
             [
              0.2222222222222222,
              "#7201a8"
             ],
             [
              0.3333333333333333,
              "#9c179e"
             ],
             [
              0.4444444444444444,
              "#bd3786"
             ],
             [
              0.5555555555555556,
              "#d8576b"
             ],
             [
              0.6666666666666666,
              "#ed7953"
             ],
             [
              0.7777777777777778,
              "#fb9f3a"
             ],
             [
              0.8888888888888888,
              "#fdca26"
             ],
             [
              1,
              "#f0f921"
             ]
            ],
            "type": "histogram2d"
           }
          ],
          "histogram2dcontour": [
           {
            "colorbar": {
             "outlinewidth": 0,
             "ticks": ""
            },
            "colorscale": [
             [
              0,
              "#0d0887"
             ],
             [
              0.1111111111111111,
              "#46039f"
             ],
             [
              0.2222222222222222,
              "#7201a8"
             ],
             [
              0.3333333333333333,
              "#9c179e"
             ],
             [
              0.4444444444444444,
              "#bd3786"
             ],
             [
              0.5555555555555556,
              "#d8576b"
             ],
             [
              0.6666666666666666,
              "#ed7953"
             ],
             [
              0.7777777777777778,
              "#fb9f3a"
             ],
             [
              0.8888888888888888,
              "#fdca26"
             ],
             [
              1,
              "#f0f921"
             ]
            ],
            "type": "histogram2dcontour"
           }
          ],
          "mesh3d": [
           {
            "colorbar": {
             "outlinewidth": 0,
             "ticks": ""
            },
            "type": "mesh3d"
           }
          ],
          "parcoords": [
           {
            "line": {
             "colorbar": {
              "outlinewidth": 0,
              "ticks": ""
             }
            },
            "type": "parcoords"
           }
          ],
          "pie": [
           {
            "automargin": true,
            "type": "pie"
           }
          ],
          "scatter": [
           {
            "fillpattern": {
             "fillmode": "overlay",
             "size": 10,
             "solidity": 0.2
            },
            "type": "scatter"
           }
          ],
          "scatter3d": [
           {
            "line": {
             "colorbar": {
              "outlinewidth": 0,
              "ticks": ""
             }
            },
            "marker": {
             "colorbar": {
              "outlinewidth": 0,
              "ticks": ""
             }
            },
            "type": "scatter3d"
           }
          ],
          "scattercarpet": [
           {
            "marker": {
             "colorbar": {
              "outlinewidth": 0,
              "ticks": ""
             }
            },
            "type": "scattercarpet"
           }
          ],
          "scattergeo": [
           {
            "marker": {
             "colorbar": {
              "outlinewidth": 0,
              "ticks": ""
             }
            },
            "type": "scattergeo"
           }
          ],
          "scattergl": [
           {
            "marker": {
             "colorbar": {
              "outlinewidth": 0,
              "ticks": ""
             }
            },
            "type": "scattergl"
           }
          ],
          "scattermapbox": [
           {
            "marker": {
             "colorbar": {
              "outlinewidth": 0,
              "ticks": ""
             }
            },
            "type": "scattermapbox"
           }
          ],
          "scatterpolar": [
           {
            "marker": {
             "colorbar": {
              "outlinewidth": 0,
              "ticks": ""
             }
            },
            "type": "scatterpolar"
           }
          ],
          "scatterpolargl": [
           {
            "marker": {
             "colorbar": {
              "outlinewidth": 0,
              "ticks": ""
             }
            },
            "type": "scatterpolargl"
           }
          ],
          "scatterternary": [
           {
            "marker": {
             "colorbar": {
              "outlinewidth": 0,
              "ticks": ""
             }
            },
            "type": "scatterternary"
           }
          ],
          "surface": [
           {
            "colorbar": {
             "outlinewidth": 0,
             "ticks": ""
            },
            "colorscale": [
             [
              0,
              "#0d0887"
             ],
             [
              0.1111111111111111,
              "#46039f"
             ],
             [
              0.2222222222222222,
              "#7201a8"
             ],
             [
              0.3333333333333333,
              "#9c179e"
             ],
             [
              0.4444444444444444,
              "#bd3786"
             ],
             [
              0.5555555555555556,
              "#d8576b"
             ],
             [
              0.6666666666666666,
              "#ed7953"
             ],
             [
              0.7777777777777778,
              "#fb9f3a"
             ],
             [
              0.8888888888888888,
              "#fdca26"
             ],
             [
              1,
              "#f0f921"
             ]
            ],
            "type": "surface"
           }
          ],
          "table": [
           {
            "cells": {
             "fill": {
              "color": "#EBF0F8"
             },
             "line": {
              "color": "white"
             }
            },
            "header": {
             "fill": {
              "color": "#C8D4E3"
             },
             "line": {
              "color": "white"
             }
            },
            "type": "table"
           }
          ]
         },
         "layout": {
          "annotationdefaults": {
           "arrowcolor": "#2a3f5f",
           "arrowhead": 0,
           "arrowwidth": 1
          },
          "autotypenumbers": "strict",
          "coloraxis": {
           "colorbar": {
            "outlinewidth": 0,
            "ticks": ""
           }
          },
          "colorscale": {
           "diverging": [
            [
             0,
             "#8e0152"
            ],
            [
             0.1,
             "#c51b7d"
            ],
            [
             0.2,
             "#de77ae"
            ],
            [
             0.3,
             "#f1b6da"
            ],
            [
             0.4,
             "#fde0ef"
            ],
            [
             0.5,
             "#f7f7f7"
            ],
            [
             0.6,
             "#e6f5d0"
            ],
            [
             0.7,
             "#b8e186"
            ],
            [
             0.8,
             "#7fbc41"
            ],
            [
             0.9,
             "#4d9221"
            ],
            [
             1,
             "#276419"
            ]
           ],
           "sequential": [
            [
             0,
             "#0d0887"
            ],
            [
             0.1111111111111111,
             "#46039f"
            ],
            [
             0.2222222222222222,
             "#7201a8"
            ],
            [
             0.3333333333333333,
             "#9c179e"
            ],
            [
             0.4444444444444444,
             "#bd3786"
            ],
            [
             0.5555555555555556,
             "#d8576b"
            ],
            [
             0.6666666666666666,
             "#ed7953"
            ],
            [
             0.7777777777777778,
             "#fb9f3a"
            ],
            [
             0.8888888888888888,
             "#fdca26"
            ],
            [
             1,
             "#f0f921"
            ]
           ],
           "sequentialminus": [
            [
             0,
             "#0d0887"
            ],
            [
             0.1111111111111111,
             "#46039f"
            ],
            [
             0.2222222222222222,
             "#7201a8"
            ],
            [
             0.3333333333333333,
             "#9c179e"
            ],
            [
             0.4444444444444444,
             "#bd3786"
            ],
            [
             0.5555555555555556,
             "#d8576b"
            ],
            [
             0.6666666666666666,
             "#ed7953"
            ],
            [
             0.7777777777777778,
             "#fb9f3a"
            ],
            [
             0.8888888888888888,
             "#fdca26"
            ],
            [
             1,
             "#f0f921"
            ]
           ]
          },
          "colorway": [
           "#636efa",
           "#EF553B",
           "#00cc96",
           "#ab63fa",
           "#FFA15A",
           "#19d3f3",
           "#FF6692",
           "#B6E880",
           "#FF97FF",
           "#FECB52"
          ],
          "font": {
           "color": "#2a3f5f"
          },
          "geo": {
           "bgcolor": "white",
           "lakecolor": "white",
           "landcolor": "#E5ECF6",
           "showlakes": true,
           "showland": true,
           "subunitcolor": "white"
          },
          "hoverlabel": {
           "align": "left"
          },
          "hovermode": "closest",
          "mapbox": {
           "style": "light"
          },
          "paper_bgcolor": "white",
          "plot_bgcolor": "#E5ECF6",
          "polar": {
           "angularaxis": {
            "gridcolor": "white",
            "linecolor": "white",
            "ticks": ""
           },
           "bgcolor": "#E5ECF6",
           "radialaxis": {
            "gridcolor": "white",
            "linecolor": "white",
            "ticks": ""
           }
          },
          "scene": {
           "xaxis": {
            "backgroundcolor": "#E5ECF6",
            "gridcolor": "white",
            "gridwidth": 2,
            "linecolor": "white",
            "showbackground": true,
            "ticks": "",
            "zerolinecolor": "white"
           },
           "yaxis": {
            "backgroundcolor": "#E5ECF6",
            "gridcolor": "white",
            "gridwidth": 2,
            "linecolor": "white",
            "showbackground": true,
            "ticks": "",
            "zerolinecolor": "white"
           },
           "zaxis": {
            "backgroundcolor": "#E5ECF6",
            "gridcolor": "white",
            "gridwidth": 2,
            "linecolor": "white",
            "showbackground": true,
            "ticks": "",
            "zerolinecolor": "white"
           }
          },
          "shapedefaults": {
           "line": {
            "color": "#2a3f5f"
           }
          },
          "ternary": {
           "aaxis": {
            "gridcolor": "white",
            "linecolor": "white",
            "ticks": ""
           },
           "baxis": {
            "gridcolor": "white",
            "linecolor": "white",
            "ticks": ""
           },
           "bgcolor": "#E5ECF6",
           "caxis": {
            "gridcolor": "white",
            "linecolor": "white",
            "ticks": ""
           }
          },
          "title": {
           "x": 0.05
          },
          "xaxis": {
           "automargin": true,
           "gridcolor": "white",
           "linecolor": "white",
           "ticks": "",
           "title": {
            "standoff": 15
           },
           "zerolinecolor": "white",
           "zerolinewidth": 2
          },
          "yaxis": {
           "automargin": true,
           "gridcolor": "white",
           "linecolor": "white",
           "ticks": "",
           "title": {
            "standoff": 15
           },
           "zerolinecolor": "white",
           "zerolinewidth": 2
          }
         }
        },
        "title": {
         "text": "Patient Status"
        }
       }
      },
      "text/html": [
       "<div>                            <div id=\"3d499f80-43de-4d20-a797-5d344ede461a\" class=\"plotly-graph-div\" style=\"height:525px; width:100%;\"></div>            <script type=\"text/javascript\">                require([\"plotly\"], function(Plotly) {                    window.PLOTLYENV=window.PLOTLYENV || {};                                    if (document.getElementById(\"3d499f80-43de-4d20-a797-5d344ede461a\")) {                    Plotly.newPlot(                        \"3d499f80-43de-4d20-a797-5d344ede461a\",                        [{\"domain\":{\"x\":[0.0,1.0],\"y\":[0.0,1.0]},\"hole\":0.6,\"hovertemplate\":\"label=%{label}<br>value=%{value}<extra></extra>\",\"labels\":[\"Alive\",\"Dead\"],\"legendgroup\":\"\",\"name\":\"\",\"showlegend\":true,\"values\":[255,62],\"type\":\"pie\"}],                        {\"template\":{\"data\":{\"histogram2dcontour\":[{\"type\":\"histogram2dcontour\",\"colorbar\":{\"outlinewidth\":0,\"ticks\":\"\"},\"colorscale\":[[0.0,\"#0d0887\"],[0.1111111111111111,\"#46039f\"],[0.2222222222222222,\"#7201a8\"],[0.3333333333333333,\"#9c179e\"],[0.4444444444444444,\"#bd3786\"],[0.5555555555555556,\"#d8576b\"],[0.6666666666666666,\"#ed7953\"],[0.7777777777777778,\"#fb9f3a\"],[0.8888888888888888,\"#fdca26\"],[1.0,\"#f0f921\"]]}],\"choropleth\":[{\"type\":\"choropleth\",\"colorbar\":{\"outlinewidth\":0,\"ticks\":\"\"}}],\"histogram2d\":[{\"type\":\"histogram2d\",\"colorbar\":{\"outlinewidth\":0,\"ticks\":\"\"},\"colorscale\":[[0.0,\"#0d0887\"],[0.1111111111111111,\"#46039f\"],[0.2222222222222222,\"#7201a8\"],[0.3333333333333333,\"#9c179e\"],[0.4444444444444444,\"#bd3786\"],[0.5555555555555556,\"#d8576b\"],[0.6666666666666666,\"#ed7953\"],[0.7777777777777778,\"#fb9f3a\"],[0.8888888888888888,\"#fdca26\"],[1.0,\"#f0f921\"]]}],\"heatmap\":[{\"type\":\"heatmap\",\"colorbar\":{\"outlinewidth\":0,\"ticks\":\"\"},\"colorscale\":[[0.0,\"#0d0887\"],[0.1111111111111111,\"#46039f\"],[0.2222222222222222,\"#7201a8\"],[0.3333333333333333,\"#9c179e\"],[0.4444444444444444,\"#bd3786\"],[0.5555555555555556,\"#d8576b\"],[0.6666666666666666,\"#ed7953\"],[0.7777777777777778,\"#fb9f3a\"],[0.8888888888888888,\"#fdca26\"],[1.0,\"#f0f921\"]]}],\"heatmapgl\":[{\"type\":\"heatmapgl\",\"colorbar\":{\"outlinewidth\":0,\"ticks\":\"\"},\"colorscale\":[[0.0,\"#0d0887\"],[0.1111111111111111,\"#46039f\"],[0.2222222222222222,\"#7201a8\"],[0.3333333333333333,\"#9c179e\"],[0.4444444444444444,\"#bd3786\"],[0.5555555555555556,\"#d8576b\"],[0.6666666666666666,\"#ed7953\"],[0.7777777777777778,\"#fb9f3a\"],[0.8888888888888888,\"#fdca26\"],[1.0,\"#f0f921\"]]}],\"contourcarpet\":[{\"type\":\"contourcarpet\",\"colorbar\":{\"outlinewidth\":0,\"ticks\":\"\"}}],\"contour\":[{\"type\":\"contour\",\"colorbar\":{\"outlinewidth\":0,\"ticks\":\"\"},\"colorscale\":[[0.0,\"#0d0887\"],[0.1111111111111111,\"#46039f\"],[0.2222222222222222,\"#7201a8\"],[0.3333333333333333,\"#9c179e\"],[0.4444444444444444,\"#bd3786\"],[0.5555555555555556,\"#d8576b\"],[0.6666666666666666,\"#ed7953\"],[0.7777777777777778,\"#fb9f3a\"],[0.8888888888888888,\"#fdca26\"],[1.0,\"#f0f921\"]]}],\"surface\":[{\"type\":\"surface\",\"colorbar\":{\"outlinewidth\":0,\"ticks\":\"\"},\"colorscale\":[[0.0,\"#0d0887\"],[0.1111111111111111,\"#46039f\"],[0.2222222222222222,\"#7201a8\"],[0.3333333333333333,\"#9c179e\"],[0.4444444444444444,\"#bd3786\"],[0.5555555555555556,\"#d8576b\"],[0.6666666666666666,\"#ed7953\"],[0.7777777777777778,\"#fb9f3a\"],[0.8888888888888888,\"#fdca26\"],[1.0,\"#f0f921\"]]}],\"mesh3d\":[{\"type\":\"mesh3d\",\"colorbar\":{\"outlinewidth\":0,\"ticks\":\"\"}}],\"scatter\":[{\"fillpattern\":{\"fillmode\":\"overlay\",\"size\":10,\"solidity\":0.2},\"type\":\"scatter\"}],\"parcoords\":[{\"type\":\"parcoords\",\"line\":{\"colorbar\":{\"outlinewidth\":0,\"ticks\":\"\"}}}],\"scatterpolargl\":[{\"type\":\"scatterpolargl\",\"marker\":{\"colorbar\":{\"outlinewidth\":0,\"ticks\":\"\"}}}],\"bar\":[{\"error_x\":{\"color\":\"#2a3f5f\"},\"error_y\":{\"color\":\"#2a3f5f\"},\"marker\":{\"line\":{\"color\":\"#E5ECF6\",\"width\":0.5},\"pattern\":{\"fillmode\":\"overlay\",\"size\":10,\"solidity\":0.2}},\"type\":\"bar\"}],\"scattergeo\":[{\"type\":\"scattergeo\",\"marker\":{\"colorbar\":{\"outlinewidth\":0,\"ticks\":\"\"}}}],\"scatterpolar\":[{\"type\":\"scatterpolar\",\"marker\":{\"colorbar\":{\"outlinewidth\":0,\"ticks\":\"\"}}}],\"histogram\":[{\"marker\":{\"pattern\":{\"fillmode\":\"overlay\",\"size\":10,\"solidity\":0.2}},\"type\":\"histogram\"}],\"scattergl\":[{\"type\":\"scattergl\",\"marker\":{\"colorbar\":{\"outlinewidth\":0,\"ticks\":\"\"}}}],\"scatter3d\":[{\"type\":\"scatter3d\",\"line\":{\"colorbar\":{\"outlinewidth\":0,\"ticks\":\"\"}},\"marker\":{\"colorbar\":{\"outlinewidth\":0,\"ticks\":\"\"}}}],\"scattermapbox\":[{\"type\":\"scattermapbox\",\"marker\":{\"colorbar\":{\"outlinewidth\":0,\"ticks\":\"\"}}}],\"scatterternary\":[{\"type\":\"scatterternary\",\"marker\":{\"colorbar\":{\"outlinewidth\":0,\"ticks\":\"\"}}}],\"scattercarpet\":[{\"type\":\"scattercarpet\",\"marker\":{\"colorbar\":{\"outlinewidth\":0,\"ticks\":\"\"}}}],\"carpet\":[{\"aaxis\":{\"endlinecolor\":\"#2a3f5f\",\"gridcolor\":\"white\",\"linecolor\":\"white\",\"minorgridcolor\":\"white\",\"startlinecolor\":\"#2a3f5f\"},\"baxis\":{\"endlinecolor\":\"#2a3f5f\",\"gridcolor\":\"white\",\"linecolor\":\"white\",\"minorgridcolor\":\"white\",\"startlinecolor\":\"#2a3f5f\"},\"type\":\"carpet\"}],\"table\":[{\"cells\":{\"fill\":{\"color\":\"#EBF0F8\"},\"line\":{\"color\":\"white\"}},\"header\":{\"fill\":{\"color\":\"#C8D4E3\"},\"line\":{\"color\":\"white\"}},\"type\":\"table\"}],\"barpolar\":[{\"marker\":{\"line\":{\"color\":\"#E5ECF6\",\"width\":0.5},\"pattern\":{\"fillmode\":\"overlay\",\"size\":10,\"solidity\":0.2}},\"type\":\"barpolar\"}],\"pie\":[{\"automargin\":true,\"type\":\"pie\"}]},\"layout\":{\"autotypenumbers\":\"strict\",\"colorway\":[\"#636efa\",\"#EF553B\",\"#00cc96\",\"#ab63fa\",\"#FFA15A\",\"#19d3f3\",\"#FF6692\",\"#B6E880\",\"#FF97FF\",\"#FECB52\"],\"font\":{\"color\":\"#2a3f5f\"},\"hovermode\":\"closest\",\"hoverlabel\":{\"align\":\"left\"},\"paper_bgcolor\":\"white\",\"plot_bgcolor\":\"#E5ECF6\",\"polar\":{\"bgcolor\":\"#E5ECF6\",\"angularaxis\":{\"gridcolor\":\"white\",\"linecolor\":\"white\",\"ticks\":\"\"},\"radialaxis\":{\"gridcolor\":\"white\",\"linecolor\":\"white\",\"ticks\":\"\"}},\"ternary\":{\"bgcolor\":\"#E5ECF6\",\"aaxis\":{\"gridcolor\":\"white\",\"linecolor\":\"white\",\"ticks\":\"\"},\"baxis\":{\"gridcolor\":\"white\",\"linecolor\":\"white\",\"ticks\":\"\"},\"caxis\":{\"gridcolor\":\"white\",\"linecolor\":\"white\",\"ticks\":\"\"}},\"coloraxis\":{\"colorbar\":{\"outlinewidth\":0,\"ticks\":\"\"}},\"colorscale\":{\"sequential\":[[0.0,\"#0d0887\"],[0.1111111111111111,\"#46039f\"],[0.2222222222222222,\"#7201a8\"],[0.3333333333333333,\"#9c179e\"],[0.4444444444444444,\"#bd3786\"],[0.5555555555555556,\"#d8576b\"],[0.6666666666666666,\"#ed7953\"],[0.7777777777777778,\"#fb9f3a\"],[0.8888888888888888,\"#fdca26\"],[1.0,\"#f0f921\"]],\"sequentialminus\":[[0.0,\"#0d0887\"],[0.1111111111111111,\"#46039f\"],[0.2222222222222222,\"#7201a8\"],[0.3333333333333333,\"#9c179e\"],[0.4444444444444444,\"#bd3786\"],[0.5555555555555556,\"#d8576b\"],[0.6666666666666666,\"#ed7953\"],[0.7777777777777778,\"#fb9f3a\"],[0.8888888888888888,\"#fdca26\"],[1.0,\"#f0f921\"]],\"diverging\":[[0,\"#8e0152\"],[0.1,\"#c51b7d\"],[0.2,\"#de77ae\"],[0.3,\"#f1b6da\"],[0.4,\"#fde0ef\"],[0.5,\"#f7f7f7\"],[0.6,\"#e6f5d0\"],[0.7,\"#b8e186\"],[0.8,\"#7fbc41\"],[0.9,\"#4d9221\"],[1,\"#276419\"]]},\"xaxis\":{\"gridcolor\":\"white\",\"linecolor\":\"white\",\"ticks\":\"\",\"title\":{\"standoff\":15},\"zerolinecolor\":\"white\",\"automargin\":true,\"zerolinewidth\":2},\"yaxis\":{\"gridcolor\":\"white\",\"linecolor\":\"white\",\"ticks\":\"\",\"title\":{\"standoff\":15},\"zerolinecolor\":\"white\",\"automargin\":true,\"zerolinewidth\":2},\"scene\":{\"xaxis\":{\"backgroundcolor\":\"#E5ECF6\",\"gridcolor\":\"white\",\"linecolor\":\"white\",\"showbackground\":true,\"ticks\":\"\",\"zerolinecolor\":\"white\",\"gridwidth\":2},\"yaxis\":{\"backgroundcolor\":\"#E5ECF6\",\"gridcolor\":\"white\",\"linecolor\":\"white\",\"showbackground\":true,\"ticks\":\"\",\"zerolinecolor\":\"white\",\"gridwidth\":2},\"zaxis\":{\"backgroundcolor\":\"#E5ECF6\",\"gridcolor\":\"white\",\"linecolor\":\"white\",\"showbackground\":true,\"ticks\":\"\",\"zerolinecolor\":\"white\",\"gridwidth\":2}},\"shapedefaults\":{\"line\":{\"color\":\"#2a3f5f\"}},\"annotationdefaults\":{\"arrowcolor\":\"#2a3f5f\",\"arrowhead\":0,\"arrowwidth\":1},\"geo\":{\"bgcolor\":\"white\",\"landcolor\":\"#E5ECF6\",\"subunitcolor\":\"white\",\"showland\":true,\"showlakes\":true,\"lakecolor\":\"white\"},\"title\":{\"x\":0.05},\"mapbox\":{\"style\":\"light\"}}},\"legend\":{\"tracegroupgap\":0},\"title\":{\"text\":\"Patient Status\"}},                        {\"responsive\": true}                    ).then(function(){\n",
       "                            \n",
       "var gd = document.getElementById('3d499f80-43de-4d20-a797-5d344ede461a');\n",
       "var x = new MutationObserver(function (mutations, observer) {{\n",
       "        var display = window.getComputedStyle(gd).display;\n",
       "        if (!display || display === 'none') {{\n",
       "            console.log([gd, 'removed!']);\n",
       "            Plotly.purge(gd);\n",
       "            observer.disconnect();\n",
       "        }}\n",
       "}});\n",
       "\n",
       "// Listen for the removal of the full notebook cells\n",
       "var notebookContainer = gd.closest('#notebook-container');\n",
       "if (notebookContainer) {{\n",
       "    x.observe(notebookContainer, {childList: true});\n",
       "}}\n",
       "\n",
       "// Listen for the clearing of the current output cell\n",
       "var outputEl = gd.closest('.output');\n",
       "if (outputEl) {{\n",
       "    x.observe(outputEl, {childList: true});\n",
       "}}\n",
       "\n",
       "                        })                };                });            </script>        </div>"
      ]
     },
     "metadata": {},
     "output_type": "display_data"
    }
   ],
   "source": [
    "Patient_Status = df['Patient_Status'].value_counts()\n",
    "transactions = Patient_Status.index\n",
    "quantity = Patient_Status.values\n",
    "\n",
    "figure = px.pie(df, \n",
    "             values=quantity, \n",
    "             names=transactions, hole =.60, \n",
    "             title=\"Patient Status\")\n",
    "figure.show()"
   ]
  },
  {
   "cell_type": "code",
   "execution_count": 43,
   "id": "93285bb8",
   "metadata": {},
   "outputs": [],
   "source": [
    "from imblearn.over_sampling import RandomOverSampler\n",
    "ros = RandomOverSampler(random_state=0)\n",
    "x_resampled, y_resampled = ros.fit_resample(df.drop('Patient_Status', axis=1) , df[['Patient_Status']])"
   ]
  },
  {
   "cell_type": "code",
   "execution_count": 44,
   "id": "fe6f53f2",
   "metadata": {},
   "outputs": [
    {
     "data": {
      "text/html": [
       "<div>\n",
       "<style scoped>\n",
       "    .dataframe tbody tr th:only-of-type {\n",
       "        vertical-align: middle;\n",
       "    }\n",
       "\n",
       "    .dataframe tbody tr th {\n",
       "        vertical-align: top;\n",
       "    }\n",
       "\n",
       "    .dataframe thead th {\n",
       "        text-align: right;\n",
       "    }\n",
       "</style>\n",
       "<table border=\"1\" class=\"dataframe\">\n",
       "  <thead>\n",
       "    <tr style=\"text-align: right;\">\n",
       "      <th></th>\n",
       "      <th>Age</th>\n",
       "      <th>Gender</th>\n",
       "      <th>Protein1</th>\n",
       "      <th>Protein2</th>\n",
       "      <th>Protein3</th>\n",
       "      <th>Protein4</th>\n",
       "      <th>Tumour_Stage</th>\n",
       "      <th>Histology</th>\n",
       "      <th>HER2 status</th>\n",
       "      <th>Surgery_type</th>\n",
       "    </tr>\n",
       "  </thead>\n",
       "  <tbody>\n",
       "    <tr>\n",
       "      <th>0</th>\n",
       "      <td>36.0</td>\n",
       "      <td>FEMALE</td>\n",
       "      <td>0.080353</td>\n",
       "      <td>0.42638</td>\n",
       "      <td>0.54715</td>\n",
       "      <td>0.273680</td>\n",
       "      <td>III</td>\n",
       "      <td>Infiltrating Ductal Carcinoma</td>\n",
       "      <td>Negative</td>\n",
       "      <td>Modified Radical Mastectomy</td>\n",
       "    </tr>\n",
       "    <tr>\n",
       "      <th>1</th>\n",
       "      <td>43.0</td>\n",
       "      <td>FEMALE</td>\n",
       "      <td>-0.420320</td>\n",
       "      <td>0.57807</td>\n",
       "      <td>0.61447</td>\n",
       "      <td>-0.031505</td>\n",
       "      <td>II</td>\n",
       "      <td>Mucinous Carcinoma</td>\n",
       "      <td>Negative</td>\n",
       "      <td>Lumpectomy</td>\n",
       "    </tr>\n",
       "    <tr>\n",
       "      <th>2</th>\n",
       "      <td>69.0</td>\n",
       "      <td>FEMALE</td>\n",
       "      <td>0.213980</td>\n",
       "      <td>1.31140</td>\n",
       "      <td>-0.32747</td>\n",
       "      <td>-0.234260</td>\n",
       "      <td>III</td>\n",
       "      <td>Infiltrating Ductal Carcinoma</td>\n",
       "      <td>Negative</td>\n",
       "      <td>Other</td>\n",
       "    </tr>\n",
       "    <tr>\n",
       "      <th>3</th>\n",
       "      <td>56.0</td>\n",
       "      <td>FEMALE</td>\n",
       "      <td>0.345090</td>\n",
       "      <td>-0.21147</td>\n",
       "      <td>-0.19304</td>\n",
       "      <td>0.124270</td>\n",
       "      <td>II</td>\n",
       "      <td>Infiltrating Ductal Carcinoma</td>\n",
       "      <td>Negative</td>\n",
       "      <td>Modified Radical Mastectomy</td>\n",
       "    </tr>\n",
       "    <tr>\n",
       "      <th>4</th>\n",
       "      <td>56.0</td>\n",
       "      <td>FEMALE</td>\n",
       "      <td>0.221550</td>\n",
       "      <td>1.90680</td>\n",
       "      <td>0.52045</td>\n",
       "      <td>-0.311990</td>\n",
       "      <td>II</td>\n",
       "      <td>Infiltrating Ductal Carcinoma</td>\n",
       "      <td>Negative</td>\n",
       "      <td>Other</td>\n",
       "    </tr>\n",
       "  </tbody>\n",
       "</table>\n",
       "</div>"
      ],
      "text/plain": [
       "    Age  Gender  Protein1  Protein2  Protein3  Protein4 Tumour_Stage  \\\n",
       "0  36.0  FEMALE  0.080353   0.42638   0.54715  0.273680          III   \n",
       "1  43.0  FEMALE -0.420320   0.57807   0.61447 -0.031505           II   \n",
       "2  69.0  FEMALE  0.213980   1.31140  -0.32747 -0.234260          III   \n",
       "3  56.0  FEMALE  0.345090  -0.21147  -0.19304  0.124270           II   \n",
       "4  56.0  FEMALE  0.221550   1.90680   0.52045 -0.311990           II   \n",
       "\n",
       "                       Histology HER2 status                 Surgery_type  \n",
       "0  Infiltrating Ductal Carcinoma    Negative  Modified Radical Mastectomy  \n",
       "1             Mucinous Carcinoma    Negative                   Lumpectomy  \n",
       "2  Infiltrating Ductal Carcinoma    Negative                        Other  \n",
       "3  Infiltrating Ductal Carcinoma    Negative  Modified Radical Mastectomy  \n",
       "4  Infiltrating Ductal Carcinoma    Negative                        Other  "
      ]
     },
     "execution_count": 44,
     "metadata": {},
     "output_type": "execute_result"
    }
   ],
   "source": [
    "x_resampled.head()"
   ]
  },
  {
   "cell_type": "code",
   "execution_count": 45,
   "id": "7b9908cc",
   "metadata": {},
   "outputs": [
    {
     "data": {
      "text/plain": [
       "(510, 10)"
      ]
     },
     "execution_count": 45,
     "metadata": {},
     "output_type": "execute_result"
    }
   ],
   "source": [
    "x_resampled.shape"
   ]
  },
  {
   "cell_type": "code",
   "execution_count": 46,
   "id": "aa0991da",
   "metadata": {},
   "outputs": [
    {
     "data": {
      "text/plain": [
       "(510, 1)"
      ]
     },
     "execution_count": 46,
     "metadata": {},
     "output_type": "execute_result"
    }
   ],
   "source": [
    "y_resampled.shape"
   ]
  },
  {
   "cell_type": "code",
   "execution_count": 47,
   "id": "cdfaf41e",
   "metadata": {},
   "outputs": [
    {
     "data": {
      "text/plain": [
       "(510, 11)"
      ]
     },
     "execution_count": 47,
     "metadata": {},
     "output_type": "execute_result"
    }
   ],
   "source": [
    "df2 = pd.concat([x_resampled, y_resampled], axis=1)\n",
    "df2.shape"
   ]
  },
  {
   "cell_type": "code",
   "execution_count": 48,
   "id": "84897379",
   "metadata": {},
   "outputs": [
    {
     "data": {
      "text/html": [
       "<div>\n",
       "<style scoped>\n",
       "    .dataframe tbody tr th:only-of-type {\n",
       "        vertical-align: middle;\n",
       "    }\n",
       "\n",
       "    .dataframe tbody tr th {\n",
       "        vertical-align: top;\n",
       "    }\n",
       "\n",
       "    .dataframe thead th {\n",
       "        text-align: right;\n",
       "    }\n",
       "</style>\n",
       "<table border=\"1\" class=\"dataframe\">\n",
       "  <thead>\n",
       "    <tr style=\"text-align: right;\">\n",
       "      <th></th>\n",
       "      <th>Age</th>\n",
       "      <th>Gender</th>\n",
       "      <th>Protein1</th>\n",
       "      <th>Protein2</th>\n",
       "      <th>Protein3</th>\n",
       "      <th>Protein4</th>\n",
       "      <th>Tumour_Stage</th>\n",
       "      <th>Histology</th>\n",
       "      <th>HER2 status</th>\n",
       "      <th>Surgery_type</th>\n",
       "      <th>Patient_Status</th>\n",
       "    </tr>\n",
       "  </thead>\n",
       "  <tbody>\n",
       "    <tr>\n",
       "      <th>0</th>\n",
       "      <td>36.0</td>\n",
       "      <td>FEMALE</td>\n",
       "      <td>0.080353</td>\n",
       "      <td>0.42638</td>\n",
       "      <td>0.54715</td>\n",
       "      <td>0.273680</td>\n",
       "      <td>III</td>\n",
       "      <td>Infiltrating Ductal Carcinoma</td>\n",
       "      <td>Negative</td>\n",
       "      <td>Modified Radical Mastectomy</td>\n",
       "      <td>Alive</td>\n",
       "    </tr>\n",
       "    <tr>\n",
       "      <th>1</th>\n",
       "      <td>43.0</td>\n",
       "      <td>FEMALE</td>\n",
       "      <td>-0.420320</td>\n",
       "      <td>0.57807</td>\n",
       "      <td>0.61447</td>\n",
       "      <td>-0.031505</td>\n",
       "      <td>II</td>\n",
       "      <td>Mucinous Carcinoma</td>\n",
       "      <td>Negative</td>\n",
       "      <td>Lumpectomy</td>\n",
       "      <td>Dead</td>\n",
       "    </tr>\n",
       "    <tr>\n",
       "      <th>2</th>\n",
       "      <td>69.0</td>\n",
       "      <td>FEMALE</td>\n",
       "      <td>0.213980</td>\n",
       "      <td>1.31140</td>\n",
       "      <td>-0.32747</td>\n",
       "      <td>-0.234260</td>\n",
       "      <td>III</td>\n",
       "      <td>Infiltrating Ductal Carcinoma</td>\n",
       "      <td>Negative</td>\n",
       "      <td>Other</td>\n",
       "      <td>Alive</td>\n",
       "    </tr>\n",
       "    <tr>\n",
       "      <th>3</th>\n",
       "      <td>56.0</td>\n",
       "      <td>FEMALE</td>\n",
       "      <td>0.345090</td>\n",
       "      <td>-0.21147</td>\n",
       "      <td>-0.19304</td>\n",
       "      <td>0.124270</td>\n",
       "      <td>II</td>\n",
       "      <td>Infiltrating Ductal Carcinoma</td>\n",
       "      <td>Negative</td>\n",
       "      <td>Modified Radical Mastectomy</td>\n",
       "      <td>Alive</td>\n",
       "    </tr>\n",
       "    <tr>\n",
       "      <th>4</th>\n",
       "      <td>56.0</td>\n",
       "      <td>FEMALE</td>\n",
       "      <td>0.221550</td>\n",
       "      <td>1.90680</td>\n",
       "      <td>0.52045</td>\n",
       "      <td>-0.311990</td>\n",
       "      <td>II</td>\n",
       "      <td>Infiltrating Ductal Carcinoma</td>\n",
       "      <td>Negative</td>\n",
       "      <td>Other</td>\n",
       "      <td>Dead</td>\n",
       "    </tr>\n",
       "  </tbody>\n",
       "</table>\n",
       "</div>"
      ],
      "text/plain": [
       "    Age  Gender  Protein1  Protein2  Protein3  Protein4 Tumour_Stage  \\\n",
       "0  36.0  FEMALE  0.080353   0.42638   0.54715  0.273680          III   \n",
       "1  43.0  FEMALE -0.420320   0.57807   0.61447 -0.031505           II   \n",
       "2  69.0  FEMALE  0.213980   1.31140  -0.32747 -0.234260          III   \n",
       "3  56.0  FEMALE  0.345090  -0.21147  -0.19304  0.124270           II   \n",
       "4  56.0  FEMALE  0.221550   1.90680   0.52045 -0.311990           II   \n",
       "\n",
       "                       Histology HER2 status                 Surgery_type  \\\n",
       "0  Infiltrating Ductal Carcinoma    Negative  Modified Radical Mastectomy   \n",
       "1             Mucinous Carcinoma    Negative                   Lumpectomy   \n",
       "2  Infiltrating Ductal Carcinoma    Negative                        Other   \n",
       "3  Infiltrating Ductal Carcinoma    Negative  Modified Radical Mastectomy   \n",
       "4  Infiltrating Ductal Carcinoma    Negative                        Other   \n",
       "\n",
       "  Patient_Status  \n",
       "0          Alive  \n",
       "1           Dead  \n",
       "2          Alive  \n",
       "3          Alive  \n",
       "4           Dead  "
      ]
     },
     "execution_count": 48,
     "metadata": {},
     "output_type": "execute_result"
    }
   ],
   "source": [
    "df2.head()"
   ]
  },
  {
   "cell_type": "code",
   "execution_count": 49,
   "id": "3bf22f1c",
   "metadata": {},
   "outputs": [
    {
     "data": {
      "text/html": [
       "<style type=\"text/css\">\n",
       "#T_381d4_row11_col1, #T_381d4_row17_col1, #T_381d4_row19_col1, #T_381d4_row21_col1 {\n",
       "  background-color: lightgreen;\n",
       "}\n",
       "</style>\n",
       "<table id=\"T_381d4\">\n",
       "  <thead>\n",
       "    <tr>\n",
       "      <th class=\"blank level0\" >&nbsp;</th>\n",
       "      <th id=\"T_381d4_level0_col0\" class=\"col_heading level0 col0\" >Description</th>\n",
       "      <th id=\"T_381d4_level0_col1\" class=\"col_heading level0 col1\" >Value</th>\n",
       "    </tr>\n",
       "  </thead>\n",
       "  <tbody>\n",
       "    <tr>\n",
       "      <th id=\"T_381d4_level0_row0\" class=\"row_heading level0 row0\" >0</th>\n",
       "      <td id=\"T_381d4_row0_col0\" class=\"data row0 col0\" >Session id</td>\n",
       "      <td id=\"T_381d4_row0_col1\" class=\"data row0 col1\" >2537</td>\n",
       "    </tr>\n",
       "    <tr>\n",
       "      <th id=\"T_381d4_level0_row1\" class=\"row_heading level0 row1\" >1</th>\n",
       "      <td id=\"T_381d4_row1_col0\" class=\"data row1 col0\" >Target</td>\n",
       "      <td id=\"T_381d4_row1_col1\" class=\"data row1 col1\" >Patient_Status</td>\n",
       "    </tr>\n",
       "    <tr>\n",
       "      <th id=\"T_381d4_level0_row2\" class=\"row_heading level0 row2\" >2</th>\n",
       "      <td id=\"T_381d4_row2_col0\" class=\"data row2 col0\" >Target type</td>\n",
       "      <td id=\"T_381d4_row2_col1\" class=\"data row2 col1\" >Binary</td>\n",
       "    </tr>\n",
       "    <tr>\n",
       "      <th id=\"T_381d4_level0_row3\" class=\"row_heading level0 row3\" >3</th>\n",
       "      <td id=\"T_381d4_row3_col0\" class=\"data row3 col0\" >Target mapping</td>\n",
       "      <td id=\"T_381d4_row3_col1\" class=\"data row3 col1\" >Alive: 0, Dead: 1</td>\n",
       "    </tr>\n",
       "    <tr>\n",
       "      <th id=\"T_381d4_level0_row4\" class=\"row_heading level0 row4\" >4</th>\n",
       "      <td id=\"T_381d4_row4_col0\" class=\"data row4 col0\" >Original data shape</td>\n",
       "      <td id=\"T_381d4_row4_col1\" class=\"data row4 col1\" >(510, 11)</td>\n",
       "    </tr>\n",
       "    <tr>\n",
       "      <th id=\"T_381d4_level0_row5\" class=\"row_heading level0 row5\" >5</th>\n",
       "      <td id=\"T_381d4_row5_col0\" class=\"data row5 col0\" >Transformed data shape</td>\n",
       "      <td id=\"T_381d4_row5_col1\" class=\"data row5 col1\" >(510, 18)</td>\n",
       "    </tr>\n",
       "    <tr>\n",
       "      <th id=\"T_381d4_level0_row6\" class=\"row_heading level0 row6\" >6</th>\n",
       "      <td id=\"T_381d4_row6_col0\" class=\"data row6 col0\" >Transformed train set shape</td>\n",
       "      <td id=\"T_381d4_row6_col1\" class=\"data row6 col1\" >(357, 18)</td>\n",
       "    </tr>\n",
       "    <tr>\n",
       "      <th id=\"T_381d4_level0_row7\" class=\"row_heading level0 row7\" >7</th>\n",
       "      <td id=\"T_381d4_row7_col0\" class=\"data row7 col0\" >Transformed test set shape</td>\n",
       "      <td id=\"T_381d4_row7_col1\" class=\"data row7 col1\" >(153, 18)</td>\n",
       "    </tr>\n",
       "    <tr>\n",
       "      <th id=\"T_381d4_level0_row8\" class=\"row_heading level0 row8\" >8</th>\n",
       "      <td id=\"T_381d4_row8_col0\" class=\"data row8 col0\" >Ordinal features</td>\n",
       "      <td id=\"T_381d4_row8_col1\" class=\"data row8 col1\" >2</td>\n",
       "    </tr>\n",
       "    <tr>\n",
       "      <th id=\"T_381d4_level0_row9\" class=\"row_heading level0 row9\" >9</th>\n",
       "      <td id=\"T_381d4_row9_col0\" class=\"data row9 col0\" >Numeric features</td>\n",
       "      <td id=\"T_381d4_row9_col1\" class=\"data row9 col1\" >5</td>\n",
       "    </tr>\n",
       "    <tr>\n",
       "      <th id=\"T_381d4_level0_row10\" class=\"row_heading level0 row10\" >10</th>\n",
       "      <td id=\"T_381d4_row10_col0\" class=\"data row10 col0\" >Categorical features</td>\n",
       "      <td id=\"T_381d4_row10_col1\" class=\"data row10 col1\" >5</td>\n",
       "    </tr>\n",
       "    <tr>\n",
       "      <th id=\"T_381d4_level0_row11\" class=\"row_heading level0 row11\" >11</th>\n",
       "      <td id=\"T_381d4_row11_col0\" class=\"data row11 col0\" >Preprocess</td>\n",
       "      <td id=\"T_381d4_row11_col1\" class=\"data row11 col1\" >True</td>\n",
       "    </tr>\n",
       "    <tr>\n",
       "      <th id=\"T_381d4_level0_row12\" class=\"row_heading level0 row12\" >12</th>\n",
       "      <td id=\"T_381d4_row12_col0\" class=\"data row12 col0\" >Imputation type</td>\n",
       "      <td id=\"T_381d4_row12_col1\" class=\"data row12 col1\" >simple</td>\n",
       "    </tr>\n",
       "    <tr>\n",
       "      <th id=\"T_381d4_level0_row13\" class=\"row_heading level0 row13\" >13</th>\n",
       "      <td id=\"T_381d4_row13_col0\" class=\"data row13 col0\" >Numeric imputation</td>\n",
       "      <td id=\"T_381d4_row13_col1\" class=\"data row13 col1\" >median</td>\n",
       "    </tr>\n",
       "    <tr>\n",
       "      <th id=\"T_381d4_level0_row14\" class=\"row_heading level0 row14\" >14</th>\n",
       "      <td id=\"T_381d4_row14_col0\" class=\"data row14 col0\" >Categorical imputation</td>\n",
       "      <td id=\"T_381d4_row14_col1\" class=\"data row14 col1\" >mode</td>\n",
       "    </tr>\n",
       "    <tr>\n",
       "      <th id=\"T_381d4_level0_row15\" class=\"row_heading level0 row15\" >15</th>\n",
       "      <td id=\"T_381d4_row15_col0\" class=\"data row15 col0\" >Maximum one-hot encoding</td>\n",
       "      <td id=\"T_381d4_row15_col1\" class=\"data row15 col1\" >25</td>\n",
       "    </tr>\n",
       "    <tr>\n",
       "      <th id=\"T_381d4_level0_row16\" class=\"row_heading level0 row16\" >16</th>\n",
       "      <td id=\"T_381d4_row16_col0\" class=\"data row16 col0\" >Encoding method</td>\n",
       "      <td id=\"T_381d4_row16_col1\" class=\"data row16 col1\" >None</td>\n",
       "    </tr>\n",
       "    <tr>\n",
       "      <th id=\"T_381d4_level0_row17\" class=\"row_heading level0 row17\" >17</th>\n",
       "      <td id=\"T_381d4_row17_col0\" class=\"data row17 col0\" >Remove multicollinearity</td>\n",
       "      <td id=\"T_381d4_row17_col1\" class=\"data row17 col1\" >True</td>\n",
       "    </tr>\n",
       "    <tr>\n",
       "      <th id=\"T_381d4_level0_row18\" class=\"row_heading level0 row18\" >18</th>\n",
       "      <td id=\"T_381d4_row18_col0\" class=\"data row18 col0\" >Multicollinearity threshold</td>\n",
       "      <td id=\"T_381d4_row18_col1\" class=\"data row18 col1\" >0.900000</td>\n",
       "    </tr>\n",
       "    <tr>\n",
       "      <th id=\"T_381d4_level0_row19\" class=\"row_heading level0 row19\" >19</th>\n",
       "      <td id=\"T_381d4_row19_col0\" class=\"data row19 col0\" >Transformation</td>\n",
       "      <td id=\"T_381d4_row19_col1\" class=\"data row19 col1\" >True</td>\n",
       "    </tr>\n",
       "    <tr>\n",
       "      <th id=\"T_381d4_level0_row20\" class=\"row_heading level0 row20\" >20</th>\n",
       "      <td id=\"T_381d4_row20_col0\" class=\"data row20 col0\" >Transformation method</td>\n",
       "      <td id=\"T_381d4_row20_col1\" class=\"data row20 col1\" >yeo-johnson</td>\n",
       "    </tr>\n",
       "    <tr>\n",
       "      <th id=\"T_381d4_level0_row21\" class=\"row_heading level0 row21\" >21</th>\n",
       "      <td id=\"T_381d4_row21_col0\" class=\"data row21 col0\" >Normalize</td>\n",
       "      <td id=\"T_381d4_row21_col1\" class=\"data row21 col1\" >True</td>\n",
       "    </tr>\n",
       "    <tr>\n",
       "      <th id=\"T_381d4_level0_row22\" class=\"row_heading level0 row22\" >22</th>\n",
       "      <td id=\"T_381d4_row22_col0\" class=\"data row22 col0\" >Normalize method</td>\n",
       "      <td id=\"T_381d4_row22_col1\" class=\"data row22 col1\" >zscore</td>\n",
       "    </tr>\n",
       "    <tr>\n",
       "      <th id=\"T_381d4_level0_row23\" class=\"row_heading level0 row23\" >23</th>\n",
       "      <td id=\"T_381d4_row23_col0\" class=\"data row23 col0\" >Fold Generator</td>\n",
       "      <td id=\"T_381d4_row23_col1\" class=\"data row23 col1\" >StratifiedKFold</td>\n",
       "    </tr>\n",
       "    <tr>\n",
       "      <th id=\"T_381d4_level0_row24\" class=\"row_heading level0 row24\" >24</th>\n",
       "      <td id=\"T_381d4_row24_col0\" class=\"data row24 col0\" >Fold Number</td>\n",
       "      <td id=\"T_381d4_row24_col1\" class=\"data row24 col1\" >5</td>\n",
       "    </tr>\n",
       "    <tr>\n",
       "      <th id=\"T_381d4_level0_row25\" class=\"row_heading level0 row25\" >25</th>\n",
       "      <td id=\"T_381d4_row25_col0\" class=\"data row25 col0\" >CPU Jobs</td>\n",
       "      <td id=\"T_381d4_row25_col1\" class=\"data row25 col1\" >-1</td>\n",
       "    </tr>\n",
       "    <tr>\n",
       "      <th id=\"T_381d4_level0_row26\" class=\"row_heading level0 row26\" >26</th>\n",
       "      <td id=\"T_381d4_row26_col0\" class=\"data row26 col0\" >Use GPU</td>\n",
       "      <td id=\"T_381d4_row26_col1\" class=\"data row26 col1\" >False</td>\n",
       "    </tr>\n",
       "    <tr>\n",
       "      <th id=\"T_381d4_level0_row27\" class=\"row_heading level0 row27\" >27</th>\n",
       "      <td id=\"T_381d4_row27_col0\" class=\"data row27 col0\" >Log Experiment</td>\n",
       "      <td id=\"T_381d4_row27_col1\" class=\"data row27 col1\" >MlflowLogger</td>\n",
       "    </tr>\n",
       "    <tr>\n",
       "      <th id=\"T_381d4_level0_row28\" class=\"row_heading level0 row28\" >28</th>\n",
       "      <td id=\"T_381d4_row28_col0\" class=\"data row28 col0\" >Experiment Name</td>\n",
       "      <td id=\"T_381d4_row28_col1\" class=\"data row28 col1\" >clf-default-name</td>\n",
       "    </tr>\n",
       "    <tr>\n",
       "      <th id=\"T_381d4_level0_row29\" class=\"row_heading level0 row29\" >29</th>\n",
       "      <td id=\"T_381d4_row29_col0\" class=\"data row29 col0\" >USI</td>\n",
       "      <td id=\"T_381d4_row29_col1\" class=\"data row29 col1\" >053a</td>\n",
       "    </tr>\n",
       "  </tbody>\n",
       "</table>\n"
      ],
      "text/plain": [
       "<pandas.io.formats.style.Styler at 0x23ffa158b20>"
      ]
     },
     "metadata": {},
     "output_type": "display_data"
    }
   ],
   "source": [
    "cancer2 = setup(data = df2, target = 'Patient_Status', \n",
    "                  normalize = True, \n",
    "                  transformation = True, \n",
    "                  log_experiment = True, \n",
    "                  remove_multicollinearity = True, #Drop one of the two features that are highly correlated with each other\n",
    "                  numeric_imputation='median',\n",
    "                  fold = 5,\n",
    "                  #ignore_features=['Patient_ID'],\n",
    "                  #date_features=['Date_of_Surgery','Date_of_Last_Visit'],\n",
    "                  #fix_imbalance = False,\n",
    "                  train_size = 0.70\n",
    "          )"
   ]
  },
  {
   "cell_type": "code",
   "execution_count": 50,
   "id": "c3218726",
   "metadata": {},
   "outputs": [
    {
     "data": {
      "text/html": [],
      "text/plain": [
       "<IPython.core.display.HTML object>"
      ]
     },
     "metadata": {},
     "output_type": "display_data"
    },
    {
     "data": {
      "text/html": [
       "<style type=\"text/css\">\n",
       "#T_50ba3_row5_col0, #T_50ba3_row5_col1, #T_50ba3_row5_col2, #T_50ba3_row5_col3, #T_50ba3_row5_col4, #T_50ba3_row5_col5, #T_50ba3_row5_col6 {\n",
       "  background: yellow;\n",
       "}\n",
       "</style>\n",
       "<table id=\"T_50ba3\">\n",
       "  <thead>\n",
       "    <tr>\n",
       "      <th class=\"blank level0\" >&nbsp;</th>\n",
       "      <th id=\"T_50ba3_level0_col0\" class=\"col_heading level0 col0\" >Accuracy</th>\n",
       "      <th id=\"T_50ba3_level0_col1\" class=\"col_heading level0 col1\" >AUC</th>\n",
       "      <th id=\"T_50ba3_level0_col2\" class=\"col_heading level0 col2\" >Recall</th>\n",
       "      <th id=\"T_50ba3_level0_col3\" class=\"col_heading level0 col3\" >Prec.</th>\n",
       "      <th id=\"T_50ba3_level0_col4\" class=\"col_heading level0 col4\" >F1</th>\n",
       "      <th id=\"T_50ba3_level0_col5\" class=\"col_heading level0 col5\" >Kappa</th>\n",
       "      <th id=\"T_50ba3_level0_col6\" class=\"col_heading level0 col6\" >MCC</th>\n",
       "    </tr>\n",
       "    <tr>\n",
       "      <th class=\"index_name level0\" >Fold</th>\n",
       "      <th class=\"blank col0\" >&nbsp;</th>\n",
       "      <th class=\"blank col1\" >&nbsp;</th>\n",
       "      <th class=\"blank col2\" >&nbsp;</th>\n",
       "      <th class=\"blank col3\" >&nbsp;</th>\n",
       "      <th class=\"blank col4\" >&nbsp;</th>\n",
       "      <th class=\"blank col5\" >&nbsp;</th>\n",
       "      <th class=\"blank col6\" >&nbsp;</th>\n",
       "    </tr>\n",
       "  </thead>\n",
       "  <tbody>\n",
       "    <tr>\n",
       "      <th id=\"T_50ba3_level0_row0\" class=\"row_heading level0 row0\" >0</th>\n",
       "      <td id=\"T_50ba3_row0_col0\" class=\"data row0 col0\" >0.9306</td>\n",
       "      <td id=\"T_50ba3_row0_col1\" class=\"data row0 col1\" >0.9973</td>\n",
       "      <td id=\"T_50ba3_row0_col2\" class=\"data row0 col2\" >1.0000</td>\n",
       "      <td id=\"T_50ba3_row0_col3\" class=\"data row0 col3\" >0.8780</td>\n",
       "      <td id=\"T_50ba3_row0_col4\" class=\"data row0 col4\" >0.9351</td>\n",
       "      <td id=\"T_50ba3_row0_col5\" class=\"data row0 col5\" >0.8611</td>\n",
       "      <td id=\"T_50ba3_row0_col6\" class=\"data row0 col6\" >0.8695</td>\n",
       "    </tr>\n",
       "    <tr>\n",
       "      <th id=\"T_50ba3_level0_row1\" class=\"row_heading level0 row1\" >1</th>\n",
       "      <td id=\"T_50ba3_row1_col0\" class=\"data row1 col0\" >0.8889</td>\n",
       "      <td id=\"T_50ba3_row1_col1\" class=\"data row1 col1\" >0.9398</td>\n",
       "      <td id=\"T_50ba3_row1_col2\" class=\"data row1 col2\" >0.9167</td>\n",
       "      <td id=\"T_50ba3_row1_col3\" class=\"data row1 col3\" >0.8684</td>\n",
       "      <td id=\"T_50ba3_row1_col4\" class=\"data row1 col4\" >0.8919</td>\n",
       "      <td id=\"T_50ba3_row1_col5\" class=\"data row1 col5\" >0.7778</td>\n",
       "      <td id=\"T_50ba3_row1_col6\" class=\"data row1 col6\" >0.7790</td>\n",
       "    </tr>\n",
       "    <tr>\n",
       "      <th id=\"T_50ba3_level0_row2\" class=\"row_heading level0 row2\" >2</th>\n",
       "      <td id=\"T_50ba3_row2_col0\" class=\"data row2 col0\" >0.9437</td>\n",
       "      <td id=\"T_50ba3_row2_col1\" class=\"data row2 col1\" >0.9762</td>\n",
       "      <td id=\"T_50ba3_row2_col2\" class=\"data row2 col2\" >0.9444</td>\n",
       "      <td id=\"T_50ba3_row2_col3\" class=\"data row2 col3\" >0.9444</td>\n",
       "      <td id=\"T_50ba3_row2_col4\" class=\"data row2 col4\" >0.9444</td>\n",
       "      <td id=\"T_50ba3_row2_col5\" class=\"data row2 col5\" >0.8873</td>\n",
       "      <td id=\"T_50ba3_row2_col6\" class=\"data row2 col6\" >0.8873</td>\n",
       "    </tr>\n",
       "    <tr>\n",
       "      <th id=\"T_50ba3_level0_row3\" class=\"row_heading level0 row3\" >3</th>\n",
       "      <td id=\"T_50ba3_row3_col0\" class=\"data row3 col0\" >0.9014</td>\n",
       "      <td id=\"T_50ba3_row3_col1\" class=\"data row3 col1\" >0.9683</td>\n",
       "      <td id=\"T_50ba3_row3_col2\" class=\"data row3 col2\" >0.9143</td>\n",
       "      <td id=\"T_50ba3_row3_col3\" class=\"data row3 col3\" >0.8889</td>\n",
       "      <td id=\"T_50ba3_row3_col4\" class=\"data row3 col4\" >0.9014</td>\n",
       "      <td id=\"T_50ba3_row3_col5\" class=\"data row3 col5\" >0.8029</td>\n",
       "      <td id=\"T_50ba3_row3_col6\" class=\"data row3 col6\" >0.8032</td>\n",
       "    </tr>\n",
       "    <tr>\n",
       "      <th id=\"T_50ba3_level0_row4\" class=\"row_heading level0 row4\" >4</th>\n",
       "      <td id=\"T_50ba3_row4_col0\" class=\"data row4 col0\" >0.8732</td>\n",
       "      <td id=\"T_50ba3_row4_col1\" class=\"data row4 col1\" >0.9163</td>\n",
       "      <td id=\"T_50ba3_row4_col2\" class=\"data row4 col2\" >0.8571</td>\n",
       "      <td id=\"T_50ba3_row4_col3\" class=\"data row4 col3\" >0.8824</td>\n",
       "      <td id=\"T_50ba3_row4_col4\" class=\"data row4 col4\" >0.8696</td>\n",
       "      <td id=\"T_50ba3_row4_col5\" class=\"data row4 col5\" >0.7463</td>\n",
       "      <td id=\"T_50ba3_row4_col6\" class=\"data row4 col6\" >0.7466</td>\n",
       "    </tr>\n",
       "    <tr>\n",
       "      <th id=\"T_50ba3_level0_row5\" class=\"row_heading level0 row5\" >Mean</th>\n",
       "      <td id=\"T_50ba3_row5_col0\" class=\"data row5 col0\" >0.9076</td>\n",
       "      <td id=\"T_50ba3_row5_col1\" class=\"data row5 col1\" >0.9596</td>\n",
       "      <td id=\"T_50ba3_row5_col2\" class=\"data row5 col2\" >0.9265</td>\n",
       "      <td id=\"T_50ba3_row5_col3\" class=\"data row5 col3\" >0.8924</td>\n",
       "      <td id=\"T_50ba3_row5_col4\" class=\"data row5 col4\" >0.9085</td>\n",
       "      <td id=\"T_50ba3_row5_col5\" class=\"data row5 col5\" >0.8151</td>\n",
       "      <td id=\"T_50ba3_row5_col6\" class=\"data row5 col6\" >0.8171</td>\n",
       "    </tr>\n",
       "    <tr>\n",
       "      <th id=\"T_50ba3_level0_row6\" class=\"row_heading level0 row6\" >Std</th>\n",
       "      <td id=\"T_50ba3_row6_col0\" class=\"data row6 col0\" >0.0261</td>\n",
       "      <td id=\"T_50ba3_row6_col1\" class=\"data row6 col1\" >0.0284</td>\n",
       "      <td id=\"T_50ba3_row6_col2\" class=\"data row6 col2\" >0.0464</td>\n",
       "      <td id=\"T_50ba3_row6_col3\" class=\"data row6 col3\" >0.0268</td>\n",
       "      <td id=\"T_50ba3_row6_col4\" class=\"data row6 col4\" >0.0277</td>\n",
       "      <td id=\"T_50ba3_row6_col5\" class=\"data row6 col5\" >0.0522</td>\n",
       "      <td id=\"T_50ba3_row6_col6\" class=\"data row6 col6\" >0.0535</td>\n",
       "    </tr>\n",
       "  </tbody>\n",
       "</table>\n"
      ],
      "text/plain": [
       "<pandas.io.formats.style.Styler at 0x23ffed65be0>"
      ]
     },
     "metadata": {},
     "output_type": "display_data"
    },
    {
     "data": {
      "application/vnd.jupyter.widget-view+json": {
       "model_id": "",
       "version_major": 2,
       "version_minor": 0
      },
      "text/plain": [
       "Processing:   0%|          | 0/4 [00:00<?, ?it/s]"
      ]
     },
     "metadata": {},
     "output_type": "display_data"
    }
   ],
   "source": [
    "rf2 = create_model('rf')"
   ]
  },
  {
   "cell_type": "code",
   "execution_count": 51,
   "id": "ea840452",
   "metadata": {},
   "outputs": [
    {
     "data": {
      "text/html": [],
      "text/plain": [
       "<IPython.core.display.HTML object>"
      ]
     },
     "metadata": {},
     "output_type": "display_data"
    },
    {
     "data": {
      "text/html": [
       "<style type=\"text/css\">\n",
       "#T_50e87 th {\n",
       "  text-align: left;\n",
       "}\n",
       "#T_50e87_row0_col0, #T_50e87_row0_col2, #T_50e87_row0_col3, #T_50e87_row1_col0, #T_50e87_row1_col1, #T_50e87_row1_col2, #T_50e87_row1_col4, #T_50e87_row1_col5, #T_50e87_row1_col6, #T_50e87_row1_col7, #T_50e87_row2_col0, #T_50e87_row2_col1, #T_50e87_row2_col3, #T_50e87_row2_col4, #T_50e87_row2_col5, #T_50e87_row2_col6, #T_50e87_row2_col7, #T_50e87_row3_col0, #T_50e87_row3_col1, #T_50e87_row3_col2, #T_50e87_row3_col3, #T_50e87_row3_col4, #T_50e87_row3_col5, #T_50e87_row3_col6, #T_50e87_row3_col7, #T_50e87_row4_col0, #T_50e87_row4_col1, #T_50e87_row4_col2, #T_50e87_row4_col3, #T_50e87_row4_col4, #T_50e87_row4_col5, #T_50e87_row4_col6, #T_50e87_row4_col7, #T_50e87_row5_col0, #T_50e87_row5_col1, #T_50e87_row5_col2, #T_50e87_row5_col3, #T_50e87_row5_col4, #T_50e87_row5_col5, #T_50e87_row5_col6, #T_50e87_row5_col7, #T_50e87_row6_col0, #T_50e87_row6_col1, #T_50e87_row6_col2, #T_50e87_row6_col4, #T_50e87_row6_col5, #T_50e87_row6_col6, #T_50e87_row6_col7, #T_50e87_row7_col0, #T_50e87_row7_col1, #T_50e87_row7_col2, #T_50e87_row7_col3, #T_50e87_row7_col4, #T_50e87_row7_col5, #T_50e87_row7_col6, #T_50e87_row7_col7, #T_50e87_row8_col0, #T_50e87_row8_col1, #T_50e87_row8_col2, #T_50e87_row8_col3, #T_50e87_row8_col4, #T_50e87_row8_col5, #T_50e87_row8_col6, #T_50e87_row8_col7, #T_50e87_row9_col0, #T_50e87_row9_col1, #T_50e87_row9_col2, #T_50e87_row9_col3, #T_50e87_row9_col4, #T_50e87_row9_col5, #T_50e87_row9_col6, #T_50e87_row9_col7, #T_50e87_row10_col0, #T_50e87_row10_col1, #T_50e87_row10_col2, #T_50e87_row10_col3, #T_50e87_row10_col4, #T_50e87_row10_col5, #T_50e87_row10_col6, #T_50e87_row10_col7, #T_50e87_row11_col0, #T_50e87_row11_col1, #T_50e87_row11_col2, #T_50e87_row11_col3, #T_50e87_row11_col4, #T_50e87_row11_col5, #T_50e87_row11_col6, #T_50e87_row11_col7, #T_50e87_row12_col0, #T_50e87_row12_col1, #T_50e87_row12_col2, #T_50e87_row12_col3, #T_50e87_row12_col4, #T_50e87_row12_col5, #T_50e87_row12_col6, #T_50e87_row12_col7, #T_50e87_row13_col0, #T_50e87_row13_col1, #T_50e87_row13_col2, #T_50e87_row13_col3, #T_50e87_row13_col4, #T_50e87_row13_col5, #T_50e87_row13_col6, #T_50e87_row13_col7, #T_50e87_row14_col0, #T_50e87_row14_col1, #T_50e87_row14_col2, #T_50e87_row14_col3, #T_50e87_row14_col4, #T_50e87_row14_col5, #T_50e87_row14_col6, #T_50e87_row14_col7, #T_50e87_row15_col0, #T_50e87_row15_col1, #T_50e87_row15_col2, #T_50e87_row15_col3, #T_50e87_row15_col4, #T_50e87_row15_col5, #T_50e87_row15_col6, #T_50e87_row15_col7 {\n",
       "  text-align: left;\n",
       "}\n",
       "#T_50e87_row0_col1, #T_50e87_row0_col4, #T_50e87_row0_col5, #T_50e87_row0_col6, #T_50e87_row0_col7, #T_50e87_row1_col3, #T_50e87_row2_col2, #T_50e87_row6_col3 {\n",
       "  text-align: left;\n",
       "  background-color: yellow;\n",
       "}\n",
       "#T_50e87_row0_col8, #T_50e87_row1_col8, #T_50e87_row2_col8, #T_50e87_row3_col8, #T_50e87_row4_col8, #T_50e87_row5_col8, #T_50e87_row6_col8, #T_50e87_row7_col8, #T_50e87_row8_col8, #T_50e87_row9_col8, #T_50e87_row10_col8, #T_50e87_row12_col8, #T_50e87_row13_col8, #T_50e87_row14_col8, #T_50e87_row15_col8 {\n",
       "  text-align: left;\n",
       "  background-color: lightgrey;\n",
       "}\n",
       "#T_50e87_row11_col8 {\n",
       "  text-align: left;\n",
       "  background-color: yellow;\n",
       "  background-color: lightgrey;\n",
       "}\n",
       "</style>\n",
       "<table id=\"T_50e87\">\n",
       "  <thead>\n",
       "    <tr>\n",
       "      <th class=\"blank level0\" >&nbsp;</th>\n",
       "      <th id=\"T_50e87_level0_col0\" class=\"col_heading level0 col0\" >Model</th>\n",
       "      <th id=\"T_50e87_level0_col1\" class=\"col_heading level0 col1\" >Accuracy</th>\n",
       "      <th id=\"T_50e87_level0_col2\" class=\"col_heading level0 col2\" >AUC</th>\n",
       "      <th id=\"T_50e87_level0_col3\" class=\"col_heading level0 col3\" >Recall</th>\n",
       "      <th id=\"T_50e87_level0_col4\" class=\"col_heading level0 col4\" >Prec.</th>\n",
       "      <th id=\"T_50e87_level0_col5\" class=\"col_heading level0 col5\" >F1</th>\n",
       "      <th id=\"T_50e87_level0_col6\" class=\"col_heading level0 col6\" >Kappa</th>\n",
       "      <th id=\"T_50e87_level0_col7\" class=\"col_heading level0 col7\" >MCC</th>\n",
       "      <th id=\"T_50e87_level0_col8\" class=\"col_heading level0 col8\" >TT (Sec)</th>\n",
       "    </tr>\n",
       "  </thead>\n",
       "  <tbody>\n",
       "    <tr>\n",
       "      <th id=\"T_50e87_level0_row0\" class=\"row_heading level0 row0\" >et</th>\n",
       "      <td id=\"T_50e87_row0_col0\" class=\"data row0 col0\" >Extra Trees Classifier</td>\n",
       "      <td id=\"T_50e87_row0_col1\" class=\"data row0 col1\" >0.9271</td>\n",
       "      <td id=\"T_50e87_row0_col2\" class=\"data row0 col2\" >0.9472</td>\n",
       "      <td id=\"T_50e87_row0_col3\" class=\"data row0 col3\" >0.9152</td>\n",
       "      <td id=\"T_50e87_row0_col4\" class=\"data row0 col4\" >0.9380</td>\n",
       "      <td id=\"T_50e87_row0_col5\" class=\"data row0 col5\" >0.9257</td>\n",
       "      <td id=\"T_50e87_row0_col6\" class=\"data row0 col6\" >0.8540</td>\n",
       "      <td id=\"T_50e87_row0_col7\" class=\"data row0 col7\" >0.8556</td>\n",
       "      <td id=\"T_50e87_row0_col8\" class=\"data row0 col8\" >0.0660</td>\n",
       "    </tr>\n",
       "    <tr>\n",
       "      <th id=\"T_50e87_level0_row1\" class=\"row_heading level0 row1\" >catboost</th>\n",
       "      <td id=\"T_50e87_row1_col0\" class=\"data row1 col0\" >CatBoost Classifier</td>\n",
       "      <td id=\"T_50e87_row1_col1\" class=\"data row1 col1\" >0.9131</td>\n",
       "      <td id=\"T_50e87_row1_col2\" class=\"data row1 col2\" >0.9501</td>\n",
       "      <td id=\"T_50e87_row1_col3\" class=\"data row1 col3\" >0.9322</td>\n",
       "      <td id=\"T_50e87_row1_col4\" class=\"data row1 col4\" >0.8987</td>\n",
       "      <td id=\"T_50e87_row1_col5\" class=\"data row1 col5\" >0.9141</td>\n",
       "      <td id=\"T_50e87_row1_col6\" class=\"data row1 col6\" >0.8261</td>\n",
       "      <td id=\"T_50e87_row1_col7\" class=\"data row1 col7\" >0.8286</td>\n",
       "      <td id=\"T_50e87_row1_col8\" class=\"data row1 col8\" >0.8440</td>\n",
       "    </tr>\n",
       "    <tr>\n",
       "      <th id=\"T_50e87_level0_row2\" class=\"row_heading level0 row2\" >rf</th>\n",
       "      <td id=\"T_50e87_row2_col0\" class=\"data row2 col0\" >Random Forest Classifier</td>\n",
       "      <td id=\"T_50e87_row2_col1\" class=\"data row2 col1\" >0.9076</td>\n",
       "      <td id=\"T_50e87_row2_col2\" class=\"data row2 col2\" >0.9596</td>\n",
       "      <td id=\"T_50e87_row2_col3\" class=\"data row2 col3\" >0.9265</td>\n",
       "      <td id=\"T_50e87_row2_col4\" class=\"data row2 col4\" >0.8924</td>\n",
       "      <td id=\"T_50e87_row2_col5\" class=\"data row2 col5\" >0.9085</td>\n",
       "      <td id=\"T_50e87_row2_col6\" class=\"data row2 col6\" >0.8151</td>\n",
       "      <td id=\"T_50e87_row2_col7\" class=\"data row2 col7\" >0.8171</td>\n",
       "      <td id=\"T_50e87_row2_col8\" class=\"data row2 col8\" >0.0720</td>\n",
       "    </tr>\n",
       "    <tr>\n",
       "      <th id=\"T_50e87_level0_row3\" class=\"row_heading level0 row3\" >xgboost</th>\n",
       "      <td id=\"T_50e87_row3_col0\" class=\"data row3 col0\" >Extreme Gradient Boosting</td>\n",
       "      <td id=\"T_50e87_row3_col1\" class=\"data row3 col1\" >0.8599</td>\n",
       "      <td id=\"T_50e87_row3_col2\" class=\"data row3 col2\" >0.9429</td>\n",
       "      <td id=\"T_50e87_row3_col3\" class=\"data row3 col3\" >0.9097</td>\n",
       "      <td id=\"T_50e87_row3_col4\" class=\"data row3 col4\" >0.8301</td>\n",
       "      <td id=\"T_50e87_row3_col5\" class=\"data row3 col5\" >0.8663</td>\n",
       "      <td id=\"T_50e87_row3_col6\" class=\"data row3 col6\" >0.7199</td>\n",
       "      <td id=\"T_50e87_row3_col7\" class=\"data row3 col7\" >0.7271</td>\n",
       "      <td id=\"T_50e87_row3_col8\" class=\"data row3 col8\" >0.0760</td>\n",
       "    </tr>\n",
       "    <tr>\n",
       "      <th id=\"T_50e87_level0_row4\" class=\"row_heading level0 row4\" >lightgbm</th>\n",
       "      <td id=\"T_50e87_row4_col0\" class=\"data row4 col0\" >Light Gradient Boosting Machine</td>\n",
       "      <td id=\"T_50e87_row4_col1\" class=\"data row4 col1\" >0.8459</td>\n",
       "      <td id=\"T_50e87_row4_col2\" class=\"data row4 col2\" >0.9378</td>\n",
       "      <td id=\"T_50e87_row4_col3\" class=\"data row4 col3\" >0.9154</td>\n",
       "      <td id=\"T_50e87_row4_col4\" class=\"data row4 col4\" >0.8074</td>\n",
       "      <td id=\"T_50e87_row4_col5\" class=\"data row4 col5\" >0.8560</td>\n",
       "      <td id=\"T_50e87_row4_col6\" class=\"data row4 col6\" >0.6918</td>\n",
       "      <td id=\"T_50e87_row4_col7\" class=\"data row4 col7\" >0.7023</td>\n",
       "      <td id=\"T_50e87_row4_col8\" class=\"data row4 col8\" >0.0980</td>\n",
       "    </tr>\n",
       "    <tr>\n",
       "      <th id=\"T_50e87_level0_row5\" class=\"row_heading level0 row5\" >gbc</th>\n",
       "      <td id=\"T_50e87_row5_col0\" class=\"data row5 col0\" >Gradient Boosting Classifier</td>\n",
       "      <td id=\"T_50e87_row5_col1\" class=\"data row5 col1\" >0.8347</td>\n",
       "      <td id=\"T_50e87_row5_col2\" class=\"data row5 col2\" >0.9097</td>\n",
       "      <td id=\"T_50e87_row5_col3\" class=\"data row5 col3\" >0.9211</td>\n",
       "      <td id=\"T_50e87_row5_col4\" class=\"data row5 col4\" >0.7848</td>\n",
       "      <td id=\"T_50e87_row5_col5\" class=\"data row5 col5\" >0.8472</td>\n",
       "      <td id=\"T_50e87_row5_col6\" class=\"data row5 col6\" >0.6696</td>\n",
       "      <td id=\"T_50e87_row5_col7\" class=\"data row5 col7\" >0.6810</td>\n",
       "      <td id=\"T_50e87_row5_col8\" class=\"data row5 col8\" >0.0560</td>\n",
       "    </tr>\n",
       "    <tr>\n",
       "      <th id=\"T_50e87_level0_row6\" class=\"row_heading level0 row6\" >dt</th>\n",
       "      <td id=\"T_50e87_row6_col0\" class=\"data row6 col0\" >Decision Tree Classifier</td>\n",
       "      <td id=\"T_50e87_row6_col1\" class=\"data row6 col1\" >0.8291</td>\n",
       "      <td id=\"T_50e87_row6_col2\" class=\"data row6 col2\" >0.8293</td>\n",
       "      <td id=\"T_50e87_row6_col3\" class=\"data row6 col3\" >0.9322</td>\n",
       "      <td id=\"T_50e87_row6_col4\" class=\"data row6 col4\" >0.7742</td>\n",
       "      <td id=\"T_50e87_row6_col5\" class=\"data row6 col5\" >0.8448</td>\n",
       "      <td id=\"T_50e87_row6_col6\" class=\"data row6 col6\" >0.6584</td>\n",
       "      <td id=\"T_50e87_row6_col7\" class=\"data row6 col7\" >0.6762</td>\n",
       "      <td id=\"T_50e87_row6_col8\" class=\"data row6 col8\" >0.0400</td>\n",
       "    </tr>\n",
       "    <tr>\n",
       "      <th id=\"T_50e87_level0_row7\" class=\"row_heading level0 row7\" >ada</th>\n",
       "      <td id=\"T_50e87_row7_col0\" class=\"data row7 col0\" >Ada Boost Classifier</td>\n",
       "      <td id=\"T_50e87_row7_col1\" class=\"data row7 col1\" >0.7480</td>\n",
       "      <td id=\"T_50e87_row7_col2\" class=\"data row7 col2\" >0.8063</td>\n",
       "      <td id=\"T_50e87_row7_col3\" class=\"data row7 col3\" >0.7975</td>\n",
       "      <td id=\"T_50e87_row7_col4\" class=\"data row7 col4\" >0.7277</td>\n",
       "      <td id=\"T_50e87_row7_col5\" class=\"data row7 col5\" >0.7590</td>\n",
       "      <td id=\"T_50e87_row7_col6\" class=\"data row7 col6\" >0.4961</td>\n",
       "      <td id=\"T_50e87_row7_col7\" class=\"data row7 col7\" >0.5020</td>\n",
       "      <td id=\"T_50e87_row7_col8\" class=\"data row7 col8\" >0.0520</td>\n",
       "    </tr>\n",
       "    <tr>\n",
       "      <th id=\"T_50e87_level0_row8\" class=\"row_heading level0 row8\" >knn</th>\n",
       "      <td id=\"T_50e87_row8_col0\" class=\"data row8 col0\" >K Neighbors Classifier</td>\n",
       "      <td id=\"T_50e87_row8_col1\" class=\"data row8 col1\" >0.7340</td>\n",
       "      <td id=\"T_50e87_row8_col2\" class=\"data row8 col2\" >0.7857</td>\n",
       "      <td id=\"T_50e87_row8_col3\" class=\"data row8 col3\" >0.7922</td>\n",
       "      <td id=\"T_50e87_row8_col4\" class=\"data row8 col4\" >0.7089</td>\n",
       "      <td id=\"T_50e87_row8_col5\" class=\"data row8 col5\" >0.7482</td>\n",
       "      <td id=\"T_50e87_row8_col6\" class=\"data row8 col6\" >0.4682</td>\n",
       "      <td id=\"T_50e87_row8_col7\" class=\"data row8 col7\" >0.4715</td>\n",
       "      <td id=\"T_50e87_row8_col8\" class=\"data row8 col8\" >0.0460</td>\n",
       "    </tr>\n",
       "    <tr>\n",
       "      <th id=\"T_50e87_level0_row9\" class=\"row_heading level0 row9\" >qda</th>\n",
       "      <td id=\"T_50e87_row9_col0\" class=\"data row9 col0\" >Quadratic Discriminant Analysis</td>\n",
       "      <td id=\"T_50e87_row9_col1\" class=\"data row9 col1\" >0.6417</td>\n",
       "      <td id=\"T_50e87_row9_col2\" class=\"data row9 col2\" >0.6662</td>\n",
       "      <td id=\"T_50e87_row9_col3\" class=\"data row9 col3\" >0.6008</td>\n",
       "      <td id=\"T_50e87_row9_col4\" class=\"data row9 col4\" >0.6609</td>\n",
       "      <td id=\"T_50e87_row9_col5\" class=\"data row9 col5\" >0.6243</td>\n",
       "      <td id=\"T_50e87_row9_col6\" class=\"data row9 col6\" >0.2828</td>\n",
       "      <td id=\"T_50e87_row9_col7\" class=\"data row9 col7\" >0.2892</td>\n",
       "      <td id=\"T_50e87_row9_col8\" class=\"data row9 col8\" >0.0360</td>\n",
       "    </tr>\n",
       "    <tr>\n",
       "      <th id=\"T_50e87_level0_row10\" class=\"row_heading level0 row10\" >lr</th>\n",
       "      <td id=\"T_50e87_row10_col0\" class=\"data row10 col0\" >Logistic Regression</td>\n",
       "      <td id=\"T_50e87_row10_col1\" class=\"data row10 col1\" >0.6165</td>\n",
       "      <td id=\"T_50e87_row10_col2\" class=\"data row10 col2\" >0.6418</td>\n",
       "      <td id=\"T_50e87_row10_col3\" class=\"data row10 col3\" >0.6689</td>\n",
       "      <td id=\"T_50e87_row10_col4\" class=\"data row10 col4\" >0.6050</td>\n",
       "      <td id=\"T_50e87_row10_col5\" class=\"data row10 col5\" >0.6349</td>\n",
       "      <td id=\"T_50e87_row10_col6\" class=\"data row10 col6\" >0.2334</td>\n",
       "      <td id=\"T_50e87_row10_col7\" class=\"data row10 col7\" >0.2351</td>\n",
       "      <td id=\"T_50e87_row10_col8\" class=\"data row10 col8\" >0.0400</td>\n",
       "    </tr>\n",
       "    <tr>\n",
       "      <th id=\"T_50e87_level0_row11\" class=\"row_heading level0 row11\" >ridge</th>\n",
       "      <td id=\"T_50e87_row11_col0\" class=\"data row11 col0\" >Ridge Classifier</td>\n",
       "      <td id=\"T_50e87_row11_col1\" class=\"data row11 col1\" >0.6137</td>\n",
       "      <td id=\"T_50e87_row11_col2\" class=\"data row11 col2\" >0.0000</td>\n",
       "      <td id=\"T_50e87_row11_col3\" class=\"data row11 col3\" >0.6689</td>\n",
       "      <td id=\"T_50e87_row11_col4\" class=\"data row11 col4\" >0.6023</td>\n",
       "      <td id=\"T_50e87_row11_col5\" class=\"data row11 col5\" >0.6332</td>\n",
       "      <td id=\"T_50e87_row11_col6\" class=\"data row11 col6\" >0.2278</td>\n",
       "      <td id=\"T_50e87_row11_col7\" class=\"data row11 col7\" >0.2296</td>\n",
       "      <td id=\"T_50e87_row11_col8\" class=\"data row11 col8\" >0.0340</td>\n",
       "    </tr>\n",
       "    <tr>\n",
       "      <th id=\"T_50e87_level0_row12\" class=\"row_heading level0 row12\" >lda</th>\n",
       "      <td id=\"T_50e87_row12_col0\" class=\"data row12 col0\" >Linear Discriminant Analysis</td>\n",
       "      <td id=\"T_50e87_row12_col1\" class=\"data row12 col1\" >0.6137</td>\n",
       "      <td id=\"T_50e87_row12_col2\" class=\"data row12 col2\" >0.6427</td>\n",
       "      <td id=\"T_50e87_row12_col3\" class=\"data row12 col3\" >0.6689</td>\n",
       "      <td id=\"T_50e87_row12_col4\" class=\"data row12 col4\" >0.6023</td>\n",
       "      <td id=\"T_50e87_row12_col5\" class=\"data row12 col5\" >0.6332</td>\n",
       "      <td id=\"T_50e87_row12_col6\" class=\"data row12 col6\" >0.2278</td>\n",
       "      <td id=\"T_50e87_row12_col7\" class=\"data row12 col7\" >0.2296</td>\n",
       "      <td id=\"T_50e87_row12_col8\" class=\"data row12 col8\" >0.0380</td>\n",
       "    </tr>\n",
       "    <tr>\n",
       "      <th id=\"T_50e87_level0_row13\" class=\"row_heading level0 row13\" >nb</th>\n",
       "      <td id=\"T_50e87_row13_col0\" class=\"data row13 col0\" >Naive Bayes</td>\n",
       "      <td id=\"T_50e87_row13_col1\" class=\"data row13 col1\" >0.6024</td>\n",
       "      <td id=\"T_50e87_row13_col2\" class=\"data row13 col2\" >0.6315</td>\n",
       "      <td id=\"T_50e87_row13_col3\" class=\"data row13 col3\" >0.5559</td>\n",
       "      <td id=\"T_50e87_row13_col4\" class=\"data row13 col4\" >0.6139</td>\n",
       "      <td id=\"T_50e87_row13_col5\" class=\"data row13 col5\" >0.5818</td>\n",
       "      <td id=\"T_50e87_row13_col6\" class=\"data row13 col6\" >0.2045</td>\n",
       "      <td id=\"T_50e87_row13_col7\" class=\"data row13 col7\" >0.2066</td>\n",
       "      <td id=\"T_50e87_row13_col8\" class=\"data row13 col8\" >0.0380</td>\n",
       "    </tr>\n",
       "    <tr>\n",
       "      <th id=\"T_50e87_level0_row14\" class=\"row_heading level0 row14\" >svm</th>\n",
       "      <td id=\"T_50e87_row14_col0\" class=\"data row14 col0\" >SVM - Linear Kernel</td>\n",
       "      <td id=\"T_50e87_row14_col1\" class=\"data row14 col1\" >0.5124</td>\n",
       "      <td id=\"T_50e87_row14_col2\" class=\"data row14 col2\" >0.0000</td>\n",
       "      <td id=\"T_50e87_row14_col3\" class=\"data row14 col3\" >0.5556</td>\n",
       "      <td id=\"T_50e87_row14_col4\" class=\"data row14 col4\" >0.5122</td>\n",
       "      <td id=\"T_50e87_row14_col5\" class=\"data row14 col5\" >0.5307</td>\n",
       "      <td id=\"T_50e87_row14_col6\" class=\"data row14 col6\" >0.0246</td>\n",
       "      <td id=\"T_50e87_row14_col7\" class=\"data row14 col7\" >0.0244</td>\n",
       "      <td id=\"T_50e87_row14_col8\" class=\"data row14 col8\" >0.0360</td>\n",
       "    </tr>\n",
       "    <tr>\n",
       "      <th id=\"T_50e87_level0_row15\" class=\"row_heading level0 row15\" >dummy</th>\n",
       "      <td id=\"T_50e87_row15_col0\" class=\"data row15 col0\" >Dummy Classifier</td>\n",
       "      <td id=\"T_50e87_row15_col1\" class=\"data row15 col1\" >0.5014</td>\n",
       "      <td id=\"T_50e87_row15_col2\" class=\"data row15 col2\" >0.5000</td>\n",
       "      <td id=\"T_50e87_row15_col3\" class=\"data row15 col3\" >0.0000</td>\n",
       "      <td id=\"T_50e87_row15_col4\" class=\"data row15 col4\" >0.0000</td>\n",
       "      <td id=\"T_50e87_row15_col5\" class=\"data row15 col5\" >0.0000</td>\n",
       "      <td id=\"T_50e87_row15_col6\" class=\"data row15 col6\" >0.0000</td>\n",
       "      <td id=\"T_50e87_row15_col7\" class=\"data row15 col7\" >0.0000</td>\n",
       "      <td id=\"T_50e87_row15_col8\" class=\"data row15 col8\" >0.0360</td>\n",
       "    </tr>\n",
       "  </tbody>\n",
       "</table>\n"
      ],
      "text/plain": [
       "<pandas.io.formats.style.Styler at 0x23ffed9d910>"
      ]
     },
     "metadata": {},
     "output_type": "display_data"
    },
    {
     "data": {
      "application/vnd.jupyter.widget-view+json": {
       "model_id": "",
       "version_major": 2,
       "version_minor": 0
      },
      "text/plain": [
       "Processing:   0%|          | 0/69 [00:00<?, ?it/s]"
      ]
     },
     "metadata": {},
     "output_type": "display_data"
    },
    {
     "data": {
      "text/plain": [
       "ExtraTreesClassifier(bootstrap=False, ccp_alpha=0.0, class_weight=None,\n",
       "                     criterion='gini', max_depth=None, max_features='auto',\n",
       "                     max_leaf_nodes=None, max_samples=None,\n",
       "                     min_impurity_decrease=0.0, min_samples_leaf=1,\n",
       "                     min_samples_split=2, min_weight_fraction_leaf=0.0,\n",
       "                     n_estimators=100, n_jobs=-1, oob_score=False,\n",
       "                     random_state=2537, verbose=0, warm_start=False)"
      ]
     },
     "execution_count": 51,
     "metadata": {},
     "output_type": "execute_result"
    }
   ],
   "source": [
    "compare_models()"
   ]
  },
  {
   "cell_type": "code",
   "execution_count": 52,
   "id": "1e5e07d1",
   "metadata": {},
   "outputs": [
    {
     "data": {
      "text/html": [],
      "text/plain": [
       "<IPython.core.display.HTML object>"
      ]
     },
     "metadata": {},
     "output_type": "display_data"
    },
    {
     "data": {
      "text/html": [
       "<style type=\"text/css\">\n",
       "#T_d805c_row5_col0, #T_d805c_row5_col1, #T_d805c_row5_col2, #T_d805c_row5_col3, #T_d805c_row5_col4, #T_d805c_row5_col5, #T_d805c_row5_col6 {\n",
       "  background: yellow;\n",
       "}\n",
       "</style>\n",
       "<table id=\"T_d805c\">\n",
       "  <thead>\n",
       "    <tr>\n",
       "      <th class=\"blank level0\" >&nbsp;</th>\n",
       "      <th id=\"T_d805c_level0_col0\" class=\"col_heading level0 col0\" >Accuracy</th>\n",
       "      <th id=\"T_d805c_level0_col1\" class=\"col_heading level0 col1\" >AUC</th>\n",
       "      <th id=\"T_d805c_level0_col2\" class=\"col_heading level0 col2\" >Recall</th>\n",
       "      <th id=\"T_d805c_level0_col3\" class=\"col_heading level0 col3\" >Prec.</th>\n",
       "      <th id=\"T_d805c_level0_col4\" class=\"col_heading level0 col4\" >F1</th>\n",
       "      <th id=\"T_d805c_level0_col5\" class=\"col_heading level0 col5\" >Kappa</th>\n",
       "      <th id=\"T_d805c_level0_col6\" class=\"col_heading level0 col6\" >MCC</th>\n",
       "    </tr>\n",
       "    <tr>\n",
       "      <th class=\"index_name level0\" >Fold</th>\n",
       "      <th class=\"blank col0\" >&nbsp;</th>\n",
       "      <th class=\"blank col1\" >&nbsp;</th>\n",
       "      <th class=\"blank col2\" >&nbsp;</th>\n",
       "      <th class=\"blank col3\" >&nbsp;</th>\n",
       "      <th class=\"blank col4\" >&nbsp;</th>\n",
       "      <th class=\"blank col5\" >&nbsp;</th>\n",
       "      <th class=\"blank col6\" >&nbsp;</th>\n",
       "    </tr>\n",
       "  </thead>\n",
       "  <tbody>\n",
       "    <tr>\n",
       "      <th id=\"T_d805c_level0_row0\" class=\"row_heading level0 row0\" >0</th>\n",
       "      <td id=\"T_d805c_row0_col0\" class=\"data row0 col0\" >0.9583</td>\n",
       "      <td id=\"T_d805c_row0_col1\" class=\"data row0 col1\" >0.9965</td>\n",
       "      <td id=\"T_d805c_row0_col2\" class=\"data row0 col2\" >0.9722</td>\n",
       "      <td id=\"T_d805c_row0_col3\" class=\"data row0 col3\" >0.9459</td>\n",
       "      <td id=\"T_d805c_row0_col4\" class=\"data row0 col4\" >0.9589</td>\n",
       "      <td id=\"T_d805c_row0_col5\" class=\"data row0 col5\" >0.9167</td>\n",
       "      <td id=\"T_d805c_row0_col6\" class=\"data row0 col6\" >0.9170</td>\n",
       "    </tr>\n",
       "    <tr>\n",
       "      <th id=\"T_d805c_level0_row1\" class=\"row_heading level0 row1\" >1</th>\n",
       "      <td id=\"T_d805c_row1_col0\" class=\"data row1 col0\" >0.9306</td>\n",
       "      <td id=\"T_d805c_row1_col1\" class=\"data row1 col1\" >0.9444</td>\n",
       "      <td id=\"T_d805c_row1_col2\" class=\"data row1 col2\" >0.9167</td>\n",
       "      <td id=\"T_d805c_row1_col3\" class=\"data row1 col3\" >0.9429</td>\n",
       "      <td id=\"T_d805c_row1_col4\" class=\"data row1 col4\" >0.9296</td>\n",
       "      <td id=\"T_d805c_row1_col5\" class=\"data row1 col5\" >0.8611</td>\n",
       "      <td id=\"T_d805c_row1_col6\" class=\"data row1 col6\" >0.8614</td>\n",
       "    </tr>\n",
       "    <tr>\n",
       "      <th id=\"T_d805c_level0_row2\" class=\"row_heading level0 row2\" >2</th>\n",
       "      <td id=\"T_d805c_row2_col0\" class=\"data row2 col0\" >0.9155</td>\n",
       "      <td id=\"T_d805c_row2_col1\" class=\"data row2 col1\" >0.9460</td>\n",
       "      <td id=\"T_d805c_row2_col2\" class=\"data row2 col2\" >0.9444</td>\n",
       "      <td id=\"T_d805c_row2_col3\" class=\"data row2 col3\" >0.8947</td>\n",
       "      <td id=\"T_d805c_row2_col4\" class=\"data row2 col4\" >0.9189</td>\n",
       "      <td id=\"T_d805c_row2_col5\" class=\"data row2 col5\" >0.8308</td>\n",
       "      <td id=\"T_d805c_row2_col6\" class=\"data row2 col6\" >0.8321</td>\n",
       "    </tr>\n",
       "    <tr>\n",
       "      <th id=\"T_d805c_level0_row3\" class=\"row_heading level0 row3\" >3</th>\n",
       "      <td id=\"T_d805c_row3_col0\" class=\"data row3 col0\" >0.9296</td>\n",
       "      <td id=\"T_d805c_row3_col1\" class=\"data row3 col1\" >0.9409</td>\n",
       "      <td id=\"T_d805c_row3_col2\" class=\"data row3 col2\" >0.8857</td>\n",
       "      <td id=\"T_d805c_row3_col3\" class=\"data row3 col3\" >0.9688</td>\n",
       "      <td id=\"T_d805c_row3_col4\" class=\"data row3 col4\" >0.9254</td>\n",
       "      <td id=\"T_d805c_row3_col5\" class=\"data row3 col5\" >0.8590</td>\n",
       "      <td id=\"T_d805c_row3_col6\" class=\"data row3 col6\" >0.8621</td>\n",
       "    </tr>\n",
       "    <tr>\n",
       "      <th id=\"T_d805c_level0_row4\" class=\"row_heading level0 row4\" >4</th>\n",
       "      <td id=\"T_d805c_row4_col0\" class=\"data row4 col0\" >0.9014</td>\n",
       "      <td id=\"T_d805c_row4_col1\" class=\"data row4 col1\" >0.9083</td>\n",
       "      <td id=\"T_d805c_row4_col2\" class=\"data row4 col2\" >0.8571</td>\n",
       "      <td id=\"T_d805c_row4_col3\" class=\"data row4 col3\" >0.9375</td>\n",
       "      <td id=\"T_d805c_row4_col4\" class=\"data row4 col4\" >0.8955</td>\n",
       "      <td id=\"T_d805c_row4_col5\" class=\"data row4 col5\" >0.8025</td>\n",
       "      <td id=\"T_d805c_row4_col6\" class=\"data row4 col6\" >0.8054</td>\n",
       "    </tr>\n",
       "    <tr>\n",
       "      <th id=\"T_d805c_level0_row5\" class=\"row_heading level0 row5\" >Mean</th>\n",
       "      <td id=\"T_d805c_row5_col0\" class=\"data row5 col0\" >0.9271</td>\n",
       "      <td id=\"T_d805c_row5_col1\" class=\"data row5 col1\" >0.9472</td>\n",
       "      <td id=\"T_d805c_row5_col2\" class=\"data row5 col2\" >0.9152</td>\n",
       "      <td id=\"T_d805c_row5_col3\" class=\"data row5 col3\" >0.9380</td>\n",
       "      <td id=\"T_d805c_row5_col4\" class=\"data row5 col4\" >0.9257</td>\n",
       "      <td id=\"T_d805c_row5_col5\" class=\"data row5 col5\" >0.8540</td>\n",
       "      <td id=\"T_d805c_row5_col6\" class=\"data row5 col6\" >0.8556</td>\n",
       "    </tr>\n",
       "    <tr>\n",
       "      <th id=\"T_d805c_level0_row6\" class=\"row_heading level0 row6\" >Std</th>\n",
       "      <td id=\"T_d805c_row6_col0\" class=\"data row6 col0\" >0.0189</td>\n",
       "      <td id=\"T_d805c_row6_col1\" class=\"data row6 col1\" >0.0283</td>\n",
       "      <td id=\"T_d805c_row6_col2\" class=\"data row6 col2\" >0.0409</td>\n",
       "      <td id=\"T_d805c_row6_col3\" class=\"data row6 col3\" >0.0241</td>\n",
       "      <td id=\"T_d805c_row6_col4\" class=\"data row6 col4\" >0.0204</td>\n",
       "      <td id=\"T_d805c_row6_col5\" class=\"data row6 col5\" >0.0379</td>\n",
       "      <td id=\"T_d805c_row6_col6\" class=\"data row6 col6\" >0.0372</td>\n",
       "    </tr>\n",
       "  </tbody>\n",
       "</table>\n"
      ],
      "text/plain": [
       "<pandas.io.formats.style.Styler at 0x23ff2e568e0>"
      ]
     },
     "metadata": {},
     "output_type": "display_data"
    },
    {
     "data": {
      "application/vnd.jupyter.widget-view+json": {
       "model_id": "",
       "version_major": 2,
       "version_minor": 0
      },
      "text/plain": [
       "Processing:   0%|          | 0/4 [00:00<?, ?it/s]"
      ]
     },
     "metadata": {},
     "output_type": "display_data"
    }
   ],
   "source": [
    "et = create_model('et')"
   ]
  },
  {
   "cell_type": "code",
   "execution_count": 53,
   "id": "c60ff935",
   "metadata": {},
   "outputs": [
    {
     "data": {
      "application/vnd.jupyter.widget-view+json": {
       "model_id": "24f7c0f03ab34556a977577a10b0e015",
       "version_major": 2,
       "version_minor": 0
      },
      "text/plain": [
       "interactive(children=(ToggleButtons(description='Plot Type:', icons=('',), options=(('Pipeline Plot', 'pipelin…"
      ]
     },
     "metadata": {},
     "output_type": "display_data"
    }
   ],
   "source": [
    "evaluate_model(et)"
   ]
  },
  {
   "cell_type": "code",
   "execution_count": 54,
   "id": "48a1cc6c",
   "metadata": {},
   "outputs": [
    {
     "data": {
      "text/html": [],
      "text/plain": [
       "<IPython.core.display.HTML object>"
      ]
     },
     "metadata": {},
     "output_type": "display_data"
    },
    {
     "data": {
      "image/png": "[encoded data removed]",
      "text/plain": [
       "<Figure size 800x550 with 1 Axes>"
      ]
     },
     "metadata": {},
     "output_type": "display_data"
    }
   ],
   "source": [
    "plot_model(et, plot = 'auc')"
   ]
  },
  {
   "cell_type": "code",
   "execution_count": 55,
   "id": "a35dd81f",
   "metadata": {},
   "outputs": [
    {
     "data": {
      "text/html": [],
      "text/plain": [
       "<IPython.core.display.HTML object>"
      ]
     },
     "metadata": {},
     "output_type": "display_data"
    },
    {
     "data": {
      "image/png": "[encoded data removed]",
      "text/plain": [
       "<Figure size 800x550 with 1 Axes>"
      ]
     },
     "metadata": {},
     "output_type": "display_data"
    }
   ],
   "source": [
    "plot_model(et, plot = 'pr')"
   ]
  },
  {
   "cell_type": "code",
   "execution_count": 56,
   "id": "e0719bed",
   "metadata": {},
   "outputs": [
    {
     "data": {
      "text/html": [],
      "text/plain": [
       "<IPython.core.display.HTML object>"
      ]
     },
     "metadata": {},
     "output_type": "display_data"
    },
    {
     "data": {
      "image/png": "[encoded data removed]",
      "text/plain": [
       "<Figure size 800x500 with 1 Axes>"
      ]
     },
     "metadata": {},
     "output_type": "display_data"
    }
   ],
   "source": [
    "plot_model(et, plot='feature')"
   ]
  },
  {
   "cell_type": "code",
   "execution_count": 57,
   "id": "a09ce793",
   "metadata": {},
   "outputs": [
    {
     "data": {
      "text/html": [],
      "text/plain": [
       "<IPython.core.display.HTML object>"
      ]
     },
     "metadata": {},
     "output_type": "display_data"
    },
    {
     "data": {
      "image/png": "[encoded data removed]",
      "text/plain": [
       "<Figure size 800x550 with 1 Axes>"
      ]
     },
     "metadata": {},
     "output_type": "display_data"
    }
   ],
   "source": [
    "plot_model(et, plot = 'confusion_matrix')"
   ]
  },
  {
   "cell_type": "code",
   "execution_count": 58,
   "id": "009a7cec",
   "metadata": {},
   "outputs": [
    {
     "data": {
      "text/html": [
       "<div>\n",
       "<style scoped>\n",
       "    .dataframe tbody tr th:only-of-type {\n",
       "        vertical-align: middle;\n",
       "    }\n",
       "\n",
       "    .dataframe tbody tr th {\n",
       "        vertical-align: top;\n",
       "    }\n",
       "\n",
       "    .dataframe thead th {\n",
       "        text-align: right;\n",
       "    }\n",
       "</style>\n",
       "<table border=\"1\" class=\"dataframe\">\n",
       "  <thead>\n",
       "    <tr style=\"text-align: right;\">\n",
       "      <th></th>\n",
       "      <th>Age</th>\n",
       "      <th>Gender</th>\n",
       "      <th>Protein1</th>\n",
       "      <th>Protein2</th>\n",
       "      <th>Protein3</th>\n",
       "      <th>Protein4</th>\n",
       "      <th>Tumour_Stage</th>\n",
       "      <th>Histology</th>\n",
       "      <th>HER2 status</th>\n",
       "      <th>Surgery_type</th>\n",
       "      <th>Patient_Status</th>\n",
       "    </tr>\n",
       "  </thead>\n",
       "  <tbody>\n",
       "    <tr>\n",
       "      <th>0</th>\n",
       "      <td>36.0</td>\n",
       "      <td>FEMALE</td>\n",
       "      <td>0.080353</td>\n",
       "      <td>0.42638</td>\n",
       "      <td>0.54715</td>\n",
       "      <td>0.273680</td>\n",
       "      <td>III</td>\n",
       "      <td>Infiltrating Ductal Carcinoma</td>\n",
       "      <td>Negative</td>\n",
       "      <td>Modified Radical Mastectomy</td>\n",
       "      <td>Alive</td>\n",
       "    </tr>\n",
       "    <tr>\n",
       "      <th>1</th>\n",
       "      <td>43.0</td>\n",
       "      <td>FEMALE</td>\n",
       "      <td>-0.420320</td>\n",
       "      <td>0.57807</td>\n",
       "      <td>0.61447</td>\n",
       "      <td>-0.031505</td>\n",
       "      <td>II</td>\n",
       "      <td>Mucinous Carcinoma</td>\n",
       "      <td>Negative</td>\n",
       "      <td>Lumpectomy</td>\n",
       "      <td>Dead</td>\n",
       "    </tr>\n",
       "    <tr>\n",
       "      <th>2</th>\n",
       "      <td>69.0</td>\n",
       "      <td>FEMALE</td>\n",
       "      <td>0.213980</td>\n",
       "      <td>1.31140</td>\n",
       "      <td>-0.32747</td>\n",
       "      <td>-0.234260</td>\n",
       "      <td>III</td>\n",
       "      <td>Infiltrating Ductal Carcinoma</td>\n",
       "      <td>Negative</td>\n",
       "      <td>Other</td>\n",
       "      <td>Alive</td>\n",
       "    </tr>\n",
       "    <tr>\n",
       "      <th>3</th>\n",
       "      <td>56.0</td>\n",
       "      <td>FEMALE</td>\n",
       "      <td>0.345090</td>\n",
       "      <td>-0.21147</td>\n",
       "      <td>-0.19304</td>\n",
       "      <td>0.124270</td>\n",
       "      <td>II</td>\n",
       "      <td>Infiltrating Ductal Carcinoma</td>\n",
       "      <td>Negative</td>\n",
       "      <td>Modified Radical Mastectomy</td>\n",
       "      <td>Alive</td>\n",
       "    </tr>\n",
       "    <tr>\n",
       "      <th>4</th>\n",
       "      <td>56.0</td>\n",
       "      <td>FEMALE</td>\n",
       "      <td>0.221550</td>\n",
       "      <td>1.90680</td>\n",
       "      <td>0.52045</td>\n",
       "      <td>-0.311990</td>\n",
       "      <td>II</td>\n",
       "      <td>Infiltrating Ductal Carcinoma</td>\n",
       "      <td>Negative</td>\n",
       "      <td>Other</td>\n",
       "      <td>Dead</td>\n",
       "    </tr>\n",
       "  </tbody>\n",
       "</table>\n",
       "</div>"
      ],
      "text/plain": [
       "    Age  Gender  Protein1  Protein2  Protein3  Protein4 Tumour_Stage  \\\n",
       "0  36.0  FEMALE  0.080353   0.42638   0.54715  0.273680          III   \n",
       "1  43.0  FEMALE -0.420320   0.57807   0.61447 -0.031505           II   \n",
       "2  69.0  FEMALE  0.213980   1.31140  -0.32747 -0.234260          III   \n",
       "3  56.0  FEMALE  0.345090  -0.21147  -0.19304  0.124270           II   \n",
       "4  56.0  FEMALE  0.221550   1.90680   0.52045 -0.311990           II   \n",
       "\n",
       "                       Histology HER2 status                 Surgery_type  \\\n",
       "0  Infiltrating Ductal Carcinoma    Negative  Modified Radical Mastectomy   \n",
       "1             Mucinous Carcinoma    Negative                   Lumpectomy   \n",
       "2  Infiltrating Ductal Carcinoma    Negative                        Other   \n",
       "3  Infiltrating Ductal Carcinoma    Negative  Modified Radical Mastectomy   \n",
       "4  Infiltrating Ductal Carcinoma    Negative                        Other   \n",
       "\n",
       "  Patient_Status  \n",
       "0          Alive  \n",
       "1           Dead  \n",
       "2          Alive  \n",
       "3          Alive  \n",
       "4           Dead  "
      ]
     },
     "execution_count": 58,
     "metadata": {},
     "output_type": "execute_result"
    }
   ],
   "source": [
    "df.head()"
   ]
  },
  {
   "cell_type": "code",
   "execution_count": 59,
   "id": "21569077",
   "metadata": {},
   "outputs": [
    {
     "data": {
      "text/plain": [
       "(317, 11)"
      ]
     },
     "execution_count": 59,
     "metadata": {},
     "output_type": "execute_result"
    }
   ],
   "source": [
    "df.shape"
   ]
  },
  {
   "cell_type": "code",
   "execution_count": 60,
   "id": "806e7a3e",
   "metadata": {},
   "outputs": [
    {
     "data": {
      "text/html": [
       "<style type=\"text/css\">\n",
       "</style>\n",
       "<table id=\"T_13ef3\">\n",
       "  <thead>\n",
       "    <tr>\n",
       "      <th class=\"blank level0\" >&nbsp;</th>\n",
       "      <th id=\"T_13ef3_level0_col0\" class=\"col_heading level0 col0\" >Model</th>\n",
       "      <th id=\"T_13ef3_level0_col1\" class=\"col_heading level0 col1\" >Accuracy</th>\n",
       "      <th id=\"T_13ef3_level0_col2\" class=\"col_heading level0 col2\" >AUC</th>\n",
       "      <th id=\"T_13ef3_level0_col3\" class=\"col_heading level0 col3\" >Recall</th>\n",
       "      <th id=\"T_13ef3_level0_col4\" class=\"col_heading level0 col4\" >Prec.</th>\n",
       "      <th id=\"T_13ef3_level0_col5\" class=\"col_heading level0 col5\" >F1</th>\n",
       "      <th id=\"T_13ef3_level0_col6\" class=\"col_heading level0 col6\" >Kappa</th>\n",
       "      <th id=\"T_13ef3_level0_col7\" class=\"col_heading level0 col7\" >MCC</th>\n",
       "    </tr>\n",
       "  </thead>\n",
       "  <tbody>\n",
       "    <tr>\n",
       "      <th id=\"T_13ef3_level0_row0\" class=\"row_heading level0 row0\" >0</th>\n",
       "      <td id=\"T_13ef3_row0_col0\" class=\"data row0 col0\" >Extra Trees Classifier</td>\n",
       "      <td id=\"T_13ef3_row0_col1\" class=\"data row0 col1\" >0.9716</td>\n",
       "      <td id=\"T_13ef3_row0_col2\" class=\"data row0 col2\" >0.9920</td>\n",
       "      <td id=\"T_13ef3_row0_col3\" class=\"data row0 col3\" >0.9716</td>\n",
       "      <td id=\"T_13ef3_row0_col4\" class=\"data row0 col4\" >0.9731</td>\n",
       "      <td id=\"T_13ef3_row0_col5\" class=\"data row0 col5\" >0.9720</td>\n",
       "      <td id=\"T_13ef3_row0_col6\" class=\"data row0 col6\" >0.9124</td>\n",
       "      <td id=\"T_13ef3_row0_col7\" class=\"data row0 col7\" >0.9135</td>\n",
       "    </tr>\n",
       "  </tbody>\n",
       "</table>\n"
      ],
      "text/plain": [
       "<pandas.io.formats.style.Styler at 0x23ff3095ca0>"
      ]
     },
     "metadata": {},
     "output_type": "display_data"
    },
    {
     "data": {
      "text/html": [
       "<div>\n",
       "<style scoped>\n",
       "    .dataframe tbody tr th:only-of-type {\n",
       "        vertical-align: middle;\n",
       "    }\n",
       "\n",
       "    .dataframe tbody tr th {\n",
       "        vertical-align: top;\n",
       "    }\n",
       "\n",
       "    .dataframe thead th {\n",
       "        text-align: right;\n",
       "    }\n",
       "</style>\n",
       "<table border=\"1\" class=\"dataframe\">\n",
       "  <thead>\n",
       "    <tr style=\"text-align: right;\">\n",
       "      <th></th>\n",
       "      <th>Age</th>\n",
       "      <th>Gender</th>\n",
       "      <th>Protein1</th>\n",
       "      <th>Protein2</th>\n",
       "      <th>Protein3</th>\n",
       "      <th>Protein4</th>\n",
       "      <th>Tumour_Stage</th>\n",
       "      <th>Histology</th>\n",
       "      <th>HER2 status</th>\n",
       "      <th>Surgery_type</th>\n",
       "      <th>Patient_Status</th>\n",
       "      <th>prediction_label</th>\n",
       "      <th>prediction_score</th>\n",
       "    </tr>\n",
       "  </thead>\n",
       "  <tbody>\n",
       "    <tr>\n",
       "      <th>0</th>\n",
       "      <td>36.0</td>\n",
       "      <td>FEMALE</td>\n",
       "      <td>0.080353</td>\n",
       "      <td>0.42638</td>\n",
       "      <td>0.54715</td>\n",
       "      <td>0.273680</td>\n",
       "      <td>III</td>\n",
       "      <td>Infiltrating Ductal Carcinoma</td>\n",
       "      <td>Negative</td>\n",
       "      <td>Modified Radical Mastectomy</td>\n",
       "      <td>0</td>\n",
       "      <td>Alive</td>\n",
       "      <td>1.00</td>\n",
       "    </tr>\n",
       "    <tr>\n",
       "      <th>1</th>\n",
       "      <td>43.0</td>\n",
       "      <td>FEMALE</td>\n",
       "      <td>-0.420320</td>\n",
       "      <td>0.57807</td>\n",
       "      <td>0.61447</td>\n",
       "      <td>-0.031505</td>\n",
       "      <td>II</td>\n",
       "      <td>Mucinous Carcinoma</td>\n",
       "      <td>Negative</td>\n",
       "      <td>Lumpectomy</td>\n",
       "      <td>1</td>\n",
       "      <td>Dead</td>\n",
       "      <td>1.00</td>\n",
       "    </tr>\n",
       "    <tr>\n",
       "      <th>2</th>\n",
       "      <td>69.0</td>\n",
       "      <td>FEMALE</td>\n",
       "      <td>0.213980</td>\n",
       "      <td>1.31140</td>\n",
       "      <td>-0.32747</td>\n",
       "      <td>-0.234260</td>\n",
       "      <td>III</td>\n",
       "      <td>Infiltrating Ductal Carcinoma</td>\n",
       "      <td>Negative</td>\n",
       "      <td>Other</td>\n",
       "      <td>0</td>\n",
       "      <td>Alive</td>\n",
       "      <td>0.79</td>\n",
       "    </tr>\n",
       "    <tr>\n",
       "      <th>3</th>\n",
       "      <td>56.0</td>\n",
       "      <td>FEMALE</td>\n",
       "      <td>0.345090</td>\n",
       "      <td>-0.21147</td>\n",
       "      <td>-0.19304</td>\n",
       "      <td>0.124270</td>\n",
       "      <td>II</td>\n",
       "      <td>Infiltrating Ductal Carcinoma</td>\n",
       "      <td>Negative</td>\n",
       "      <td>Modified Radical Mastectomy</td>\n",
       "      <td>0</td>\n",
       "      <td>Alive</td>\n",
       "      <td>1.00</td>\n",
       "    </tr>\n",
       "    <tr>\n",
       "      <th>4</th>\n",
       "      <td>56.0</td>\n",
       "      <td>FEMALE</td>\n",
       "      <td>0.221550</td>\n",
       "      <td>1.90680</td>\n",
       "      <td>0.52045</td>\n",
       "      <td>-0.311990</td>\n",
       "      <td>II</td>\n",
       "      <td>Infiltrating Ductal Carcinoma</td>\n",
       "      <td>Negative</td>\n",
       "      <td>Other</td>\n",
       "      <td>1</td>\n",
       "      <td>Dead</td>\n",
       "      <td>1.00</td>\n",
       "    </tr>\n",
       "  </tbody>\n",
       "</table>\n",
       "</div>"
      ],
      "text/plain": [
       "    Age  Gender  Protein1  Protein2  Protein3  Protein4 Tumour_Stage  \\\n",
       "0  36.0  FEMALE  0.080353   0.42638   0.54715  0.273680          III   \n",
       "1  43.0  FEMALE -0.420320   0.57807   0.61447 -0.031505           II   \n",
       "2  69.0  FEMALE  0.213980   1.31140  -0.32747 -0.234260          III   \n",
       "3  56.0  FEMALE  0.345090  -0.21147  -0.19304  0.124270           II   \n",
       "4  56.0  FEMALE  0.221550   1.90680   0.52045 -0.311990           II   \n",
       "\n",
       "                       Histology HER2 status                 Surgery_type  \\\n",
       "0  Infiltrating Ductal Carcinoma    Negative  Modified Radical Mastectomy   \n",
       "1             Mucinous Carcinoma    Negative                   Lumpectomy   \n",
       "2  Infiltrating Ductal Carcinoma    Negative                        Other   \n",
       "3  Infiltrating Ductal Carcinoma    Negative  Modified Radical Mastectomy   \n",
       "4  Infiltrating Ductal Carcinoma    Negative                        Other   \n",
       "\n",
       "   Patient_Status prediction_label  prediction_score  \n",
       "0               0            Alive              1.00  \n",
       "1               1             Dead              1.00  \n",
       "2               0            Alive              0.79  \n",
       "3               0            Alive              1.00  \n",
       "4               1             Dead              1.00  "
      ]
     },
     "execution_count": 60,
     "metadata": {},
     "output_type": "execute_result"
    }
   ],
   "source": [
    "unseen_predictions = predict_model(et, data = df)\n",
    "unseen_predictions.head()"
   ]
  },
  {
   "cell_type": "code",
   "execution_count": 61,
   "id": "aa162fc7",
   "metadata": {},
   "outputs": [
    {
     "data": {
      "text/html": [
       "<div>\n",
       "<style scoped>\n",
       "    .dataframe tbody tr th:only-of-type {\n",
       "        vertical-align: middle;\n",
       "    }\n",
       "\n",
       "    .dataframe tbody tr th {\n",
       "        vertical-align: top;\n",
       "    }\n",
       "\n",
       "    .dataframe thead th {\n",
       "        text-align: right;\n",
       "    }\n",
       "</style>\n",
       "<table border=\"1\" class=\"dataframe\">\n",
       "  <thead>\n",
       "    <tr style=\"text-align: right;\">\n",
       "      <th></th>\n",
       "      <th>Age</th>\n",
       "      <th>Gender</th>\n",
       "      <th>Protein1</th>\n",
       "      <th>Protein2</th>\n",
       "      <th>Protein3</th>\n",
       "      <th>Protein4</th>\n",
       "      <th>Tumour_Stage</th>\n",
       "      <th>Histology</th>\n",
       "      <th>HER2 status</th>\n",
       "      <th>Surgery_type</th>\n",
       "      <th>Patient_Status</th>\n",
       "      <th>prediction_label</th>\n",
       "      <th>prediction_score</th>\n",
       "    </tr>\n",
       "  </thead>\n",
       "  <tbody>\n",
       "    <tr>\n",
       "      <th>329</th>\n",
       "      <td>36.0</td>\n",
       "      <td>FEMALE</td>\n",
       "      <td>0.23180</td>\n",
       "      <td>0.61804</td>\n",
       "      <td>-0.55779</td>\n",
       "      <td>-0.517350</td>\n",
       "      <td>III</td>\n",
       "      <td>Infiltrating Ductal Carcinoma</td>\n",
       "      <td>Positive</td>\n",
       "      <td>Simple Mastectomy</td>\n",
       "      <td>1</td>\n",
       "      <td>Dead</td>\n",
       "      <td>1.00</td>\n",
       "    </tr>\n",
       "    <tr>\n",
       "      <th>330</th>\n",
       "      <td>44.0</td>\n",
       "      <td>MALE</td>\n",
       "      <td>0.73272</td>\n",
       "      <td>1.11170</td>\n",
       "      <td>-0.26952</td>\n",
       "      <td>-0.354920</td>\n",
       "      <td>II</td>\n",
       "      <td>Infiltrating Lobular Carcinoma</td>\n",
       "      <td>Negative</td>\n",
       "      <td>Other</td>\n",
       "      <td>1</td>\n",
       "      <td>Dead</td>\n",
       "      <td>1.00</td>\n",
       "    </tr>\n",
       "    <tr>\n",
       "      <th>331</th>\n",
       "      <td>61.0</td>\n",
       "      <td>FEMALE</td>\n",
       "      <td>-0.71947</td>\n",
       "      <td>2.54850</td>\n",
       "      <td>-0.15024</td>\n",
       "      <td>0.339680</td>\n",
       "      <td>II</td>\n",
       "      <td>Infiltrating Ductal Carcinoma</td>\n",
       "      <td>Negative</td>\n",
       "      <td>Lumpectomy</td>\n",
       "      <td>1</td>\n",
       "      <td>Dead</td>\n",
       "      <td>1.00</td>\n",
       "    </tr>\n",
       "    <tr>\n",
       "      <th>332</th>\n",
       "      <td>79.0</td>\n",
       "      <td>FEMALE</td>\n",
       "      <td>0.47940</td>\n",
       "      <td>2.05590</td>\n",
       "      <td>-0.53136</td>\n",
       "      <td>-0.188480</td>\n",
       "      <td>I</td>\n",
       "      <td>Infiltrating Ductal Carcinoma</td>\n",
       "      <td>Positive</td>\n",
       "      <td>Lumpectomy</td>\n",
       "      <td>1</td>\n",
       "      <td>Dead</td>\n",
       "      <td>1.00</td>\n",
       "    </tr>\n",
       "    <tr>\n",
       "      <th>333</th>\n",
       "      <td>76.0</td>\n",
       "      <td>FEMALE</td>\n",
       "      <td>-0.24427</td>\n",
       "      <td>0.92556</td>\n",
       "      <td>-0.41823</td>\n",
       "      <td>-0.067848</td>\n",
       "      <td>I</td>\n",
       "      <td>Infiltrating Ductal Carcinoma</td>\n",
       "      <td>Negative</td>\n",
       "      <td>Lumpectomy</td>\n",
       "      <td>1</td>\n",
       "      <td>Alive</td>\n",
       "      <td>0.97</td>\n",
       "    </tr>\n",
       "  </tbody>\n",
       "</table>\n",
       "</div>"
      ],
      "text/plain": [
       "      Age  Gender  Protein1  Protein2  Protein3  Protein4 Tumour_Stage  \\\n",
       "329  36.0  FEMALE   0.23180   0.61804  -0.55779 -0.517350          III   \n",
       "330  44.0    MALE   0.73272   1.11170  -0.26952 -0.354920           II   \n",
       "331  61.0  FEMALE  -0.71947   2.54850  -0.15024  0.339680           II   \n",
       "332  79.0  FEMALE   0.47940   2.05590  -0.53136 -0.188480            I   \n",
       "333  76.0  FEMALE  -0.24427   0.92556  -0.41823 -0.067848            I   \n",
       "\n",
       "                          Histology HER2 status       Surgery_type  \\\n",
       "329   Infiltrating Ductal Carcinoma    Positive  Simple Mastectomy   \n",
       "330  Infiltrating Lobular Carcinoma    Negative              Other   \n",
       "331   Infiltrating Ductal Carcinoma    Negative         Lumpectomy   \n",
       "332   Infiltrating Ductal Carcinoma    Positive         Lumpectomy   \n",
       "333   Infiltrating Ductal Carcinoma    Negative         Lumpectomy   \n",
       "\n",
       "     Patient_Status prediction_label  prediction_score  \n",
       "329               1             Dead              1.00  \n",
       "330               1             Dead              1.00  \n",
       "331               1             Dead              1.00  \n",
       "332               1             Dead              1.00  \n",
       "333               1            Alive              0.97  "
      ]
     },
     "execution_count": 61,
     "metadata": {},
     "output_type": "execute_result"
    }
   ],
   "source": [
    "unseen_predictions.tail()"
   ]
  },
  {
   "cell_type": "markdown",
   "id": "4e28fb67",
   "metadata": {},
   "source": [
    "# Save the Extra Trees Classifier model"
   ]
  },
  {
   "cell_type": "code",
   "execution_count": 62,
   "id": "e564f5dc",
   "metadata": {},
   "outputs": [
    {
     "name": "stdout",
     "output_type": "stream",
     "text": [
      "Transformation Pipeline and Model Successfully Saved\n"
     ]
    },
    {
     "data": {
      "text/plain": [
       "(Pipeline(memory=Memory(location=None),\n",
       "          steps=[('label_encoding',\n",
       "                  TransformerWrapperWithInverse(exclude=None, include=None,\n",
       "                                                transformer=LabelEncoder())),\n",
       "                 ('numerical_imputer',\n",
       "                  TransformerWrapper(exclude=None,\n",
       "                                     include=['Age', 'Protein1', 'Protein2',\n",
       "                                              'Protein3', 'Protein4'],\n",
       "                                     transformer=SimpleImputer(add_indicator=False,\n",
       "                                                               copy=True,\n",
       "                                                               fill_value=None,\n",
       "                                                               missing_values=na...\n",
       "                  ExtraTreesClassifier(bootstrap=False, ccp_alpha=0.0,\n",
       "                                       class_weight=None, criterion='gini',\n",
       "                                       max_depth=None, max_features='auto',\n",
       "                                       max_leaf_nodes=None, max_samples=None,\n",
       "                                       min_impurity_decrease=0.0,\n",
       "                                       min_samples_leaf=1, min_samples_split=2,\n",
       "                                       min_weight_fraction_leaf=0.0,\n",
       "                                       n_estimators=100, n_jobs=-1,\n",
       "                                       oob_score=False, random_state=2537,\n",
       "                                       verbose=0, warm_start=False))],\n",
       "          verbose=False),\n",
       " 'model_et.pkl')"
      ]
     },
     "execution_count": 62,
     "metadata": {},
     "output_type": "execute_result"
    }
   ],
   "source": [
    "save_model(et, 'model_et')"
   ]
  },
  {
   "cell_type": "code",
   "execution_count": 63,
   "id": "332ad803",
   "metadata": {},
   "outputs": [
    {
     "name": "stdout",
     "output_type": "stream",
     "text": [
      "Transformation Pipeline and Model Successfully Loaded\n"
     ]
    }
   ],
   "source": [
    "loaded_model = load_model('model_et')"
   ]
  },
  {
   "cell_type": "code",
   "execution_count": 64,
   "id": "56ebe00e",
   "metadata": {},
   "outputs": [
    {
     "data": {
      "text/html": [
       "<style type=\"text/css\">\n",
       "</style>\n",
       "<table id=\"T_14086\">\n",
       "  <thead>\n",
       "    <tr>\n",
       "      <th class=\"blank level0\" >&nbsp;</th>\n",
       "      <th id=\"T_14086_level0_col0\" class=\"col_heading level0 col0\" >Model</th>\n",
       "      <th id=\"T_14086_level0_col1\" class=\"col_heading level0 col1\" >Accuracy</th>\n",
       "      <th id=\"T_14086_level0_col2\" class=\"col_heading level0 col2\" >AUC</th>\n",
       "      <th id=\"T_14086_level0_col3\" class=\"col_heading level0 col3\" >Recall</th>\n",
       "      <th id=\"T_14086_level0_col4\" class=\"col_heading level0 col4\" >Prec.</th>\n",
       "      <th id=\"T_14086_level0_col5\" class=\"col_heading level0 col5\" >F1</th>\n",
       "      <th id=\"T_14086_level0_col6\" class=\"col_heading level0 col6\" >Kappa</th>\n",
       "      <th id=\"T_14086_level0_col7\" class=\"col_heading level0 col7\" >MCC</th>\n",
       "    </tr>\n",
       "  </thead>\n",
       "  <tbody>\n",
       "    <tr>\n",
       "      <th id=\"T_14086_level0_row0\" class=\"row_heading level0 row0\" >0</th>\n",
       "      <td id=\"T_14086_row0_col0\" class=\"data row0 col0\" >Extra Trees Classifier</td>\n",
       "      <td id=\"T_14086_row0_col1\" class=\"data row0 col1\" >0.9716</td>\n",
       "      <td id=\"T_14086_row0_col2\" class=\"data row0 col2\" >0.9920</td>\n",
       "      <td id=\"T_14086_row0_col3\" class=\"data row0 col3\" >0.9716</td>\n",
       "      <td id=\"T_14086_row0_col4\" class=\"data row0 col4\" >0.9731</td>\n",
       "      <td id=\"T_14086_row0_col5\" class=\"data row0 col5\" >0.9720</td>\n",
       "      <td id=\"T_14086_row0_col6\" class=\"data row0 col6\" >0.9124</td>\n",
       "      <td id=\"T_14086_row0_col7\" class=\"data row0 col7\" >0.9135</td>\n",
       "    </tr>\n",
       "  </tbody>\n",
       "</table>\n"
      ],
      "text/plain": [
       "<pandas.io.formats.style.Styler at 0x23ffd15d5b0>"
      ]
     },
     "metadata": {},
     "output_type": "display_data"
    },
    {
     "data": {
      "text/html": [
       "<div>\n",
       "<style scoped>\n",
       "    .dataframe tbody tr th:only-of-type {\n",
       "        vertical-align: middle;\n",
       "    }\n",
       "\n",
       "    .dataframe tbody tr th {\n",
       "        vertical-align: top;\n",
       "    }\n",
       "\n",
       "    .dataframe thead th {\n",
       "        text-align: right;\n",
       "    }\n",
       "</style>\n",
       "<table border=\"1\" class=\"dataframe\">\n",
       "  <thead>\n",
       "    <tr style=\"text-align: right;\">\n",
       "      <th></th>\n",
       "      <th>Age</th>\n",
       "      <th>Gender</th>\n",
       "      <th>Protein1</th>\n",
       "      <th>Protein2</th>\n",
       "      <th>Protein3</th>\n",
       "      <th>Protein4</th>\n",
       "      <th>Tumour_Stage</th>\n",
       "      <th>Histology</th>\n",
       "      <th>HER2 status</th>\n",
       "      <th>Surgery_type</th>\n",
       "      <th>Patient_Status</th>\n",
       "      <th>prediction_label</th>\n",
       "      <th>prediction_score</th>\n",
       "    </tr>\n",
       "  </thead>\n",
       "  <tbody>\n",
       "    <tr>\n",
       "      <th>0</th>\n",
       "      <td>36.0</td>\n",
       "      <td>FEMALE</td>\n",
       "      <td>0.080353</td>\n",
       "      <td>0.42638</td>\n",
       "      <td>0.54715</td>\n",
       "      <td>0.273680</td>\n",
       "      <td>III</td>\n",
       "      <td>Infiltrating Ductal Carcinoma</td>\n",
       "      <td>Negative</td>\n",
       "      <td>Modified Radical Mastectomy</td>\n",
       "      <td>0</td>\n",
       "      <td>Alive</td>\n",
       "      <td>1.00</td>\n",
       "    </tr>\n",
       "    <tr>\n",
       "      <th>1</th>\n",
       "      <td>43.0</td>\n",
       "      <td>FEMALE</td>\n",
       "      <td>-0.420320</td>\n",
       "      <td>0.57807</td>\n",
       "      <td>0.61447</td>\n",
       "      <td>-0.031505</td>\n",
       "      <td>II</td>\n",
       "      <td>Mucinous Carcinoma</td>\n",
       "      <td>Negative</td>\n",
       "      <td>Lumpectomy</td>\n",
       "      <td>1</td>\n",
       "      <td>Dead</td>\n",
       "      <td>1.00</td>\n",
       "    </tr>\n",
       "    <tr>\n",
       "      <th>2</th>\n",
       "      <td>69.0</td>\n",
       "      <td>FEMALE</td>\n",
       "      <td>0.213980</td>\n",
       "      <td>1.31140</td>\n",
       "      <td>-0.32747</td>\n",
       "      <td>-0.234260</td>\n",
       "      <td>III</td>\n",
       "      <td>Infiltrating Ductal Carcinoma</td>\n",
       "      <td>Negative</td>\n",
       "      <td>Other</td>\n",
       "      <td>0</td>\n",
       "      <td>Alive</td>\n",
       "      <td>0.79</td>\n",
       "    </tr>\n",
       "    <tr>\n",
       "      <th>3</th>\n",
       "      <td>56.0</td>\n",
       "      <td>FEMALE</td>\n",
       "      <td>0.345090</td>\n",
       "      <td>-0.21147</td>\n",
       "      <td>-0.19304</td>\n",
       "      <td>0.124270</td>\n",
       "      <td>II</td>\n",
       "      <td>Infiltrating Ductal Carcinoma</td>\n",
       "      <td>Negative</td>\n",
       "      <td>Modified Radical Mastectomy</td>\n",
       "      <td>0</td>\n",
       "      <td>Alive</td>\n",
       "      <td>1.00</td>\n",
       "    </tr>\n",
       "    <tr>\n",
       "      <th>4</th>\n",
       "      <td>56.0</td>\n",
       "      <td>FEMALE</td>\n",
       "      <td>0.221550</td>\n",
       "      <td>1.90680</td>\n",
       "      <td>0.52045</td>\n",
       "      <td>-0.311990</td>\n",
       "      <td>II</td>\n",
       "      <td>Infiltrating Ductal Carcinoma</td>\n",
       "      <td>Negative</td>\n",
       "      <td>Other</td>\n",
       "      <td>1</td>\n",
       "      <td>Dead</td>\n",
       "      <td>1.00</td>\n",
       "    </tr>\n",
       "  </tbody>\n",
       "</table>\n",
       "</div>"
      ],
      "text/plain": [
       "    Age  Gender  Protein1  Protein2  Protein3  Protein4 Tumour_Stage  \\\n",
       "0  36.0  FEMALE  0.080353   0.42638   0.54715  0.273680          III   \n",
       "1  43.0  FEMALE -0.420320   0.57807   0.61447 -0.031505           II   \n",
       "2  69.0  FEMALE  0.213980   1.31140  -0.32747 -0.234260          III   \n",
       "3  56.0  FEMALE  0.345090  -0.21147  -0.19304  0.124270           II   \n",
       "4  56.0  FEMALE  0.221550   1.90680   0.52045 -0.311990           II   \n",
       "\n",
       "                       Histology HER2 status                 Surgery_type  \\\n",
       "0  Infiltrating Ductal Carcinoma    Negative  Modified Radical Mastectomy   \n",
       "1             Mucinous Carcinoma    Negative                   Lumpectomy   \n",
       "2  Infiltrating Ductal Carcinoma    Negative                        Other   \n",
       "3  Infiltrating Ductal Carcinoma    Negative  Modified Radical Mastectomy   \n",
       "4  Infiltrating Ductal Carcinoma    Negative                        Other   \n",
       "\n",
       "   Patient_Status prediction_label  prediction_score  \n",
       "0               0            Alive              1.00  \n",
       "1               1             Dead              1.00  \n",
       "2               0            Alive              0.79  \n",
       "3               0            Alive              1.00  \n",
       "4               1             Dead              1.00  "
      ]
     },
     "execution_count": 64,
     "metadata": {},
     "output_type": "execute_result"
    }
   ],
   "source": [
    "unseen_predictions = predict_model(loaded_model, data = df)\n",
    "unseen_predictions.head()"
   ]
  },
  {
   "cell_type": "markdown",
   "id": "7f22c57d",
   "metadata": {},
   "source": [
    "To Learn Data Science, Visit: https://aiquest.org/\n",
    "\n",
    "Contact: +8801704265972"
   ]
  }
 ],
 "metadata": {
  "kernelspec": {
   "display_name": "Python 3 (ipykernel)",
   "language": "python",
   "name": "python3"
  },
  "language_info": {
   "codemirror_mode": {
    "name": "ipython",
    "version": 3
   },
   "file_extension": ".py",
   "mimetype": "text/x-python",
   "name": "python",
   "nbconvert_exporter": "python",
   "pygments_lexer": "ipython3",
   "version": "3.11.6"
  }
 },
 "nbformat": 4,
 "nbformat_minor": 5
}
